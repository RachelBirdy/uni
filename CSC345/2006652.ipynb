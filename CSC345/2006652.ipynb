{
 "cells": [
  {
   "cell_type": "markdown",
   "id": "6c493c7e-552d-4970-80ff-1af41ca0c3b1",
   "metadata": {},
   "source": [
    "# <ins>CS-345 Coursework</ins>\n",
    "### Rachel Newton-John - 2006652\n",
    "This notebook creates and trains two machine learning models on the CIFAR100 dataset. The first is a state vector machine being trained on a set of features extracted from the image set. The second is a convolutional neural network.\n",
    "\n",
    "<i>This notebook takes several hours the first time it is run. It saves intermediary values to disk to make subsequent runs shorter, but this means it also requires a significant amount of free disk space. It also uses a lot of memory, and will not work with less than 32GB of RAM</i>"
   ]
  },
  {
   "cell_type": "code",
   "execution_count": 21,
   "id": "03479786-e0b6-410a-b027-6eb3029f8a25",
   "metadata": {},
   "outputs": [],
   "source": [
    "import tensorflow as tf\n",
    "import numpy as np\n",
    "import matplotlib.pyplot as plt\n",
    "import skimage.feature\n",
    "from sklearn.linear_model import SGDClassifier\n",
    "from os.path import exists\n",
    "import gc\n",
    "from sklearn.svm import SVC\n",
    "import sklearn.decomposition as decomp\n",
    "from IPython.display import display, HTML"
   ]
  },
  {
   "cell_type": "code",
   "execution_count": 2,
   "id": "082a13dc-9eeb-489e-9eef-fd9834ad75c5",
   "metadata": {},
   "outputs": [],
   "source": [
    "# A function to display statistics about a trained neural networks performance. Saves some code repetition later in the notebook.\n",
    "def displayHistory(results, history):\n",
    "    print(f'Test set loss: {results[0]:0.2f}, test set accuracy: {results[1]*100:0.2f}%')\n",
    "    plt.figure(figsize=[10,5])\n",
    "    plt.subplot(121)\n",
    "    plt.plot(history.history['sparse_categorical_accuracy'])\n",
    "    plt.plot(history.history['val_sparse_categorical_accuracy'])\n",
    "    plt.xlabel('Epoch')\n",
    "    plt.ylabel('Accuracy')\n",
    "    plt.legend(['Training Accuracy',\n",
    "               'Validation Accuracy'])\n",
    "    plt.title('Accuracy Curves')\n",
    "\n",
    "    plt.subplot(122)\n",
    "    plt.plot(history.history['loss'])\n",
    "    plt.plot(history.history['val_loss'])\n",
    "    plt.xlabel('Epoch')\n",
    "    plt.ylabel('Loss')\n",
    "    plt.legend(['Training Loss',\n",
    "               'Validation Loss'])\n",
    "    plt.title('Loss Curves')\n",
    "    plt.show()"
   ]
  },
  {
   "cell_type": "markdown",
   "id": "4929b911-64cb-412a-b458-8d9383a1ceb4",
   "metadata": {},
   "source": [
    "# Method 1 - Support Vector Machine\n",
    "The first method of image classification that will be examined is training a support vector machine on an extracted set of features from the set of images that's been dimensionally reduced to improve efficiency. This will be done on both the fine classes and superclasses, and with varying degrees of dimensionality reduction on the output to assess it's impact on the end result."
   ]
  },
  {
   "cell_type": "markdown",
   "id": "3ae79dd4-a4a8-4f6f-a924-73f62e38c515",
   "metadata": {},
   "source": [
    "## <ins>Preprocessing</ins>\n",
    "#### <i>A Note On Code Structure...</i>\n",
    "The loading and preprocessing of training and testing data is handled in separate sections in this notebook, with intermediary values being saved to and loaded from disk at various points. This is intentional, and it is done to reduce RAM usage so that the maximum amount of the dataset possible can be used to train the model but means that running the notebook requires a significant amount of available disk space. Principal component analysis is done on an incomplete subset of the training data for the same reason."
   ]
  },
  {
   "cell_type": "markdown",
   "id": "5854e29d-7118-4861-8a90-b7279640f5e6",
   "metadata": {},
   "source": [
    "## Loading and extracting features from the data\n",
    "Firstly, features must be extracted from the dataset. SKLearn's histogram of oriented gradients extractor is used for this, outputting for each image a flattened array of feature vectors that can be later used to train an SVM"
   ]
  },
  {
   "cell_type": "code",
   "execution_count": 22,
   "id": "2fba6258-2049-4d5c-99cc-27749599e618",
   "metadata": {},
   "outputs": [],
   "source": [
    "trnLabelsCoarse = np.load(\"trnLabel_coarse.npy\")\n",
    "trnLabelsFine = np.load(\"trnLabel_fine.npy\")\n",
    "if (exists(\"trn_feature.npy\")):\n",
    "    trn_feature = np.load(\"trn_feature.npy\")\n",
    "else:\n",
    "    trn_feature = np.ndarray(shape=(len(trnData),15876))\n",
    "    trnData = np.load(\"trnImage.npy\")\n",
    "    trnData = np.moveaxis(trnData, (0,1,2,3), (1,2,3,0))\n",
    "    for i in range(len(trnData)):\n",
    "        trn_feature[i], hog_image = skimage.feature.hog(trnData[i], channel_axis=2, pixels_per_cell=[2,2], cells_per_block=[3,3], visualize=True)\n",
    "    np.save(\"trn_feature\", trn_feature)\n",
    "    del(trnData)"
   ]
  },
  {
   "cell_type": "markdown",
   "id": "2bc8188e-9448-4907-b2e2-b818a0932952",
   "metadata": {},
   "source": [
    "### Performing dimensionality reduction using Principal Component Analysis\n",
    "The extracted features data when flattened has 15876 values per image. This can, however, be transformed in such a way that the majority of these dimensions contribute little to no information to the final outcome. Setting a threshold after which to discard data will make the dataset easier to work with.\n",
    "\n",
    "This is also a very slow process, so we save the results to avoid having to recompute them."
   ]
  },
  {
   "cell_type": "code",
   "execution_count": 23,
   "id": "c5fcf124-9945-4bd9-800e-9945decdad96",
   "metadata": {},
   "outputs": [],
   "source": [
    "if (not exists(\"trn_transformed.npy\") or not exists(\"tst_transformed.npy\")):\n",
    "    feature_PCA = decomp.PCA()\n",
    "    feature_PCA.fit(trn_feature[:45000])\n",
    "    np.save(\"variance\", feature_PCA.explained_variance_ratio_)\n"
   ]
  },
  {
   "cell_type": "code",
   "execution_count": 24,
   "id": "1ee83f82-c250-4f94-9bd7-fd31d4169349",
   "metadata": {},
   "outputs": [],
   "source": [
    "if (not exists(\"trn_transformed.npy\")):\n",
    "    trn_transformed = feature_PCA.transform(trn_feature)\n",
    "    np.save(\"trn_transformed\", trn_transformed)\n",
    "else:\n",
    "    trn_transformed = np.load(\"trn_transformed.npy\")\n"
   ]
  },
  {
   "cell_type": "code",
   "execution_count": 25,
   "id": "d2d1ee7d-a4f6-4859-af88-3c5b8242165e",
   "metadata": {},
   "outputs": [],
   "source": [
    "tstData = np.load(\"tstImage.npy\")\n",
    "tstData = np.moveaxis(tstData, (0,1,2,3), (1,2,3,0))\n",
    "tstLabelsCoarse = np.load(\"tstLabel_coarse.npy\")\n",
    "tstLabelsFine = np.load(\"tstLabel_fine.npy\")\n",
    "if (exists(\"tst_feature.npy\")):\n",
    "    tst_feature = np.load(\"tst_feature.npy\")\n",
    "else:\n",
    "    tst_feature = np.ndarray(shape=(len(tstData),15876))\n",
    "    for i in range(len(tstData)):\n",
    "        tst_feature[i,:], tst_image = skimage.feature.hog(tstData[i], channel_axis=2, pixels_per_cell=[2,2], cells_per_block=[3,3], visualize=True)\n",
    "    np.save(\"tst_feature\", tst_feature)"
   ]
  },
  {
   "cell_type": "code",
   "execution_count": 26,
   "id": "cfa1830f-0762-4765-827b-677686e9a22a",
   "metadata": {},
   "outputs": [],
   "source": [
    "if (not exists(\"tst_transformed.npy\")):\n",
    "    tst_transformed = feature_PCA.transform(tst_feature)\n",
    "    np.save(\"tst_transformed\", tst_transformed)\n",
    "else:\n",
    "    tst_transformed = np.load(\"tst_transformed.npy\")\n"
   ]
  },
  {
   "cell_type": "markdown",
   "id": "3424d35f-a89c-4087-bc6f-70553d86a98b",
   "metadata": {},
   "source": [
    "### Reducing dimensions\n",
    "This determines a set of dimensionalities which preserve different amounts of the original data's variance, to train a set of SVM's on. The purpose of this is to determine the impact of different degrees of dimensionality reduction on the accuracy of the SVM. The set of variance values to be used can be altered by modifying the code below."
   ]
  },
  {
   "cell_type": "code",
   "execution_count": 27,
   "id": "3961c528-9675-455c-98f1-165fef6e4e66",
   "metadata": {},
   "outputs": [
    {
     "name": "stdout",
     "output_type": "stream",
     "text": [
      "0.62016076744644 of the variance can be preserved in 709 dimensions.\n",
      "0.6602215546280262 of the variance can be preserved in 803 dimensions.\n",
      "0.7003268688118857 of the variance can be preserved in 903 dimensions.\n",
      "0.7401412621456527 of the variance can be preserved in 1009 dimensions.\n",
      "0.7800035422953102 of the variance can be preserved in 1123 dimensions.\n",
      "0.8200782642863965 of the variance can be preserved in 1248 dimensions.\n",
      "0.860080780946862 of the variance can be preserved in 1389 dimensions.\n",
      "0.9000946967310257 of the variance can be preserved in 1561 dimensions.\n",
      "0.9400830296053774 of the variance can be preserved in 1839 dimensions.\n",
      "0.9800063854619302 of the variance can be preserved in 2916 dimensions.\n"
     ]
    }
   ],
   "source": [
    "VARIANCE_THRESHOLD = 0.62\n",
    "\n",
    "variance = np.load(\"variance.npy\")\n",
    "\n",
    "dim_number = [1] * 10\n",
    "for i in range(10):\n",
    "    totVar = 0\n",
    "    while (totVar <= VARIANCE_THRESHOLD):\n",
    "        dim_number[i] += 1\n",
    "        totVar = sum(variance[:dim_number[i]])\n",
    "    VARIANCE_THRESHOLD += 0.04\n",
    "    print(totVar, \"of the variance can be preserved in\", dim_number[i], \"dimensions.\")"
   ]
  },
  {
   "cell_type": "markdown",
   "id": "a75db2f1-c6eb-4fe0-8dad-31341d32e87b",
   "metadata": {},
   "source": [
    "## Training the SVM\n",
    "With the data transformed using PCA and the thresholds that we can use for varying degrees of dimensionality reduction established, we can now train the SVM on this data.\n",
    "### Training on the superclasses\n",
    "First, we will attempt to train 10 SVM's on the data with different variance thresholds, to determine the impact of discarding more and more data on the accuracy of the classifier. In theory, this is a tradeoff between accuracy and computational complexity."
   ]
  },
  {
   "cell_type": "code",
   "execution_count": 34,
   "id": "a05ae58f-dea7-4d0f-b459-a393a16ac006",
   "metadata": {},
   "outputs": [
    {
     "name": "stdout",
     "output_type": "stream",
     "text": [
      "Training with 709 dimensions.\n",
      "Training took 129 iterations.\n",
      "Training with 803 dimensions.\n",
      "Training took 132 iterations.\n",
      "Training with 903 dimensions.\n",
      "Training took 129 iterations.\n",
      "Training with 1009 dimensions.\n",
      "Training took 133 iterations.\n",
      "Training with 1123 dimensions.\n",
      "Training took 143 iterations.\n",
      "Training with 1248 dimensions.\n",
      "Training took 148 iterations.\n",
      "Training with 1389 dimensions.\n",
      "Training took 143 iterations.\n",
      "Training with 1561 dimensions.\n",
      "Training took 155 iterations.\n",
      "Training with 1839 dimensions.\n",
      "Training took 629 iterations.\n",
      "Training with 2916 dimensions.\n",
      "Training took 5000 iterations.\n"
     ]
    },
    {
     "name": "stderr",
     "output_type": "stream",
     "text": [
      "/home/rachel/src/venv/bdml/lib/python3.10/site-packages/sklearn/linear_model/_stochastic_gradient.py:704: ConvergenceWarning: Maximum number of iteration reached before convergence. Consider increasing max_iter to improve the fit.\n",
      "  warnings.warn(\n"
     ]
    }
   ],
   "source": [
    "SupportVecClass_coarse = [None] * 10\n",
    "for i in range(10):\n",
    "    print(\"Training with\", dim_number[i], \"dimensions.\")\n",
    "    SupportVecClass_coarse[i] = SGDClassifier(n_jobs=-1, loss='squared_hinge', max_iter=5000)\n",
    "    SupportVecClass_coarse[i].fit(trn_transformed[:,:dim_number[i]], trnLabelsCoarse)\n",
    "    print(\"Training took\", SupportVecClass_coarse[i].n_iter_, \"iterations.\")"
   ]
  },
  {
   "cell_type": "markdown",
   "id": "a5cdb3c3-d564-44f0-bd62-da312c61b32d",
   "metadata": {},
   "source": [
    "### Scoring the results\n",
    "An SVM with enough dimensions to preserve 0.98 of the variance doesn't converge within the 5000 iteration limit set when the SVM's were created. This means it iterated on the dataset 5000 times, and then stopped, rather than stopping when the weights became stable and stopped changing."
   ]
  },
  {
   "cell_type": "code",
   "execution_count": 35,
   "id": "075239d8-6b7d-47cb-845d-db1373684dc3",
   "metadata": {},
   "outputs": [
    {
     "name": "stdout",
     "output_type": "stream",
     "text": [
      "0.2176\n",
      "0.213\n",
      "0.2186\n",
      "0.2165\n",
      "0.2125\n",
      "0.223\n",
      "0.2174\n",
      "0.2135\n",
      "0.2319\n",
      "0.1792\n"
     ]
    }
   ],
   "source": [
    "for i in range(10):\n",
    "    print(SupportVecClass_coarse[i].score(tst_transformed[:,:dim_number[i]], tstLabelsCoarse))"
   ]
  },
  {
   "cell_type": "markdown",
   "id": "cd217667-8bfb-4f3a-8975-234f90c3f7a9",
   "metadata": {},
   "source": [
    "The results of this show that from 0.64 up to 0.90 of the original variance being preserved, discarding additional data doesn't have any significant impact on the accuracy of the classifier either way, with it staying at 21%. With 0.94 variance the accuracy increases to 23.2%, however. The final value, the accuracy for 0.98 variance, is the value that the SVM reached before it was terminated prematurely. If the iteration limit were higher, it would keep going and refine that value further.\n",
    "\n",
    "### Creating a new coarse categorization SVM\n",
    "To allow the above, very time consuming section to be skipped after it's been run once, the actual SVM we use to classify the data will be created and trained below."
   ]
  },
  {
   "cell_type": "code",
   "execution_count": 28,
   "id": "856045d8-a345-485c-bca6-2142f7e461c5",
   "metadata": {},
   "outputs": [
    {
     "data": {
      "text/html": [
       "<style>#sk-container-id-1 {color: black;background-color: white;}#sk-container-id-1 pre{padding: 0;}#sk-container-id-1 div.sk-toggleable {background-color: white;}#sk-container-id-1 label.sk-toggleable__label {cursor: pointer;display: block;width: 100%;margin-bottom: 0;padding: 0.3em;box-sizing: border-box;text-align: center;}#sk-container-id-1 label.sk-toggleable__label-arrow:before {content: \"▸\";float: left;margin-right: 0.25em;color: #696969;}#sk-container-id-1 label.sk-toggleable__label-arrow:hover:before {color: black;}#sk-container-id-1 div.sk-estimator:hover label.sk-toggleable__label-arrow:before {color: black;}#sk-container-id-1 div.sk-toggleable__content {max-height: 0;max-width: 0;overflow: hidden;text-align: left;background-color: #f0f8ff;}#sk-container-id-1 div.sk-toggleable__content pre {margin: 0.2em;color: black;border-radius: 0.25em;background-color: #f0f8ff;}#sk-container-id-1 input.sk-toggleable__control:checked~div.sk-toggleable__content {max-height: 200px;max-width: 100%;overflow: auto;}#sk-container-id-1 input.sk-toggleable__control:checked~label.sk-toggleable__label-arrow:before {content: \"▾\";}#sk-container-id-1 div.sk-estimator input.sk-toggleable__control:checked~label.sk-toggleable__label {background-color: #d4ebff;}#sk-container-id-1 div.sk-label input.sk-toggleable__control:checked~label.sk-toggleable__label {background-color: #d4ebff;}#sk-container-id-1 input.sk-hidden--visually {border: 0;clip: rect(1px 1px 1px 1px);clip: rect(1px, 1px, 1px, 1px);height: 1px;margin: -1px;overflow: hidden;padding: 0;position: absolute;width: 1px;}#sk-container-id-1 div.sk-estimator {font-family: monospace;background-color: #f0f8ff;border: 1px dotted black;border-radius: 0.25em;box-sizing: border-box;margin-bottom: 0.5em;}#sk-container-id-1 div.sk-estimator:hover {background-color: #d4ebff;}#sk-container-id-1 div.sk-parallel-item::after {content: \"\";width: 100%;border-bottom: 1px solid gray;flex-grow: 1;}#sk-container-id-1 div.sk-label:hover label.sk-toggleable__label {background-color: #d4ebff;}#sk-container-id-1 div.sk-serial::before {content: \"\";position: absolute;border-left: 1px solid gray;box-sizing: border-box;top: 0;bottom: 0;left: 50%;z-index: 0;}#sk-container-id-1 div.sk-serial {display: flex;flex-direction: column;align-items: center;background-color: white;padding-right: 0.2em;padding-left: 0.2em;position: relative;}#sk-container-id-1 div.sk-item {position: relative;z-index: 1;}#sk-container-id-1 div.sk-parallel {display: flex;align-items: stretch;justify-content: center;background-color: white;position: relative;}#sk-container-id-1 div.sk-item::before, #sk-container-id-1 div.sk-parallel-item::before {content: \"\";position: absolute;border-left: 1px solid gray;box-sizing: border-box;top: 0;bottom: 0;left: 50%;z-index: -1;}#sk-container-id-1 div.sk-parallel-item {display: flex;flex-direction: column;z-index: 1;position: relative;background-color: white;}#sk-container-id-1 div.sk-parallel-item:first-child::after {align-self: flex-end;width: 50%;}#sk-container-id-1 div.sk-parallel-item:last-child::after {align-self: flex-start;width: 50%;}#sk-container-id-1 div.sk-parallel-item:only-child::after {width: 0;}#sk-container-id-1 div.sk-dashed-wrapped {border: 1px dashed gray;margin: 0 0.4em 0.5em 0.4em;box-sizing: border-box;padding-bottom: 0.4em;background-color: white;}#sk-container-id-1 div.sk-label label {font-family: monospace;font-weight: bold;display: inline-block;line-height: 1.2em;}#sk-container-id-1 div.sk-label-container {text-align: center;}#sk-container-id-1 div.sk-container {/* jupyter's `normalize.less` sets `[hidden] { display: none; }` but bootstrap.min.css set `[hidden] { display: none !important; }` so we also need the `!important` here to be able to override the default hidden behavior on the sphinx rendered scikit-learn.org. See: https://github.com/scikit-learn/scikit-learn/issues/21755 */display: inline-block !important;position: relative;}#sk-container-id-1 div.sk-text-repr-fallback {display: none;}</style><div id=\"sk-container-id-1\" class=\"sk-top-container\"><div class=\"sk-text-repr-fallback\"><pre>SGDClassifier(loss=&#x27;squared_hinge&#x27;, max_iter=5000, n_jobs=-1)</pre><b>In a Jupyter environment, please rerun this cell to show the HTML representation or trust the notebook. <br />On GitHub, the HTML representation is unable to render, please try loading this page with nbviewer.org.</b></div><div class=\"sk-container\" hidden><div class=\"sk-item\"><div class=\"sk-estimator sk-toggleable\"><input class=\"sk-toggleable__control sk-hidden--visually\" id=\"sk-estimator-id-1\" type=\"checkbox\" checked><label for=\"sk-estimator-id-1\" class=\"sk-toggleable__label sk-toggleable__label-arrow\">SGDClassifier</label><div class=\"sk-toggleable__content\"><pre>SGDClassifier(loss=&#x27;squared_hinge&#x27;, max_iter=5000, n_jobs=-1)</pre></div></div></div></div></div>"
      ],
      "text/plain": [
       "SGDClassifier(loss='squared_hinge', max_iter=5000, n_jobs=-1)"
      ]
     },
     "execution_count": 28,
     "metadata": {},
     "output_type": "execute_result"
    }
   ],
   "source": [
    "SVC_coarse = SGDClassifier(n_jobs=-1, loss='squared_hinge', max_iter=5000)\n",
    "SVC_coarse.fit(trn_transformed[:,:dim_number[8]], trnLabelsCoarse)\n"
   ]
  },
  {
   "cell_type": "markdown",
   "id": "05b12fdc-a790-41e5-8468-45fa54ca07a5",
   "metadata": {},
   "source": [
    "### Superclass Confusion Matrix"
   ]
  },
  {
   "cell_type": "code",
   "execution_count": 51,
   "id": "0afa9744-abd0-4156-9f42-8225e8a11bf6",
   "metadata": {},
   "outputs": [
    {
     "data": {
      "text/html": [
       "<style>div.output_area pre {white-space: pre;}</style>"
      ],
      "text/plain": [
       "<IPython.core.display.HTML object>"
      ]
     },
     "metadata": {},
     "output_type": "display_data"
    },
    {
     "name": "stdout",
     "output_type": "stream",
     "text": [
      "| 74 | 25 | 25 | 6  | 12 | 14 | 5  | 26 | 33 | 26 | 29 | 44 | 19 | 17 | 20 | 39 | 26 | 18 | 22 | 20 \n",
      "+----+----+----+----+----+----+----+----+----+----+----+----+----+----+----+----+----+----+----+----\n",
      "| 40 | 86 | 22 | 8  | 31 | 16 | 18 | 27 | 18 | 15 | 23 | 22 | 17 | 21 | 21 | 51 | 20 | 10 | 19 | 15 \n",
      "+----+----+----+----+----+----+----+----+----+----+----+----+----+----+----+----+----+----+----+----\n",
      "| 10 | 17 | 83 | 13 | 21 | 31 | 12 | 38 | 31 | 20 | 14 | 34 | 18 | 23 | 32 | 24 | 33 | 20 | 10 | 16 \n",
      "+----+----+----+----+----+----+----+----+----+----+----+----+----+----+----+----+----+----+----+----\n",
      "| 3  | 10 | 21 | 203| 19 | 48 | 34 | 12 | 17 | 13 | 6  | 15 | 5  | 13 | 23 | 7  | 12 | 3  | 18 | 18 \n",
      "+----+----+----+----+----+----+----+----+----+----+----+----+----+----+----+----+----+----+----+----\n",
      "| 16 | 19 | 38 | 42 | 99 | 24 | 11 | 21 | 30 | 16 | 11 | 21 | 21 | 20 | 28 | 20 | 19 | 11 | 23 | 10 \n",
      "+----+----+----+----+----+----+----+----+----+----+----+----+----+----+----+----+----+----+----+----\n",
      "| 7  | 23 | 22 | 45 | 21 | 129| 58 | 15 | 21 | 19 | 11 | 11 | 10 | 16 | 22 | 21 | 11 | 12 | 13 | 13 \n",
      "+----+----+----+----+----+----+----+----+----+----+----+----+----+----+----+----+----+----+----+----\n",
      "| 2  | 17 | 11 | 24 | 13 | 38 | 214| 8  | 14 | 24 | 14 | 11 | 3  | 7  | 16 | 16 | 7  | 12 | 23 | 26 \n",
      "+----+----+----+----+----+----+----+----+----+----+----+----+----+----+----+----+----+----+----+----\n",
      "| 18 | 30 | 43 | 12 | 20 | 13 | 8  | 94 | 33 | 13 | 12 | 21 | 32 | 30 | 19 | 45 | 18 | 12 | 10 | 17 \n",
      "+----+----+----+----+----+----+----+----+----+----+----+----+----+----+----+----+----+----+----+----\n",
      "| 19 | 8  | 36 | 10 | 24 | 16 | 11 | 30 | 103| 21 | 11 | 53 | 22 | 18 | 22 | 28 | 22 | 24 | 8  | 14 \n",
      "+----+----+----+----+----+----+----+----+----+----+----+----+----+----+----+----+----+----+----+----\n",
      "| 20 | 11 | 7  | 12 | 20 | 11 | 24 | 10 | 13 | 157| 47 | 32 | 11 | 6  | 8  | 23 | 11 | 30 | 27 | 20 \n",
      "+----+----+----+----+----+----+----+----+----+----+----+----+----+----+----+----+----+----+----+----\n",
      "| 32 | 18 | 16 | 3  | 18 | 11 | 10 | 14 | 20 | 41 | 171| 16 | 13 | 7  | 9  | 22 | 8  | 30 | 25 | 16 \n",
      "+----+----+----+----+----+----+----+----+----+----+----+----+----+----+----+----+----+----+----+----\n",
      "| 23 | 15 | 26 | 12 | 22 | 13 | 7  | 21 | 52 | 49 | 23 | 76 | 25 | 9  | 25 | 23 | 25 | 23 | 15 | 16 \n",
      "+----+----+----+----+----+----+----+----+----+----+----+----+----+----+----+----+----+----+----+----\n",
      "| 30 | 19 | 35 | 12 | 23 | 14 | 10 | 20 | 59 | 15 | 14 | 37 | 47 | 17 | 16 | 35 | 32 | 22 | 21 | 22 \n",
      "+----+----+----+----+----+----+----+----+----+----+----+----+----+----+----+----+----+----+----+----\n",
      "| 26 | 21 | 25 | 28 | 39 | 25 | 19 | 44 | 34 | 13 | 12 | 22 | 17 | 35 | 34 | 44 | 16 | 10 | 18 | 18 \n",
      "+----+----+----+----+----+----+----+----+----+----+----+----+----+----+----+----+----+----+----+----\n",
      "| 17 | 24 | 34 | 13 | 22 | 23 | 22 | 35 | 30 | 25 | 13 | 21 | 11 | 15 | 109| 22 | 21 | 14 | 13 | 16 \n",
      "+----+----+----+----+----+----+----+----+----+----+----+----+----+----+----+----+----+----+----+----\n",
      "| 36 | 28 | 23 | 13 | 24 | 19 | 13 | 38 | 25 | 12 | 21 | 25 | 23 | 22 | 17 | 69 | 10 | 29 | 32 | 21 \n",
      "+----+----+----+----+----+----+----+----+----+----+----+----+----+----+----+----+----+----+----+----\n",
      "| 28 | 15 | 36 | 14 | 26 | 20 | 12 | 30 | 47 | 21 | 13 | 38 | 29 | 20 | 22 | 41 | 49 | 15 | 15 | 9  \n",
      "+----+----+----+----+----+----+----+----+----+----+----+----+----+----+----+----+----+----+----+----\n",
      "| 14 | 3  | 7  | 3  | 7  | 15 | 10 | 13 | 22 | 20 | 19 | 28 | 8  | 3  | 13 | 19 | 6  | 270| 11 | 9  \n",
      "+----+----+----+----+----+----+----+----+----+----+----+----+----+----+----+----+----+----+----+----\n",
      "| 20 | 14 | 10 | 12 | 8  | 27 | 19 | 18 | 15 | 25 | 23 | 20 | 10 | 9  | 14 | 25 | 6  | 23 | 167| 35 \n",
      "+----+----+----+----+----+----+----+----+----+----+----+----+----+----+----+----+----+----+----+----\n",
      "| 16 | 7  | 8  | 18 | 16 | 23 | 31 | 18 | 19 | 41 | 38 | 24 | 13 | 11 | 15 | 17 | 7  | 24 | 57 | 97 \n",
      "+----+----+----+----+----+----+----+----+----+----+----+----+----+----+----+----+----+----+----+----\n"
     ]
    }
   ],
   "source": [
    "predict_SVC_coarse = SVC_coarse.predict(tst_transformed[:,:dim_number[8]])\n",
    "confusion_matrix_coarse = np.zeros(shape=(20,20), dtype=np.int16)\n",
    "for i in range(10000):\n",
    "    confusion_matrix_coarse[tstLabelsCoarse[i], predict_SVC_coarse[i]] += 1\n",
    "# This is some html trickery to prevent prints from wrapping, so that we can display more of the confusion matrix\n",
    "display(HTML(\"<style>div.output_area pre {white-space: pre;}</style>\"))\n",
    "\n",
    "for i in range(20):\n",
    "    for j in range(20):\n",
    "        print(\"|\", confusion_matrix_coarse[i, j], end = \"\")\n",
    "        if (confusion_matrix_coarse[i,j] < 10):\n",
    "            print(\" \", end=\"\")\n",
    "        if (confusion_matrix_coarse[i, j] < 100):\n",
    "            print(\" \", end=\"\")\n",
    "    print()\n",
    "    print(\"+----+----+----+----+----+----+----+----+----+----+----+----+----+----+----+----+----+----+----+----\")\n"
   ]
  },
  {
   "cell_type": "markdown",
   "id": "b0b0195b-1b60-401f-b52e-9b549893884f",
   "metadata": {},
   "source": [
    "The SVM trained on the superclasses has a sensitivity of 0.233 and a sinsitivity of 0.960. This is well below the benchmark accuract of 39.43%."
   ]
  },
  {
   "cell_type": "markdown",
   "id": "4129397e-920b-4d53-a578-b51bbf60915a",
   "metadata": {},
   "source": [
    "## Training on the fine categories\n",
    "#### <i>If you value your time, skip the following two code cells!</i>\n",
    "As with above, we will try to train a series of SVM's with different variances to assess it's impact on training accuracy..."
   ]
  },
  {
   "cell_type": "code",
   "execution_count": null,
   "id": "5a944f62-5152-4604-b7fa-dc631df718c4",
   "metadata": {},
   "outputs": [
    {
     "name": "stdout",
     "output_type": "stream",
     "text": [
      "Training with 709 dimensions.\n"
     ]
    },
    {
     "name": "stderr",
     "output_type": "stream",
     "text": [
      "/home/rachel/src/venv/bdml/lib/python3.10/site-packages/sklearn/linear_model/_stochastic_gradient.py:704: ConvergenceWarning: Maximum number of iteration reached before convergence. Consider increasing max_iter to improve the fit.\n",
      "  warnings.warn(\n"
     ]
    },
    {
     "name": "stdout",
     "output_type": "stream",
     "text": [
      "Training took 5000 iterations.\n",
      "Training with 803 dimensions.\n"
     ]
    },
    {
     "name": "stderr",
     "output_type": "stream",
     "text": [
      "/home/rachel/src/venv/bdml/lib/python3.10/site-packages/sklearn/linear_model/_stochastic_gradient.py:704: ConvergenceWarning: Maximum number of iteration reached before convergence. Consider increasing max_iter to improve the fit.\n",
      "  warnings.warn(\n"
     ]
    },
    {
     "name": "stdout",
     "output_type": "stream",
     "text": [
      "Training took 5000 iterations.\n",
      "Training with 903 dimensions.\n"
     ]
    },
    {
     "name": "stderr",
     "output_type": "stream",
     "text": [
      "/home/rachel/src/venv/bdml/lib/python3.10/site-packages/sklearn/linear_model/_stochastic_gradient.py:704: ConvergenceWarning: Maximum number of iteration reached before convergence. Consider increasing max_iter to improve the fit.\n",
      "  warnings.warn(\n"
     ]
    },
    {
     "name": "stdout",
     "output_type": "stream",
     "text": [
      "Training took 5000 iterations.\n",
      "Training with 1009 dimensions.\n"
     ]
    }
   ],
   "source": [
    "SupportVecClass_fine = [None] * 10\n",
    "for i in range(10):\n",
    "    print(\"Training with\", dim_number[i], \"dimensions.\")\n",
    "    SupportVecClass_fine[i] = SGDClassifier(n_jobs=-1, loss='squared_hinge', max_iter=5000)\n",
    "    SupportVecClass_fine[i].fit(trn_transformed[:,:dim_number[i]], trnLabelsFine)\n",
    "    print(\"Training took\", SupportVecClass_fine[i].n_iter_, \"iterations.\")"
   ]
  },
  {
   "cell_type": "markdown",
   "id": "647cf4ed-cf9c-415a-bb6d-1753760137d6",
   "metadata": {},
   "source": [
    "...however, being trained on the finer categories, it is failing to converge at any dimensionality. Furthermore, each individual attempt at training it can take over an hour before it finally does terminate."
   ]
  },
  {
   "cell_type": "code",
   "execution_count": null,
   "id": "138c418a-e2f7-4b16-b6bd-35c96d2cb6f0",
   "metadata": {},
   "outputs": [],
   "source": [
    "for i in range(10):\n",
    "    print(SupportVecClass_fine[i].score(tst_transformed[:,:dim_number[i]], tstLabelsFine))"
   ]
  },
  {
   "cell_type": "markdown",
   "id": "eed892c4-c5af-4f61-9479-47e1449c5882",
   "metadata": {},
   "source": [
    "### Creating a new fine categorization SVM\n",
    "Because it is <i>strongly encouraged</i> to skip the above section, a single SVM to use with the fine categories will be created and trained below.\n",
    "<i>This can still take an extremely long time to train. To reduce the training time, reduce the number of dimensions being used with it by reducing the index of the dim_number array.</i> By default we are using 0.94 of the original variance."
   ]
  },
  {
   "cell_type": "code",
   "execution_count": 15,
   "id": "0dcb0a34-c3ed-4cd6-a977-f302d3c6b6c6",
   "metadata": {},
   "outputs": [
    {
     "name": "stderr",
     "output_type": "stream",
     "text": [
      "/home/rachel/src/venv/bdml/lib/python3.10/site-packages/sklearn/linear_model/_stochastic_gradient.py:704: ConvergenceWarning: Maximum number of iteration reached before convergence. Consider increasing max_iter to improve the fit.\n",
      "  warnings.warn(\n"
     ]
    },
    {
     "data": {
      "text/html": [
       "<style>#sk-container-id-2 {color: black;background-color: white;}#sk-container-id-2 pre{padding: 0;}#sk-container-id-2 div.sk-toggleable {background-color: white;}#sk-container-id-2 label.sk-toggleable__label {cursor: pointer;display: block;width: 100%;margin-bottom: 0;padding: 0.3em;box-sizing: border-box;text-align: center;}#sk-container-id-2 label.sk-toggleable__label-arrow:before {content: \"▸\";float: left;margin-right: 0.25em;color: #696969;}#sk-container-id-2 label.sk-toggleable__label-arrow:hover:before {color: black;}#sk-container-id-2 div.sk-estimator:hover label.sk-toggleable__label-arrow:before {color: black;}#sk-container-id-2 div.sk-toggleable__content {max-height: 0;max-width: 0;overflow: hidden;text-align: left;background-color: #f0f8ff;}#sk-container-id-2 div.sk-toggleable__content pre {margin: 0.2em;color: black;border-radius: 0.25em;background-color: #f0f8ff;}#sk-container-id-2 input.sk-toggleable__control:checked~div.sk-toggleable__content {max-height: 200px;max-width: 100%;overflow: auto;}#sk-container-id-2 input.sk-toggleable__control:checked~label.sk-toggleable__label-arrow:before {content: \"▾\";}#sk-container-id-2 div.sk-estimator input.sk-toggleable__control:checked~label.sk-toggleable__label {background-color: #d4ebff;}#sk-container-id-2 div.sk-label input.sk-toggleable__control:checked~label.sk-toggleable__label {background-color: #d4ebff;}#sk-container-id-2 input.sk-hidden--visually {border: 0;clip: rect(1px 1px 1px 1px);clip: rect(1px, 1px, 1px, 1px);height: 1px;margin: -1px;overflow: hidden;padding: 0;position: absolute;width: 1px;}#sk-container-id-2 div.sk-estimator {font-family: monospace;background-color: #f0f8ff;border: 1px dotted black;border-radius: 0.25em;box-sizing: border-box;margin-bottom: 0.5em;}#sk-container-id-2 div.sk-estimator:hover {background-color: #d4ebff;}#sk-container-id-2 div.sk-parallel-item::after {content: \"\";width: 100%;border-bottom: 1px solid gray;flex-grow: 1;}#sk-container-id-2 div.sk-label:hover label.sk-toggleable__label {background-color: #d4ebff;}#sk-container-id-2 div.sk-serial::before {content: \"\";position: absolute;border-left: 1px solid gray;box-sizing: border-box;top: 0;bottom: 0;left: 50%;z-index: 0;}#sk-container-id-2 div.sk-serial {display: flex;flex-direction: column;align-items: center;background-color: white;padding-right: 0.2em;padding-left: 0.2em;position: relative;}#sk-container-id-2 div.sk-item {position: relative;z-index: 1;}#sk-container-id-2 div.sk-parallel {display: flex;align-items: stretch;justify-content: center;background-color: white;position: relative;}#sk-container-id-2 div.sk-item::before, #sk-container-id-2 div.sk-parallel-item::before {content: \"\";position: absolute;border-left: 1px solid gray;box-sizing: border-box;top: 0;bottom: 0;left: 50%;z-index: -1;}#sk-container-id-2 div.sk-parallel-item {display: flex;flex-direction: column;z-index: 1;position: relative;background-color: white;}#sk-container-id-2 div.sk-parallel-item:first-child::after {align-self: flex-end;width: 50%;}#sk-container-id-2 div.sk-parallel-item:last-child::after {align-self: flex-start;width: 50%;}#sk-container-id-2 div.sk-parallel-item:only-child::after {width: 0;}#sk-container-id-2 div.sk-dashed-wrapped {border: 1px dashed gray;margin: 0 0.4em 0.5em 0.4em;box-sizing: border-box;padding-bottom: 0.4em;background-color: white;}#sk-container-id-2 div.sk-label label {font-family: monospace;font-weight: bold;display: inline-block;line-height: 1.2em;}#sk-container-id-2 div.sk-label-container {text-align: center;}#sk-container-id-2 div.sk-container {/* jupyter's `normalize.less` sets `[hidden] { display: none; }` but bootstrap.min.css set `[hidden] { display: none !important; }` so we also need the `!important` here to be able to override the default hidden behavior on the sphinx rendered scikit-learn.org. See: https://github.com/scikit-learn/scikit-learn/issues/21755 */display: inline-block !important;position: relative;}#sk-container-id-2 div.sk-text-repr-fallback {display: none;}</style><div id=\"sk-container-id-2\" class=\"sk-top-container\"><div class=\"sk-text-repr-fallback\"><pre>SGDClassifier(loss=&#x27;squared_hinge&#x27;, max_iter=5000, n_jobs=-1)</pre><b>In a Jupyter environment, please rerun this cell to show the HTML representation or trust the notebook. <br />On GitHub, the HTML representation is unable to render, please try loading this page with nbviewer.org.</b></div><div class=\"sk-container\" hidden><div class=\"sk-item\"><div class=\"sk-estimator sk-toggleable\"><input class=\"sk-toggleable__control sk-hidden--visually\" id=\"sk-estimator-id-2\" type=\"checkbox\" checked><label for=\"sk-estimator-id-2\" class=\"sk-toggleable__label sk-toggleable__label-arrow\">SGDClassifier</label><div class=\"sk-toggleable__content\"><pre>SGDClassifier(loss=&#x27;squared_hinge&#x27;, max_iter=5000, n_jobs=-1)</pre></div></div></div></div></div>"
      ],
      "text/plain": [
       "SGDClassifier(loss='squared_hinge', max_iter=5000, n_jobs=-1)"
      ]
     },
     "execution_count": 15,
     "metadata": {},
     "output_type": "execute_result"
    }
   ],
   "source": [
    "SVC_fine = SGDClassifier(n_jobs=-1, loss='squared_hinge', max_iter=5000)\n",
    "SVC_fine.fit(trn_transformed[:,:dim_number[8]], trnLabelsFine)"
   ]
  },
  {
   "cell_type": "markdown",
   "id": "7eb71487-fee0-4c9f-a5d3-1cbffdbf4da0",
   "metadata": {},
   "source": [
    "### Fine Class Confusion Matrix\n",
    "This shows both a part of the full confusion matrix for the entire testing dataset, and a set of one vs all matrices for individual classes. <i>To view the confusion matrix properly, your browser window must be wide enough that the print statements do not wrap</i>"
   ]
  },
  {
   "cell_type": "code",
   "execution_count": 61,
   "id": "176b7889-88b6-47c4-8dd1-232b35d6d216",
   "metadata": {},
   "outputs": [
    {
     "name": "stdout",
     "output_type": "stream",
     "text": [
      "[[  35   65]\n",
      " [  69 9831]]\n",
      "\n",
      "[[  12   88]\n",
      " [  99 9801]]\n",
      "\n",
      "[[   1   99]\n",
      " [  98 9802]]\n",
      "\n",
      "[[   1   99]\n",
      " [  51 9849]]\n",
      "\n",
      "[[   1   99]\n",
      " [  57 9843]]\n",
      "\n",
      "[[  11   89]\n",
      " [  74 9826]]\n",
      "\n",
      "[[   6   94]\n",
      " [  88 9812]]\n",
      "\n",
      "[[   1   99]\n",
      " [  88 9812]]\n",
      "\n",
      "[[  28   72]\n",
      " [  63 9837]]\n",
      "\n",
      "[[  38   62]\n",
      " [  59 9841]]\n",
      "\n",
      "[[  11.9   88.1]\n",
      " [  88.1 9811.9]]\n"
     ]
    }
   ],
   "source": [
    "predict_SVC_fine = SVC_fine.predict(tst_transformed[:,:dim_number[8]])\n",
    "confusion_matrix_fine = np.zeros(shape=(100,2,2), dtype=np.int16)\n",
    "for i in range(10000):\n",
    "    for j in range(100):\n",
    "        confusion_matrix_fine[j,0 if tstLabelsFine[i] == j else 1, 0 if predict_SVC_fine[i] == j else 1] += 1\n",
    "avg_matrix_fine = np.zeros(shape=(2,2))\n",
    "for i in range(10):\n",
    "    print(confusion_matrix_fine[i])\n",
    "    print()\n",
    "for i in range(100):\n",
    "    avg_matrix_fine += confusion_matrix_fine[i]\n",
    "avg_matrix_fine /= 100\n",
    "print(avg_matrix_fine)"
   ]
  },
  {
   "cell_type": "code",
   "execution_count": 56,
   "id": "916ea2ab-75bb-465e-9776-699142aed291",
   "metadata": {},
   "outputs": [
    {
     "data": {
      "text/html": [
       "<style>div.output_area pre {white-space: pre;}</style>"
      ],
      "text/plain": [
       "<IPython.core.display.HTML object>"
      ]
     },
     "metadata": {},
     "output_type": "display_data"
    },
    {
     "name": "stdout",
     "output_type": "stream",
     "text": [
      "| 35 | 0  | 1  | 2  | 2  | 0  | 0  | 0  | 0  | 1  | 2  | 1  | 1  | 0  | 0  | 0  | 0  | 0  | 0  | 1  | 0  | 0  | 0  | 0  | 1  | 0  | 1  | 0  | 0  | 0  \n",
      "+----+----+----+----+----+----+----+----+----+----+----+----+----+----+----+----+----+----+----+----+----+----+----+----+----+----+----+----+----+----\n",
      "| 0  | 12 | 0  | 0  | 0  | 1  | 1  | 1  | 0  | 1  | 0  | 1  | 0  | 1  | 0  | 2  | 0  | 0  | 0  | 0  | 0  | 3  | 0  | 1  | 2  | 1  | 2  | 2  | 0  | 3  \n",
      "+----+----+----+----+----+----+----+----+----+----+----+----+----+----+----+----+----+----+----+----+----+----+----+----+----+----+----+----+----+----\n",
      "| 1  | 0  | 1  | 0  | 3  | 1  | 0  | 1  | 0  | 2  | 0  | 2  | 0  | 0  | 2  | 0  | 0  | 0  | 1  | 1  | 0  | 0  | 0  | 0  | 0  | 0  | 1  | 0  | 1  | 0  \n",
      "+----+----+----+----+----+----+----+----+----+----+----+----+----+----+----+----+----+----+----+----+----+----+----+----+----+----+----+----+----+----\n",
      "| 0  | 0  | 1  | 1  | 0  | 0  | 1  | 0  | 2  | 1  | 0  | 1  | 1  | 1  | 0  | 0  | 0  | 1  | 0  | 2  | 0  | 3  | 1  | 2  | 0  | 1  | 0  | 1  | 0  | 1  \n",
      "+----+----+----+----+----+----+----+----+----+----+----+----+----+----+----+----+----+----+----+----+----+----+----+----+----+----+----+----+----+----\n",
      "| 0  | 1  | 0  | 0  | 1  | 0  | 1  | 1  | 0  | 0  | 1  | 3  | 0  | 0  | 0  | 0  | 0  | 1  | 1  | 1  | 0  | 1  | 0  | 0  | 0  | 2  | 1  | 6  | 1  | 1  \n",
      "+----+----+----+----+----+----+----+----+----+----+----+----+----+----+----+----+----+----+----+----+----+----+----+----+----+----+----+----+----+----\n",
      "| 0  | 0  | 2  | 0  | 1  | 11 | 0  | 1  | 0  | 0  | 0  | 1  | 4  | 2  | 0  | 0  | 1  | 2  | 0  | 0  | 3  | 0  | 1  | 1  | 0  | 5  | 0  | 0  | 0  | 0  \n",
      "+----+----+----+----+----+----+----+----+----+----+----+----+----+----+----+----+----+----+----+----+----+----+----+----+----+----+----+----+----+----\n",
      "| 0  | 4  | 0  | 1  | 0  | 0  | 6  | 2  | 1  | 0  | 1  | 1  | 1  | 0  | 0  | 0  | 0  | 0  | 1  | 0  | 0  | 1  | 0  | 1  | 0  | 0  | 2  | 2  | 1  | 0  \n",
      "+----+----+----+----+----+----+----+----+----+----+----+----+----+----+----+----+----+----+----+----+----+----+----+----+----+----+----+----+----+----\n",
      "| 0  | 2  | 0  | 0  | 0  | 0  | 0  | 1  | 0  | 1  | 1  | 0  | 1  | 0  | 6  | 0  | 0  | 0  | 1  | 2  | 0  | 1  | 0  | 0  | 6  | 0  | 3  | 2  | 0  | 0  \n",
      "+----+----+----+----+----+----+----+----+----+----+----+----+----+----+----+----+----+----+----+----+----+----+----+----+----+----+----+----+----+----\n",
      "| 0  | 0  | 1  | 2  | 0  | 0  | 1  | 1  | 28 | 1  | 0  | 1  | 0  | 0  | 0  | 0  | 1  | 2  | 1  | 0  | 0  | 1  | 1  | 0  | 2  | 0  | 1  | 0  | 0  | 0  \n",
      "+----+----+----+----+----+----+----+----+----+----+----+----+----+----+----+----+----+----+----+----+----+----+----+----+----+----+----+----+----+----\n",
      "| 0  | 0  | 0  | 0  | 0  | 0  | 0  | 1  | 0  | 38 | 1  | 1  | 1  | 1  | 0  | 0  | 1  | 0  | 0  | 0  | 1  | 0  | 0  | 1  | 1  | 1  | 1  | 0  | 2  | 0  \n",
      "+----+----+----+----+----+----+----+----+----+----+----+----+----+----+----+----+----+----+----+----+----+----+----+----+----+----+----+----+----+----\n",
      "| 2  | 0  | 0  | 0  | 0  | 1  | 0  | 1  | 0  | 0  | 11 | 1  | 0  | 2  | 1  | 1  | 5  | 0  | 0  | 0  | 3  | 0  | 3  | 1  | 1  | 2  | 1  | 0  | 5  | 0  \n",
      "+----+----+----+----+----+----+----+----+----+----+----+----+----+----+----+----+----+----+----+----+----+----+----+----+----+----+----+----+----+----\n",
      "| 0  | 0  | 3  | 1  | 0  | 0  | 0  | 0  | 1  | 0  | 1  | 3  | 0  | 1  | 1  | 0  | 2  | 3  | 2  | 1  | 0  | 2  | 1  | 0  | 1  | 0  | 1  | 1  | 1  | 2  \n",
      "+----+----+----+----+----+----+----+----+----+----+----+----+----+----+----+----+----+----+----+----+----+----+----+----+----+----+----+----+----+----\n",
      "| 0  | 0  | 0  | 0  | 0  | 3  | 1  | 1  | 1  | 2  | 0  | 0  | 7  | 2  | 0  | 1  | 1  | 11 | 0  | 2  | 0  | 1  | 0  | 0  | 1  | 4  | 0  | 0  | 0  | 0  \n",
      "+----+----+----+----+----+----+----+----+----+----+----+----+----+----+----+----+----+----+----+----+----+----+----+----+----+----+----+----+----+----\n",
      "| 0  | 0  | 2  | 0  | 0  | 0  | 1  | 0  | 0  | 0  | 0  | 1  | 1  | 9  | 0  | 0  | 0  | 1  | 0  | 1  | 0  | 2  | 2  | 0  | 1  | 1  | 0  | 0  | 0  | 4  \n",
      "+----+----+----+----+----+----+----+----+----+----+----+----+----+----+----+----+----+----+----+----+----+----+----+----+----+----+----+----+----+----\n",
      "| 0  | 3  | 2  | 0  | 0  | 0  | 3  | 0  | 0  | 0  | 3  | 0  | 0  | 0  | 7  | 0  | 3  | 1  | 2  | 2  | 1  | 0  | 0  | 2  | 0  | 1  | 0  | 0  | 2  | 0  \n",
      "+----+----+----+----+----+----+----+----+----+----+----+----+----+----+----+----+----+----+----+----+----+----+----+----+----+----+----+----+----+----\n",
      "| 0  | 1  | 1  | 2  | 0  | 0  | 0  | 1  | 0  | 1  | 1  | 0  | 2  | 0  | 2  | 5  | 0  | 3  | 1  | 3  | 0  | 1  | 1  | 0  | 0  | 1  | 1  | 1  | 1  | 1  \n",
      "+----+----+----+----+----+----+----+----+----+----+----+----+----+----+----+----+----+----+----+----+----+----+----+----+----+----+----+----+----+----\n",
      "| 2  | 0  | 1  | 0  | 0  | 1  | 2  | 1  | 1  | 2  | 3  | 0  | 0  | 2  | 0  | 0  | 20 | 0  | 1  | 1  | 1  | 2  | 2  | 0  | 0  | 3  | 1  | 1  | 2  | 0  \n",
      "+----+----+----+----+----+----+----+----+----+----+----+----+----+----+----+----+----+----+----+----+----+----+----+----+----+----+----+----+----+----\n",
      "| 0  | 0  | 0  | 1  | 0  | 3  | 1  | 0  | 0  | 0  | 0  | 0  | 2  | 0  | 1  | 0  | 2  | 11 | 0  | 3  | 0  | 0  | 0  | 0  | 0  | 2  | 0  | 0  | 0  | 1  \n",
      "+----+----+----+----+----+----+----+----+----+----+----+----+----+----+----+----+----+----+----+----+----+----+----+----+----+----+----+----+----+----\n",
      "| 0  | 1  | 1  | 1  | 0  | 3  | 3  | 3  | 2  | 1  | 0  | 2  | 1  | 0  | 3  | 1  | 0  | 0  | 1  | 0  | 0  | 0  | 0  | 1  | 1  | 1  | 2  | 1  | 0  | 0  \n",
      "+----+----+----+----+----+----+----+----+----+----+----+----+----+----+----+----+----+----+----+----+----+----+----+----+----+----+----+----+----+----\n",
      "| 2  | 1  | 1  | 2  | 1  | 0  | 1  | 1  | 0  | 1  | 0  | 1  | 1  | 2  | 0  | 5  | 0  | 2  | 0  | 8  | 0  | 0  | 0  | 1  | 1  | 0  | 1  | 1  | 1  | 1  \n",
      "+----+----+----+----+----+----+----+----+----+----+----+----+----+----+----+----+----+----+----+----+----+----+----+----+----+----+----+----+----+----\n",
      "| 0  | 1  | 1  | 0  | 0  | 2  | 0  | 0  | 0  | 1  | 1  | 0  | 1  | 1  | 0  | 0  | 2  | 2  | 1  | 0  | 51 | 0  | 1  | 0  | 0  | 3  | 0  | 0  | 0  | 2  \n",
      "+----+----+----+----+----+----+----+----+----+----+----+----+----+----+----+----+----+----+----+----+----+----+----+----+----+----+----+----+----+----\n",
      "| 1  | 1  | 0  | 1  | 0  | 0  | 1  | 3  | 0  | 0  | 1  | 2  | 1  | 0  | 1  | 0  | 2  | 0  | 0  | 3  | 0  | 9  | 1  | 1  | 0  | 0  | 2  | 1  | 0  | 1  \n",
      "+----+----+----+----+----+----+----+----+----+----+----+----+----+----+----+----+----+----+----+----+----+----+----+----+----+----+----+----+----+----\n",
      "| 5  | 0  | 4  | 1  | 0  | 2  | 0  | 1  | 0  | 1  | 4  | 1  | 0  | 1  | 0  | 2  | 3  | 0  | 0  | 0  | 1  | 0  | 14 | 0  | 0  | 0  | 1  | 0  | 3  | 0  \n",
      "+----+----+----+----+----+----+----+----+----+----+----+----+----+----+----+----+----+----+----+----+----+----+----+----+----+----+----+----+----+----\n",
      "| 1  | 1  | 1  | 0  | 1  | 1  | 1  | 0  | 0  | 0  | 1  | 0  | 3  | 3  | 2  | 0  | 0  | 0  | 0  | 0  | 0  | 2  | 1  | 5  | 0  | 0  | 2  | 2  | 1  | 0  \n",
      "+----+----+----+----+----+----+----+----+----+----+----+----+----+----+----+----+----+----+----+----+----+----+----+----+----+----+----+----+----+----\n",
      "| 1  | 2  | 2  | 0  | 0  | 0  | 0  | 1  | 0  | 2  | 0  | 0  | 0  | 0  | 1  | 0  | 1  | 0  | 1  | 0  | 3  | 1  | 0  | 0  | 25 | 0  | 0  | 0  | 0  | 4  \n",
      "+----+----+----+----+----+----+----+----+----+----+----+----+----+----+----+----+----+----+----+----+----+----+----+----+----+----+----+----+----+----\n",
      "| 1  | 2  | 1  | 0  | 0  | 9  | 0  | 0  | 0  | 1  | 2  | 0  | 1  | 3  | 1  | 1  | 0  | 1  | 0  | 1  | 6  | 0  | 1  | 3  | 1  | 9  | 0  | 2  | 1  | 0  \n",
      "+----+----+----+----+----+----+----+----+----+----+----+----+----+----+----+----+----+----+----+----+----+----+----+----+----+----+----+----+----+----\n",
      "| 0  | 0  | 0  | 0  | 0  | 1  | 0  | 3  | 0  | 0  | 7  | 1  | 0  | 0  | 2  | 0  | 1  | 0  | 2  | 0  | 0  | 1  | 1  | 2  | 1  | 1  | 10 | 1  | 0  | 2  \n",
      "+----+----+----+----+----+----+----+----+----+----+----+----+----+----+----+----+----+----+----+----+----+----+----+----+----+----+----+----+----+----\n",
      "| 1  | 1  | 1  | 1  | 0  | 1  | 0  | 2  | 2  | 0  | 0  | 0  | 1  | 1  | 1  | 2  | 0  | 1  | 1  | 1  | 0  | 0  | 0  | 1  | 1  | 1  | 3  | 9  | 0  | 0  \n",
      "+----+----+----+----+----+----+----+----+----+----+----+----+----+----+----+----+----+----+----+----+----+----+----+----+----+----+----+----+----+----\n",
      "| 1  | 0  | 2  | 1  | 1  | 0  | 1  | 0  | 1  | 0  | 0  | 1  | 0  | 0  | 0  | 0  | 0  | 1  | 0  | 1  | 2  | 1  | 0  | 0  | 0  | 0  | 1  | 1  | 43 | 1  \n",
      "+----+----+----+----+----+----+----+----+----+----+----+----+----+----+----+----+----+----+----+----+----+----+----+----+----+----+----+----+----+----\n",
      "| 0  | 2  | 0  | 1  | 1  | 0  | 1  | 0  | 1  | 0  | 1  | 1  | 1  | 3  | 0  | 1  | 1  | 2  | 0  | 1  | 0  | 0  | 0  | 0  | 0  | 0  | 0  | 1  | 2  | 20 \n",
      "+----+----+----+----+----+----+----+----+----+----+----+----+----+----+----+----+----+----+----+----+----+----+----+----+----+----+----+----+----+----\n"
     ]
    }
   ],
   "source": [
    "predict_SVC_fine = SVC_fine.predict(tst_transformed[:,:dim_number[8]])\n",
    "confusion_matrix_fine = np.zeros(shape=(100,100), dtype=np.int16)\n",
    "for i in range(10000):\n",
    "    confusion_matrix_fine[tstLabelsFine[i], predict_SVC_fine[i]] += 1\n",
    "# This is some HTML trickery to prevent prints from wrapping, so that we can display more of the confusion matrix\n",
    "display(HTML(\"<style>div.output_area pre {white-space: pre;}</style>\"))\n",
    "\n",
    "for i in range(30):\n",
    "    for j in range(30):\n",
    "        print(\"|\", confusion_matrix_fine[i, j], end = \"\")\n",
    "        if (confusion_matrix_fine[i,j] < 10):\n",
    "            print(\" \", end=\"\")\n",
    "        if (confusion_matrix_fine[i, j] < 100):\n",
    "            print(\" \", end=\"\")\n",
    "    print()\n",
    "    print(\"+----+----+----+----+----+----+----+----+----+----+----+----+----+----+----+----+----+----+----+----+----+----+----+----+----+----+----+----+----+----\")\n"
   ]
  },
  {
   "cell_type": "markdown",
   "id": "b242caeb-f968-4e74-8c0a-0f01f594a62b",
   "metadata": {},
   "source": [
    "The SVM trained on the fine classes has a sensitivity of 0.119 and a specificity of 0.991. Though about 10x better than random chance, this is also well below the benchmark accuracy of 24.49%. This, combined with the low sensitivity of the coarse label SVM, suggests that these methods or this implementation of these methods is not suitable for this task."
   ]
  },
  {
   "cell_type": "markdown",
   "id": "7f79d107-56cd-48f9-856c-265c4e4dcc83",
   "metadata": {},
   "source": [
    "# <ins>Method 2 - Convolutional Neural Network</ins>\n",
    "The second method of image classification we will be experimenting with is training a convolutional neural network on the dataset. Unlike with the SVM, the dataset will not have any feature extraction or dimensionality reduction applied before the network is trained on it."
   ]
  },
  {
   "cell_type": "markdown",
   "id": "b2decf48-8aa9-475d-8201-b2663442104f",
   "metadata": {},
   "source": [
    "### Loading the data\n",
    "First the training and testing datasets have to be laoded, and the axis rearranged to fit the format that the neural network input is expecting (The data is width,height,channels,samples but the network expects samples,width,height,channels)."
   ]
  },
  {
   "cell_type": "code",
   "execution_count": 3,
   "id": "5378e634-197e-4d82-83ee-cfe5c68f6de9",
   "metadata": {},
   "outputs": [],
   "source": [
    "trnData = np.load(\"trnImage.npy\")\n",
    "trnData = np.moveaxis(trnData, (0,1,2,3), (1,2,3,0))\n",
    "trnLabelsCoarse = np.load(\"trnLabel_coarse.npy\")\n",
    "trnLabelsFine = np.load(\"trnLabel_fine.npy\")\n",
    "tstData = np.load(\"tstImage.npy\")\n",
    "tstData = np.moveaxis(tstData, (0,1,2,3), (1,2,3,0))\n",
    "tstLabelsCoarse = np.load(\"tstLabel_coarse.npy\")\n",
    "tstLabelsFine = np.load(\"tstLabel_fine.npy\")"
   ]
  },
  {
   "cell_type": "markdown",
   "id": "bb924182-6e57-40d2-9379-503a237cd504",
   "metadata": {},
   "source": [
    "## A model for the coarse labels\n",
    "### Creating the model\n",
    "Next we have to create the model to be trained. The model we are using has three 2D convolutional layers, and two dense neuron layers to classify the output. It uses pooling and dropout layers after each convolutional layer to reduce overfitting and make the feature extraction more orientation invariant, and has a regularization function on the second convolution layer."
   ]
  },
  {
   "cell_type": "code",
   "execution_count": 4,
   "id": "9ad4ac73-fa5b-48d3-b47b-6d9720c6bec6",
   "metadata": {},
   "outputs": [
    {
     "name": "stderr",
     "output_type": "stream",
     "text": [
      "2022-12-19 07:03:20.788080: I tensorflow/compiler/xla/stream_executor/rocm/rocm_gpu_executor.cc:843] successful NUMA node read from SysFS had negative value (-1), but there must be at least one NUMA node, so returning NUMA node zero\n",
      "2022-12-19 07:03:21.348550: I tensorflow/compiler/xla/stream_executor/rocm/rocm_gpu_executor.cc:843] successful NUMA node read from SysFS had negative value (-1), but there must be at least one NUMA node, so returning NUMA node zero\n",
      "2022-12-19 07:03:21.348611: I tensorflow/compiler/xla/stream_executor/rocm/rocm_gpu_executor.cc:843] successful NUMA node read from SysFS had negative value (-1), but there must be at least one NUMA node, so returning NUMA node zero\n",
      "2022-12-19 07:03:21.349560: I tensorflow/core/platform/cpu_feature_guard.cc:193] This TensorFlow binary is optimized with oneAPI Deep Neural Network Library (oneDNN) to use the following CPU instructions in performance-critical operations:  SSE3 SSE4.1 SSE4.2 AVX AVX2 FMA\n",
      "To enable them in other operations, rebuild TensorFlow with the appropriate compiler flags.\n",
      "2022-12-19 07:03:21.349987: I tensorflow/compiler/xla/stream_executor/rocm/rocm_gpu_executor.cc:843] successful NUMA node read from SysFS had negative value (-1), but there must be at least one NUMA node, so returning NUMA node zero\n",
      "2022-12-19 07:03:21.350062: I tensorflow/compiler/xla/stream_executor/rocm/rocm_gpu_executor.cc:843] successful NUMA node read from SysFS had negative value (-1), but there must be at least one NUMA node, so returning NUMA node zero\n",
      "2022-12-19 07:03:21.350102: I tensorflow/compiler/xla/stream_executor/rocm/rocm_gpu_executor.cc:843] successful NUMA node read from SysFS had negative value (-1), but there must be at least one NUMA node, so returning NUMA node zero\n",
      "2022-12-19 07:03:21.351332: I tensorflow/compiler/xla/stream_executor/rocm/rocm_gpu_executor.cc:843] successful NUMA node read from SysFS had negative value (-1), but there must be at least one NUMA node, so returning NUMA node zero\n",
      "2022-12-19 07:03:21.351378: I tensorflow/compiler/xla/stream_executor/rocm/rocm_gpu_executor.cc:843] successful NUMA node read from SysFS had negative value (-1), but there must be at least one NUMA node, so returning NUMA node zero\n",
      "2022-12-19 07:03:21.351421: I tensorflow/compiler/xla/stream_executor/rocm/rocm_gpu_executor.cc:843] successful NUMA node read from SysFS had negative value (-1), but there must be at least one NUMA node, so returning NUMA node zero\n",
      "2022-12-19 07:03:21.351452: I tensorflow/core/common_runtime/gpu/gpu_device.cc:1613] Created device /job:localhost/replica:0/task:0/device:GPU:0 with 15868 MB memory:  -> device: 0, name: AMD Radeon RX 6800, pci bus id: 0000:09:00.0\n",
      "2022-12-19 07:03:21.739217: I tensorflow/core/common_runtime/gpu_fusion_pass.cc:507] ROCm Fusion is enabled.\n"
     ]
    },
    {
     "name": "stdout",
     "output_type": "stream",
     "text": [
      "Model: \"sequential\"\n",
      "_________________________________________________________________\n",
      " Layer (type)                Output Shape              Param #   \n",
      "=================================================================\n",
      " conv2d (Conv2D)             (None, 30, 30, 400)       11200     \n",
      "                                                                 \n",
      " dropout (Dropout)           (None, 30, 30, 400)       0         \n",
      "                                                                 \n",
      " max_pooling2d (MaxPooling2D  (None, 10, 10, 400)      0         \n",
      " )                                                               \n",
      "                                                                 \n",
      " conv2d_1 (Conv2D)           (None, 9, 9, 200)         320200    \n",
      "                                                                 \n",
      " dropout_1 (Dropout)         (None, 9, 9, 200)         0         \n",
      "                                                                 \n",
      " max_pooling2d_1 (MaxPooling  (None, 4, 4, 200)        0         \n",
      " 2D)                                                             \n",
      "                                                                 \n",
      " conv2d_2 (Conv2D)           (None, 3, 3, 100)         80100     \n",
      "                                                                 \n",
      " dropout_2 (Dropout)         (None, 3, 3, 100)         0         \n",
      "                                                                 \n",
      " max_pooling2d_2 (MaxPooling  (None, 1, 1, 100)        0         \n",
      " 2D)                                                             \n",
      "                                                                 \n",
      " flatten (Flatten)           (None, 100)               0         \n",
      "                                                                 \n",
      " dense (Dense)               (None, 200)               20200     \n",
      "                                                                 \n",
      " dense_1 (Dense)             (None, 100)               20100     \n",
      "                                                                 \n",
      "=================================================================\n",
      "Total params: 451,800\n",
      "Trainable params: 451,800\n",
      "Non-trainable params: 0\n",
      "_________________________________________________________________\n"
     ]
    },
    {
     "name": "stderr",
     "output_type": "stream",
     "text": [
      "2022-12-19 07:03:21.917787: I tensorflow/core/common_runtime/gpu_fusion_pass.cc:507] ROCm Fusion is enabled.\n",
      "2022-12-19 07:03:21.919612: I tensorflow/core/common_runtime/gpu_fusion_pass.cc:507] ROCm Fusion is enabled.\n",
      "2022-12-19 07:03:21.926838: I tensorflow/core/common_runtime/gpu_fusion_pass.cc:507] ROCm Fusion is enabled.\n",
      "2022-12-19 07:03:21.927409: I tensorflow/core/common_runtime/gpu_fusion_pass.cc:507] ROCm Fusion is enabled.\n",
      "2022-12-19 07:03:21.934234: I tensorflow/core/common_runtime/gpu_fusion_pass.cc:507] ROCm Fusion is enabled.\n",
      "2022-12-19 07:03:21.939049: I tensorflow/core/common_runtime/gpu_fusion_pass.cc:507] ROCm Fusion is enabled.\n",
      "2022-12-19 07:03:21.941515: I tensorflow/core/common_runtime/gpu_fusion_pass.cc:507] ROCm Fusion is enabled.\n",
      "2022-12-19 07:03:21.944063: I tensorflow/core/common_runtime/gpu_fusion_pass.cc:507] ROCm Fusion is enabled.\n",
      "2022-12-19 07:03:21.945695: I tensorflow/core/common_runtime/gpu_fusion_pass.cc:507] ROCm Fusion is enabled.\n",
      "2022-12-19 07:03:21.947189: I tensorflow/core/common_runtime/gpu_fusion_pass.cc:507] ROCm Fusion is enabled.\n",
      "2022-12-19 07:03:21.947696: I tensorflow/core/common_runtime/gpu_fusion_pass.cc:507] ROCm Fusion is enabled.\n",
      "2022-12-19 07:03:21.948850: I tensorflow/core/common_runtime/gpu_fusion_pass.cc:507] ROCm Fusion is enabled.\n",
      "2022-12-19 07:03:21.951590: I tensorflow/core/common_runtime/gpu_fusion_pass.cc:507] ROCm Fusion is enabled.\n",
      "2022-12-19 07:03:21.952075: I tensorflow/core/common_runtime/gpu_fusion_pass.cc:507] ROCm Fusion is enabled.\n",
      "2022-12-19 07:03:21.962326: I tensorflow/core/common_runtime/gpu_fusion_pass.cc:507] ROCm Fusion is enabled.\n",
      "2022-12-19 07:03:21.962845: I tensorflow/core/common_runtime/gpu_fusion_pass.cc:507] ROCm Fusion is enabled.\n",
      "2022-12-19 07:03:21.963668: I tensorflow/core/common_runtime/gpu_fusion_pass.cc:507] ROCm Fusion is enabled.\n",
      "2022-12-19 07:03:21.964152: I tensorflow/core/common_runtime/gpu_fusion_pass.cc:507] ROCm Fusion is enabled.\n",
      "2022-12-19 07:03:21.972394: I tensorflow/core/common_runtime/gpu_fusion_pass.cc:507] ROCm Fusion is enabled.\n",
      "2022-12-19 07:03:21.972897: I tensorflow/core/common_runtime/gpu_fusion_pass.cc:507] ROCm Fusion is enabled.\n",
      "2022-12-19 07:03:21.973622: I tensorflow/core/common_runtime/gpu_fusion_pass.cc:507] ROCm Fusion is enabled.\n",
      "2022-12-19 07:03:21.974111: I tensorflow/core/common_runtime/gpu_fusion_pass.cc:507] ROCm Fusion is enabled.\n",
      "2022-12-19 07:03:21.984716: I tensorflow/core/common_runtime/gpu_fusion_pass.cc:507] ROCm Fusion is enabled.\n",
      "2022-12-19 07:03:21.985223: I tensorflow/core/common_runtime/gpu_fusion_pass.cc:507] ROCm Fusion is enabled.\n",
      "2022-12-19 07:03:21.990096: I tensorflow/core/common_runtime/gpu_fusion_pass.cc:507] ROCm Fusion is enabled.\n",
      "2022-12-19 07:03:21.990590: I tensorflow/core/common_runtime/gpu_fusion_pass.cc:507] ROCm Fusion is enabled.\n",
      "2022-12-19 07:03:22.009785: I tensorflow/core/common_runtime/gpu_fusion_pass.cc:507] ROCm Fusion is enabled.\n",
      "2022-12-19 07:03:22.010295: I tensorflow/core/common_runtime/gpu_fusion_pass.cc:507] ROCm Fusion is enabled.\n"
     ]
    }
   ],
   "source": [
    "model_coarse = tf.keras.models.Sequential()\n",
    "model_coarse.add(tf.keras.layers.Conv2D(400, (3, 3), activation='relu', input_shape=(32, 32, 3)))\n",
    "model_coarse.add(tf.keras.layers.Dropout(0.1))\n",
    "model_coarse.add(tf.keras.layers.MaxPooling2D((3, 3)))\n",
    "model_coarse.add(tf.keras.layers.Conv2D(200, (2, 2), activation='relu', kernel_regularizer=tf.keras.regularizers.l2(l=0.0014)))\n",
    "model_coarse.add(tf.keras.layers.Dropout(0.3))\n",
    "model_coarse.add(tf.keras.layers.MaxPooling2D((2, 2)))\n",
    "model_coarse.add(tf.keras.layers.Conv2D(100, (2, 2), activation='sigmoid'))\n",
    "model_coarse.add(tf.keras.layers.Dropout(0.2))\n",
    "model_coarse.add(tf.keras.layers.MaxPooling2D((2, 2)))\n",
    "model_coarse.add(tf.keras.layers.Flatten())\n",
    "model_coarse.add(tf.keras.layers.Dense(200))\n",
    "model_coarse.add(tf.keras.layers.Dense(100))\n",
    "model_coarse.summary()\n",
    "model_coarse.compile(optimizer='nadam',\n",
    "              loss=tf.keras.losses.SparseCategoricalCrossentropy(from_logits=True),\n",
    "              metrics=tf.keras.metrics.SparseCategoricalAccuracy())"
   ]
  },
  {
   "cell_type": "markdown",
   "id": "75b927c6-ec48-483d-85eb-6a9881c00307",
   "metadata": {},
   "source": [
    "### Training the model\n",
    "Now that the model has been created, we just have to train it. We're training it for 100 epochs by default. This can be changed, but too short risks the model not being as accurate as it could be while too long increases the risk of overfitting.\n",
    "\n",
    "After training the model is evaluated against the test dataset. The results of these are stored in the variables history_coarse and results_coarse, which we will use later to assess the effectiveness of the network."
   ]
  },
  {
   "cell_type": "code",
   "execution_count": 5,
   "id": "dab9b849-7fb6-4863-94b8-948766c53508",
   "metadata": {},
   "outputs": [
    {
     "name": "stderr",
     "output_type": "stream",
     "text": [
      "2022-12-19 07:03:29.791051: I tensorflow/core/common_runtime/gpu_fusion_pass.cc:507] ROCm Fusion is enabled.\n",
      "2022-12-19 07:03:29.792565: I tensorflow/core/common_runtime/gpu_fusion_pass.cc:507] ROCm Fusion is enabled.\n",
      "2022-12-19 07:03:29.798198: I tensorflow/core/common_runtime/gpu_fusion_pass.cc:507] ROCm Fusion is enabled.\n",
      "2022-12-19 07:03:29.798942: I tensorflow/core/common_runtime/gpu_fusion_pass.cc:507] ROCm Fusion is enabled.\n",
      "2022-12-19 07:03:29.803470: I tensorflow/core/common_runtime/gpu_fusion_pass.cc:507] ROCm Fusion is enabled.\n",
      "2022-12-19 07:03:29.804485: I tensorflow/core/common_runtime/gpu_fusion_pass.cc:507] ROCm Fusion is enabled.\n",
      "2022-12-19 07:03:29.918943: I tensorflow/core/common_runtime/gpu_fusion_pass.cc:507] ROCm Fusion is enabled.\n",
      "2022-12-19 07:03:29.920020: I tensorflow/core/common_runtime/gpu_fusion_pass.cc:507] ROCm Fusion is enabled.\n",
      "2022-12-19 07:03:29.925145: I tensorflow/core/common_runtime/gpu_fusion_pass.cc:507] ROCm Fusion is enabled.\n",
      "2022-12-19 07:03:29.926442: I tensorflow/core/common_runtime/gpu_fusion_pass.cc:507] ROCm Fusion is enabled.\n",
      "2022-12-19 07:03:29.927112: I tensorflow/core/common_runtime/gpu_fusion_pass.cc:507] ROCm Fusion is enabled.\n",
      "2022-12-19 07:03:29.927782: I tensorflow/core/common_runtime/gpu_fusion_pass.cc:507] ROCm Fusion is enabled.\n",
      "2022-12-19 07:03:29.928584: I tensorflow/core/common_runtime/gpu_fusion_pass.cc:507] ROCm Fusion is enabled.\n",
      "2022-12-19 07:03:29.931843: I tensorflow/core/common_runtime/gpu_fusion_pass.cc:507] ROCm Fusion is enabled.\n",
      "2022-12-19 07:03:29.932966: I tensorflow/core/common_runtime/gpu_fusion_pass.cc:507] ROCm Fusion is enabled.\n",
      "2022-12-19 07:03:29.933400: I tensorflow/core/common_runtime/gpu_fusion_pass.cc:507] ROCm Fusion is enabled.\n",
      "2022-12-19 07:03:29.961398: I tensorflow/core/common_runtime/gpu_fusion_pass.cc:507] ROCm Fusion is enabled.\n",
      "2022-12-19 07:03:29.966543: I tensorflow/core/common_runtime/gpu_fusion_pass.cc:507] ROCm Fusion is enabled.\n",
      "2022-12-19 07:03:29.969785: I tensorflow/core/common_runtime/gpu_fusion_pass.cc:507] ROCm Fusion is enabled.\n",
      "2022-12-19 07:03:30.634039: I tensorflow/core/common_runtime/gpu_fusion_pass.cc:507] ROCm Fusion is enabled.\n",
      "2022-12-19 07:03:31.510806: I tensorflow/compiler/xla/service/service.cc:173] XLA service 0x7fca27a15b00 initialized for platform ROCM (this does not guarantee that XLA will be used). Devices:\n",
      "2022-12-19 07:03:31.510820: I tensorflow/compiler/xla/service/service.cc:181]   StreamExecutor device (0): AMD Radeon RX 6800, AMDGPU ISA version: gfx1030\n",
      "2022-12-19 07:03:31.539852: I tensorflow/compiler/mlir/tensorflow/utils/dump_mlir_util.cc:268] disabling MLIR crash reproducer, set env var `MLIR_CRASH_REPRODUCER_DIRECTORY` to enable.\n",
      "2022-12-19 07:03:32.007886: I tensorflow/compiler/jit/xla_compilation_cache.cc:477] Compiled cluster using XLA!  This line is logged at most once for the lifetime of the process.\n",
      "2022-12-19 07:03:41.097643: I tensorflow/core/common_runtime/gpu_fusion_pass.cc:507] ROCm Fusion is enabled.\n",
      "2022-12-19 07:03:41.098749: I tensorflow/core/common_runtime/gpu_fusion_pass.cc:507] ROCm Fusion is enabled.\n",
      "2022-12-19 07:03:41.099679: I tensorflow/core/common_runtime/gpu_fusion_pass.cc:507] ROCm Fusion is enabled.\n",
      "2022-12-19 07:03:41.201724: I tensorflow/core/common_runtime/gpu_fusion_pass.cc:507] ROCm Fusion is enabled.\n",
      "2022-12-19 07:03:41.202441: I tensorflow/core/common_runtime/gpu_fusion_pass.cc:507] ROCm Fusion is enabled.\n",
      "2022-12-19 07:03:41.208627: I tensorflow/core/common_runtime/gpu_fusion_pass.cc:507] ROCm Fusion is enabled.\n",
      "2022-12-19 07:03:41.209433: I tensorflow/core/common_runtime/gpu_fusion_pass.cc:507] ROCm Fusion is enabled.\n",
      "2022-12-19 07:03:41.238274: I tensorflow/core/common_runtime/gpu_fusion_pass.cc:507] ROCm Fusion is enabled.\n",
      "2022-12-19 07:03:41.238910: I tensorflow/core/common_runtime/gpu_fusion_pass.cc:507] ROCm Fusion is enabled.\n",
      "2022-12-19 07:03:41.243669: I tensorflow/core/common_runtime/gpu_fusion_pass.cc:507] ROCm Fusion is enabled.\n",
      "2022-12-19 07:03:41.244419: I tensorflow/core/common_runtime/gpu_fusion_pass.cc:507] ROCm Fusion is enabled.\n",
      "2022-12-19 07:03:41.245074: I tensorflow/core/common_runtime/gpu_fusion_pass.cc:507] ROCm Fusion is enabled.\n",
      "2022-12-19 07:03:41.248226: I tensorflow/core/common_runtime/gpu_fusion_pass.cc:507] ROCm Fusion is enabled.\n",
      "2022-12-19 07:03:41.250830: I tensorflow/core/common_runtime/gpu_fusion_pass.cc:507] ROCm Fusion is enabled.\n",
      "2022-12-19 07:03:41.254692: I tensorflow/core/common_runtime/gpu_fusion_pass.cc:507] ROCm Fusion is enabled.\n",
      "2022-12-19 07:03:41.257631: I tensorflow/core/common_runtime/gpu_fusion_pass.cc:507] ROCm Fusion is enabled.\n",
      "2022-12-19 07:03:41.258540: I tensorflow/core/common_runtime/gpu_fusion_pass.cc:507] ROCm Fusion is enabled.\n",
      "2022-12-19 07:03:41.342070: I tensorflow/core/common_runtime/gpu_fusion_pass.cc:507] ROCm Fusion is enabled.\n",
      "2022-12-19 07:03:48.465961: I tensorflow/core/common_runtime/gpu_fusion_pass.cc:507] ROCm Fusion is enabled.\n",
      "2022-12-19 07:03:48.473921: I tensorflow/core/common_runtime/gpu_fusion_pass.cc:507] ROCm Fusion is enabled.\n",
      "2022-12-19 07:03:48.479902: I tensorflow/core/common_runtime/gpu_fusion_pass.cc:507] ROCm Fusion is enabled.\n",
      "2022-12-19 07:03:55.586653: I tensorflow/core/common_runtime/gpu_fusion_pass.cc:507] ROCm Fusion is enabled.\n",
      "2022-12-19 07:03:55.594650: I tensorflow/core/common_runtime/gpu_fusion_pass.cc:507] ROCm Fusion is enabled.\n",
      "2022-12-19 07:03:55.600612: I tensorflow/core/common_runtime/gpu_fusion_pass.cc:507] ROCm Fusion is enabled.\n",
      "2022-12-19 07:04:02.728788: I tensorflow/core/common_runtime/gpu_fusion_pass.cc:507] ROCm Fusion is enabled.\n",
      "2022-12-19 07:04:02.736779: I tensorflow/core/common_runtime/gpu_fusion_pass.cc:507] ROCm Fusion is enabled.\n",
      "2022-12-19 07:04:02.742744: I tensorflow/core/common_runtime/gpu_fusion_pass.cc:507] ROCm Fusion is enabled.\n",
      "2022-12-19 07:04:09.868871: I tensorflow/core/common_runtime/gpu_fusion_pass.cc:507] ROCm Fusion is enabled.\n",
      "2022-12-19 07:04:09.876849: I tensorflow/core/common_runtime/gpu_fusion_pass.cc:507] ROCm Fusion is enabled.\n",
      "2022-12-19 07:04:09.882833: I tensorflow/core/common_runtime/gpu_fusion_pass.cc:507] ROCm Fusion is enabled.\n",
      "2022-12-19 07:04:16.998308: I tensorflow/core/common_runtime/gpu_fusion_pass.cc:507] ROCm Fusion is enabled.\n",
      "2022-12-19 07:04:17.006378: I tensorflow/core/common_runtime/gpu_fusion_pass.cc:507] ROCm Fusion is enabled.\n",
      "2022-12-19 07:04:17.012413: I tensorflow/core/common_runtime/gpu_fusion_pass.cc:507] ROCm Fusion is enabled.\n",
      "2022-12-19 07:04:24.136279: I tensorflow/core/common_runtime/gpu_fusion_pass.cc:507] ROCm Fusion is enabled.\n",
      "2022-12-19 07:04:24.145172: I tensorflow/core/common_runtime/gpu_fusion_pass.cc:507] ROCm Fusion is enabled.\n",
      "2022-12-19 07:04:24.151017: I tensorflow/core/common_runtime/gpu_fusion_pass.cc:507] ROCm Fusion is enabled.\n",
      "2022-12-19 07:04:31.284058: I tensorflow/core/common_runtime/gpu_fusion_pass.cc:507] ROCm Fusion is enabled.\n",
      "2022-12-19 07:04:31.292163: I tensorflow/core/common_runtime/gpu_fusion_pass.cc:507] ROCm Fusion is enabled.\n",
      "2022-12-19 07:04:31.298186: I tensorflow/core/common_runtime/gpu_fusion_pass.cc:507] ROCm Fusion is enabled.\n",
      "2022-12-19 07:04:38.428162: I tensorflow/core/common_runtime/gpu_fusion_pass.cc:507] ROCm Fusion is enabled.\n",
      "2022-12-19 07:04:38.436313: I tensorflow/core/common_runtime/gpu_fusion_pass.cc:507] ROCm Fusion is enabled.\n",
      "2022-12-19 07:04:38.442353: I tensorflow/core/common_runtime/gpu_fusion_pass.cc:507] ROCm Fusion is enabled.\n",
      "2022-12-19 07:04:45.545628: I tensorflow/core/common_runtime/gpu_fusion_pass.cc:507] ROCm Fusion is enabled.\n",
      "2022-12-19 07:04:45.554596: I tensorflow/core/common_runtime/gpu_fusion_pass.cc:507] ROCm Fusion is enabled.\n",
      "2022-12-19 07:04:45.561271: I tensorflow/core/common_runtime/gpu_fusion_pass.cc:507] ROCm Fusion is enabled.\n",
      "2022-12-19 07:04:52.694872: I tensorflow/core/common_runtime/gpu_fusion_pass.cc:507] ROCm Fusion is enabled.\n",
      "2022-12-19 07:04:52.703140: I tensorflow/core/common_runtime/gpu_fusion_pass.cc:507] ROCm Fusion is enabled.\n",
      "2022-12-19 07:04:52.709191: I tensorflow/core/common_runtime/gpu_fusion_pass.cc:507] ROCm Fusion is enabled.\n",
      "2022-12-19 07:04:59.848948: I tensorflow/core/common_runtime/gpu_fusion_pass.cc:507] ROCm Fusion is enabled.\n",
      "2022-12-19 07:04:59.857261: I tensorflow/core/common_runtime/gpu_fusion_pass.cc:507] ROCm Fusion is enabled.\n",
      "2022-12-19 07:04:59.863362: I tensorflow/core/common_runtime/gpu_fusion_pass.cc:507] ROCm Fusion is enabled.\n",
      "2022-12-19 07:05:06.991326: I tensorflow/core/common_runtime/gpu_fusion_pass.cc:507] ROCm Fusion is enabled.\n",
      "2022-12-19 07:05:06.999873: I tensorflow/core/common_runtime/gpu_fusion_pass.cc:507] ROCm Fusion is enabled.\n",
      "2022-12-19 07:05:07.006018: I tensorflow/core/common_runtime/gpu_fusion_pass.cc:507] ROCm Fusion is enabled.\n",
      "2022-12-19 07:05:14.133410: I tensorflow/core/common_runtime/gpu_fusion_pass.cc:507] ROCm Fusion is enabled.\n",
      "2022-12-19 07:05:14.141789: I tensorflow/core/common_runtime/gpu_fusion_pass.cc:507] ROCm Fusion is enabled.\n",
      "2022-12-19 07:05:14.147900: I tensorflow/core/common_runtime/gpu_fusion_pass.cc:507] ROCm Fusion is enabled.\n",
      "2022-12-19 07:05:21.265415: I tensorflow/core/common_runtime/gpu_fusion_pass.cc:507] ROCm Fusion is enabled.\n",
      "2022-12-19 07:05:21.273806: I tensorflow/core/common_runtime/gpu_fusion_pass.cc:507] ROCm Fusion is enabled.\n",
      "2022-12-19 07:05:21.279897: I tensorflow/core/common_runtime/gpu_fusion_pass.cc:507] ROCm Fusion is enabled.\n",
      "2022-12-19 07:05:28.418725: I tensorflow/core/common_runtime/gpu_fusion_pass.cc:507] ROCm Fusion is enabled.\n",
      "2022-12-19 07:05:28.428122: I tensorflow/core/common_runtime/gpu_fusion_pass.cc:507] ROCm Fusion is enabled.\n",
      "2022-12-19 07:05:28.434912: I tensorflow/core/common_runtime/gpu_fusion_pass.cc:507] ROCm Fusion is enabled.\n",
      "2022-12-19 07:05:35.568974: I tensorflow/core/common_runtime/gpu_fusion_pass.cc:507] ROCm Fusion is enabled.\n",
      "2022-12-19 07:05:35.577330: I tensorflow/core/common_runtime/gpu_fusion_pass.cc:507] ROCm Fusion is enabled.\n",
      "2022-12-19 07:05:35.583450: I tensorflow/core/common_runtime/gpu_fusion_pass.cc:507] ROCm Fusion is enabled.\n",
      "2022-12-19 07:05:42.726737: I tensorflow/core/common_runtime/gpu_fusion_pass.cc:507] ROCm Fusion is enabled.\n",
      "2022-12-19 07:05:42.735117: I tensorflow/core/common_runtime/gpu_fusion_pass.cc:507] ROCm Fusion is enabled.\n",
      "2022-12-19 07:05:42.741266: I tensorflow/core/common_runtime/gpu_fusion_pass.cc:507] ROCm Fusion is enabled.\n",
      "2022-12-19 07:05:49.869069: I tensorflow/core/common_runtime/gpu_fusion_pass.cc:507] ROCm Fusion is enabled.\n",
      "2022-12-19 07:05:49.877135: I tensorflow/core/common_runtime/gpu_fusion_pass.cc:507] ROCm Fusion is enabled.\n",
      "2022-12-19 07:05:49.882188: I tensorflow/core/common_runtime/gpu_fusion_pass.cc:507] ROCm Fusion is enabled.\n",
      "2022-12-19 07:05:57.019165: I tensorflow/core/common_runtime/gpu_fusion_pass.cc:507] ROCm Fusion is enabled.\n",
      "2022-12-19 07:05:57.027703: I tensorflow/core/common_runtime/gpu_fusion_pass.cc:507] ROCm Fusion is enabled.\n",
      "2022-12-19 07:05:57.033959: I tensorflow/core/common_runtime/gpu_fusion_pass.cc:507] ROCm Fusion is enabled.\n",
      "2022-12-19 07:06:04.158959: I tensorflow/core/common_runtime/gpu_fusion_pass.cc:507] ROCm Fusion is enabled.\n",
      "2022-12-19 07:06:04.168184: I tensorflow/core/common_runtime/gpu_fusion_pass.cc:507] ROCm Fusion is enabled.\n",
      "2022-12-19 07:06:04.175102: I tensorflow/core/common_runtime/gpu_fusion_pass.cc:507] ROCm Fusion is enabled.\n",
      "2022-12-19 07:06:11.297726: I tensorflow/core/common_runtime/gpu_fusion_pass.cc:507] ROCm Fusion is enabled.\n",
      "2022-12-19 07:06:11.306320: I tensorflow/core/common_runtime/gpu_fusion_pass.cc:507] ROCm Fusion is enabled.\n",
      "2022-12-19 07:06:11.312610: I tensorflow/core/common_runtime/gpu_fusion_pass.cc:507] ROCm Fusion is enabled.\n",
      "2022-12-19 07:06:18.428989: I tensorflow/core/common_runtime/gpu_fusion_pass.cc:507] ROCm Fusion is enabled.\n",
      "2022-12-19 07:06:18.437644: I tensorflow/core/common_runtime/gpu_fusion_pass.cc:507] ROCm Fusion is enabled.\n",
      "2022-12-19 07:06:18.443946: I tensorflow/core/common_runtime/gpu_fusion_pass.cc:507] ROCm Fusion is enabled.\n",
      "2022-12-19 07:06:25.547830: I tensorflow/core/common_runtime/gpu_fusion_pass.cc:507] ROCm Fusion is enabled.\n",
      "2022-12-19 07:06:25.556617: I tensorflow/core/common_runtime/gpu_fusion_pass.cc:507] ROCm Fusion is enabled.\n",
      "2022-12-19 07:06:25.562973: I tensorflow/core/common_runtime/gpu_fusion_pass.cc:507] ROCm Fusion is enabled.\n",
      "2022-12-19 07:06:32.693509: I tensorflow/core/common_runtime/gpu_fusion_pass.cc:507] ROCm Fusion is enabled.\n",
      "2022-12-19 07:06:32.702123: I tensorflow/core/common_runtime/gpu_fusion_pass.cc:507] ROCm Fusion is enabled.\n",
      "2022-12-19 07:06:32.708462: I tensorflow/core/common_runtime/gpu_fusion_pass.cc:507] ROCm Fusion is enabled.\n",
      "2022-12-19 07:06:39.841970: I tensorflow/core/common_runtime/gpu_fusion_pass.cc:507] ROCm Fusion is enabled.\n",
      "2022-12-19 07:06:39.851584: I tensorflow/core/common_runtime/gpu_fusion_pass.cc:507] ROCm Fusion is enabled.\n",
      "2022-12-19 07:06:39.857800: I tensorflow/core/common_runtime/gpu_fusion_pass.cc:507] ROCm Fusion is enabled.\n",
      "2022-12-19 07:06:46.987335: I tensorflow/core/common_runtime/gpu_fusion_pass.cc:507] ROCm Fusion is enabled.\n",
      "2022-12-19 07:06:46.996067: I tensorflow/core/common_runtime/gpu_fusion_pass.cc:507] ROCm Fusion is enabled.\n",
      "2022-12-19 07:06:47.002452: I tensorflow/core/common_runtime/gpu_fusion_pass.cc:507] ROCm Fusion is enabled.\n",
      "2022-12-19 07:06:54.128462: I tensorflow/core/common_runtime/gpu_fusion_pass.cc:507] ROCm Fusion is enabled.\n",
      "2022-12-19 07:06:54.137224: I tensorflow/core/common_runtime/gpu_fusion_pass.cc:507] ROCm Fusion is enabled.\n",
      "2022-12-19 07:06:54.143623: I tensorflow/core/common_runtime/gpu_fusion_pass.cc:507] ROCm Fusion is enabled.\n",
      "2022-12-19 07:07:01.278432: I tensorflow/core/common_runtime/gpu_fusion_pass.cc:507] ROCm Fusion is enabled.\n",
      "2022-12-19 07:07:01.287210: I tensorflow/core/common_runtime/gpu_fusion_pass.cc:507] ROCm Fusion is enabled.\n",
      "2022-12-19 07:07:01.293653: I tensorflow/core/common_runtime/gpu_fusion_pass.cc:507] ROCm Fusion is enabled.\n",
      "2022-12-19 07:07:08.437251: I tensorflow/core/common_runtime/gpu_fusion_pass.cc:507] ROCm Fusion is enabled.\n",
      "2022-12-19 07:07:08.445964: I tensorflow/core/common_runtime/gpu_fusion_pass.cc:507] ROCm Fusion is enabled.\n",
      "2022-12-19 07:07:08.452336: I tensorflow/core/common_runtime/gpu_fusion_pass.cc:507] ROCm Fusion is enabled.\n",
      "2022-12-19 07:07:15.558751: I tensorflow/core/common_runtime/gpu_fusion_pass.cc:507] ROCm Fusion is enabled.\n",
      "2022-12-19 07:07:15.567306: I tensorflow/core/common_runtime/gpu_fusion_pass.cc:507] ROCm Fusion is enabled.\n",
      "2022-12-19 07:07:15.573480: I tensorflow/core/common_runtime/gpu_fusion_pass.cc:507] ROCm Fusion is enabled.\n",
      "2022-12-19 07:07:22.710037: I tensorflow/core/common_runtime/gpu_fusion_pass.cc:507] ROCm Fusion is enabled.\n",
      "2022-12-19 07:07:22.718923: I tensorflow/core/common_runtime/gpu_fusion_pass.cc:507] ROCm Fusion is enabled.\n",
      "2022-12-19 07:07:22.725406: I tensorflow/core/common_runtime/gpu_fusion_pass.cc:507] ROCm Fusion is enabled.\n",
      "2022-12-19 07:07:29.866003: I tensorflow/core/common_runtime/gpu_fusion_pass.cc:507] ROCm Fusion is enabled.\n",
      "2022-12-19 07:07:29.875681: I tensorflow/core/common_runtime/gpu_fusion_pass.cc:507] ROCm Fusion is enabled.\n",
      "2022-12-19 07:07:29.882643: I tensorflow/core/common_runtime/gpu_fusion_pass.cc:507] ROCm Fusion is enabled.\n",
      "2022-12-19 07:07:37.013468: I tensorflow/core/common_runtime/gpu_fusion_pass.cc:507] ROCm Fusion is enabled.\n",
      "2022-12-19 07:07:37.022275: I tensorflow/core/common_runtime/gpu_fusion_pass.cc:507] ROCm Fusion is enabled.\n",
      "2022-12-19 07:07:37.028712: I tensorflow/core/common_runtime/gpu_fusion_pass.cc:507] ROCm Fusion is enabled.\n",
      "2022-12-19 07:07:44.142886: I tensorflow/core/common_runtime/gpu_fusion_pass.cc:507] ROCm Fusion is enabled.\n",
      "2022-12-19 07:07:44.150361: I tensorflow/core/common_runtime/gpu_fusion_pass.cc:507] ROCm Fusion is enabled.\n",
      "2022-12-19 07:07:44.155351: I tensorflow/core/common_runtime/gpu_fusion_pass.cc:507] ROCm Fusion is enabled.\n",
      "2022-12-19 07:07:51.281140: I tensorflow/core/common_runtime/gpu_fusion_pass.cc:507] ROCm Fusion is enabled.\n",
      "2022-12-19 07:07:51.289945: I tensorflow/core/common_runtime/gpu_fusion_pass.cc:507] ROCm Fusion is enabled.\n",
      "2022-12-19 07:07:51.297065: I tensorflow/core/common_runtime/gpu_fusion_pass.cc:507] ROCm Fusion is enabled.\n",
      "2022-12-19 07:07:58.437753: I tensorflow/core/common_runtime/gpu_fusion_pass.cc:507] ROCm Fusion is enabled.\n",
      "2022-12-19 07:07:58.446417: I tensorflow/core/common_runtime/gpu_fusion_pass.cc:507] ROCm Fusion is enabled.\n",
      "2022-12-19 07:07:58.452893: I tensorflow/core/common_runtime/gpu_fusion_pass.cc:507] ROCm Fusion is enabled.\n",
      "2022-12-19 07:08:05.562027: I tensorflow/core/common_runtime/gpu_fusion_pass.cc:507] ROCm Fusion is enabled.\n",
      "2022-12-19 07:08:05.570793: I tensorflow/core/common_runtime/gpu_fusion_pass.cc:507] ROCm Fusion is enabled.\n",
      "2022-12-19 07:08:05.577328: I tensorflow/core/common_runtime/gpu_fusion_pass.cc:507] ROCm Fusion is enabled.\n",
      "2022-12-19 07:08:12.707170: I tensorflow/core/common_runtime/gpu_fusion_pass.cc:507] ROCm Fusion is enabled.\n",
      "2022-12-19 07:08:12.715924: I tensorflow/core/common_runtime/gpu_fusion_pass.cc:507] ROCm Fusion is enabled.\n",
      "2022-12-19 07:08:12.722429: I tensorflow/core/common_runtime/gpu_fusion_pass.cc:507] ROCm Fusion is enabled.\n",
      "2022-12-19 07:08:19.855989: I tensorflow/core/common_runtime/gpu_fusion_pass.cc:507] ROCm Fusion is enabled.\n",
      "2022-12-19 07:08:19.864779: I tensorflow/core/common_runtime/gpu_fusion_pass.cc:507] ROCm Fusion is enabled.\n",
      "2022-12-19 07:08:19.871310: I tensorflow/core/common_runtime/gpu_fusion_pass.cc:507] ROCm Fusion is enabled.\n",
      "2022-12-19 07:08:26.996219: I tensorflow/core/common_runtime/gpu_fusion_pass.cc:507] ROCm Fusion is enabled.\n",
      "2022-12-19 07:08:27.005002: I tensorflow/core/common_runtime/gpu_fusion_pass.cc:507] ROCm Fusion is enabled.\n",
      "2022-12-19 07:08:27.011559: I tensorflow/core/common_runtime/gpu_fusion_pass.cc:507] ROCm Fusion is enabled.\n",
      "2022-12-19 07:08:34.137290: I tensorflow/core/common_runtime/gpu_fusion_pass.cc:507] ROCm Fusion is enabled.\n",
      "2022-12-19 07:08:34.146975: I tensorflow/core/common_runtime/gpu_fusion_pass.cc:507] ROCm Fusion is enabled.\n",
      "2022-12-19 07:08:34.154235: I tensorflow/core/common_runtime/gpu_fusion_pass.cc:507] ROCm Fusion is enabled.\n",
      "2022-12-19 07:08:41.288236: I tensorflow/core/common_runtime/gpu_fusion_pass.cc:507] ROCm Fusion is enabled.\n",
      "2022-12-19 07:08:41.297097: I tensorflow/core/common_runtime/gpu_fusion_pass.cc:507] ROCm Fusion is enabled.\n",
      "2022-12-19 07:08:41.303643: I tensorflow/core/common_runtime/gpu_fusion_pass.cc:507] ROCm Fusion is enabled.\n",
      "2022-12-19 07:08:48.453152: I tensorflow/core/common_runtime/gpu_fusion_pass.cc:507] ROCm Fusion is enabled.\n",
      "2022-12-19 07:08:48.461967: I tensorflow/core/common_runtime/gpu_fusion_pass.cc:507] ROCm Fusion is enabled.\n",
      "2022-12-19 07:08:48.468531: I tensorflow/core/common_runtime/gpu_fusion_pass.cc:507] ROCm Fusion is enabled.\n",
      "2022-12-19 07:08:55.601269: I tensorflow/core/common_runtime/gpu_fusion_pass.cc:507] ROCm Fusion is enabled.\n",
      "2022-12-19 07:08:55.610795: I tensorflow/core/common_runtime/gpu_fusion_pass.cc:507] ROCm Fusion is enabled.\n",
      "2022-12-19 07:08:55.615904: I tensorflow/core/common_runtime/gpu_fusion_pass.cc:507] ROCm Fusion is enabled.\n",
      "2022-12-19 07:09:02.747647: I tensorflow/core/common_runtime/gpu_fusion_pass.cc:507] ROCm Fusion is enabled.\n",
      "2022-12-19 07:09:02.756510: I tensorflow/core/common_runtime/gpu_fusion_pass.cc:507] ROCm Fusion is enabled.\n",
      "2022-12-19 07:09:02.763106: I tensorflow/core/common_runtime/gpu_fusion_pass.cc:507] ROCm Fusion is enabled.\n",
      "2022-12-19 07:09:09.910595: I tensorflow/core/common_runtime/gpu_fusion_pass.cc:507] ROCm Fusion is enabled.\n",
      "2022-12-19 07:09:09.919476: I tensorflow/core/common_runtime/gpu_fusion_pass.cc:507] ROCm Fusion is enabled.\n",
      "2022-12-19 07:09:09.926050: I tensorflow/core/common_runtime/gpu_fusion_pass.cc:507] ROCm Fusion is enabled.\n",
      "2022-12-19 07:09:17.067776: I tensorflow/core/common_runtime/gpu_fusion_pass.cc:507] ROCm Fusion is enabled.\n",
      "2022-12-19 07:09:17.077575: I tensorflow/core/common_runtime/gpu_fusion_pass.cc:507] ROCm Fusion is enabled.\n",
      "2022-12-19 07:09:17.084832: I tensorflow/core/common_runtime/gpu_fusion_pass.cc:507] ROCm Fusion is enabled.\n",
      "2022-12-19 07:09:24.204570: I tensorflow/core/common_runtime/gpu_fusion_pass.cc:507] ROCm Fusion is enabled.\n",
      "2022-12-19 07:09:24.213080: I tensorflow/core/common_runtime/gpu_fusion_pass.cc:507] ROCm Fusion is enabled.\n",
      "2022-12-19 07:09:24.219548: I tensorflow/core/common_runtime/gpu_fusion_pass.cc:507] ROCm Fusion is enabled.\n",
      "2022-12-19 07:09:31.358998: I tensorflow/core/common_runtime/gpu_fusion_pass.cc:507] ROCm Fusion is enabled.\n",
      "2022-12-19 07:09:31.366326: I tensorflow/core/common_runtime/gpu_fusion_pass.cc:507] ROCm Fusion is enabled.\n",
      "2022-12-19 07:09:31.371975: I tensorflow/core/common_runtime/gpu_fusion_pass.cc:507] ROCm Fusion is enabled.\n",
      "2022-12-19 07:09:38.514595: I tensorflow/core/common_runtime/gpu_fusion_pass.cc:507] ROCm Fusion is enabled.\n",
      "2022-12-19 07:09:38.523448: I tensorflow/core/common_runtime/gpu_fusion_pass.cc:507] ROCm Fusion is enabled.\n",
      "2022-12-19 07:09:38.530144: I tensorflow/core/common_runtime/gpu_fusion_pass.cc:507] ROCm Fusion is enabled.\n",
      "2022-12-19 07:09:45.660846: I tensorflow/core/common_runtime/gpu_fusion_pass.cc:507] ROCm Fusion is enabled.\n",
      "2022-12-19 07:09:45.669587: I tensorflow/core/common_runtime/gpu_fusion_pass.cc:507] ROCm Fusion is enabled.\n",
      "2022-12-19 07:09:45.676211: I tensorflow/core/common_runtime/gpu_fusion_pass.cc:507] ROCm Fusion is enabled.\n",
      "2022-12-19 07:09:52.811159: I tensorflow/core/common_runtime/gpu_fusion_pass.cc:507] ROCm Fusion is enabled.\n",
      "2022-12-19 07:09:52.820020: I tensorflow/core/common_runtime/gpu_fusion_pass.cc:507] ROCm Fusion is enabled.\n",
      "2022-12-19 07:09:52.826490: I tensorflow/core/common_runtime/gpu_fusion_pass.cc:507] ROCm Fusion is enabled.\n",
      "2022-12-19 07:09:59.972501: I tensorflow/core/common_runtime/gpu_fusion_pass.cc:507] ROCm Fusion is enabled.\n",
      "2022-12-19 07:09:59.981371: I tensorflow/core/common_runtime/gpu_fusion_pass.cc:507] ROCm Fusion is enabled.\n",
      "2022-12-19 07:09:59.988000: I tensorflow/core/common_runtime/gpu_fusion_pass.cc:507] ROCm Fusion is enabled.\n",
      "2022-12-19 07:10:07.112508: I tensorflow/core/common_runtime/gpu_fusion_pass.cc:507] ROCm Fusion is enabled.\n",
      "2022-12-19 07:10:07.121342: I tensorflow/core/common_runtime/gpu_fusion_pass.cc:507] ROCm Fusion is enabled.\n",
      "2022-12-19 07:10:07.127967: I tensorflow/core/common_runtime/gpu_fusion_pass.cc:507] ROCm Fusion is enabled.\n",
      "2022-12-19 07:10:14.251923: I tensorflow/core/common_runtime/gpu_fusion_pass.cc:507] ROCm Fusion is enabled.\n",
      "2022-12-19 07:10:14.260826: I tensorflow/core/common_runtime/gpu_fusion_pass.cc:507] ROCm Fusion is enabled.\n",
      "2022-12-19 07:10:14.267478: I tensorflow/core/common_runtime/gpu_fusion_pass.cc:507] ROCm Fusion is enabled.\n",
      "2022-12-19 07:10:21.395583: I tensorflow/core/common_runtime/gpu_fusion_pass.cc:507] ROCm Fusion is enabled.\n",
      "2022-12-19 07:10:21.404400: I tensorflow/core/common_runtime/gpu_fusion_pass.cc:507] ROCm Fusion is enabled.\n",
      "2022-12-19 07:10:21.410937: I tensorflow/core/common_runtime/gpu_fusion_pass.cc:507] ROCm Fusion is enabled.\n",
      "2022-12-19 07:10:28.563080: I tensorflow/core/common_runtime/gpu_fusion_pass.cc:507] ROCm Fusion is enabled.\n",
      "2022-12-19 07:10:28.571941: I tensorflow/core/common_runtime/gpu_fusion_pass.cc:507] ROCm Fusion is enabled.\n",
      "2022-12-19 07:10:28.578668: I tensorflow/core/common_runtime/gpu_fusion_pass.cc:507] ROCm Fusion is enabled.\n",
      "2022-12-19 07:10:35.686600: I tensorflow/core/common_runtime/gpu_fusion_pass.cc:507] ROCm Fusion is enabled.\n",
      "2022-12-19 07:10:35.695518: I tensorflow/core/common_runtime/gpu_fusion_pass.cc:507] ROCm Fusion is enabled.\n",
      "2022-12-19 07:10:35.702193: I tensorflow/core/common_runtime/gpu_fusion_pass.cc:507] ROCm Fusion is enabled.\n",
      "2022-12-19 07:10:42.842489: I tensorflow/core/common_runtime/gpu_fusion_pass.cc:507] ROCm Fusion is enabled.\n",
      "2022-12-19 07:10:42.851377: I tensorflow/core/common_runtime/gpu_fusion_pass.cc:507] ROCm Fusion is enabled.\n",
      "2022-12-19 07:10:42.858038: I tensorflow/core/common_runtime/gpu_fusion_pass.cc:507] ROCm Fusion is enabled.\n",
      "2022-12-19 07:10:49.996878: I tensorflow/core/common_runtime/gpu_fusion_pass.cc:507] ROCm Fusion is enabled.\n",
      "2022-12-19 07:10:50.005725: I tensorflow/core/common_runtime/gpu_fusion_pass.cc:507] ROCm Fusion is enabled.\n",
      "2022-12-19 07:10:50.012338: I tensorflow/core/common_runtime/gpu_fusion_pass.cc:507] ROCm Fusion is enabled.\n",
      "2022-12-19 07:10:57.129113: I tensorflow/core/common_runtime/gpu_fusion_pass.cc:507] ROCm Fusion is enabled.\n",
      "2022-12-19 07:10:57.137985: I tensorflow/core/common_runtime/gpu_fusion_pass.cc:507] ROCm Fusion is enabled.\n",
      "2022-12-19 07:10:57.144625: I tensorflow/core/common_runtime/gpu_fusion_pass.cc:507] ROCm Fusion is enabled.\n",
      "2022-12-19 07:11:04.263944: I tensorflow/core/common_runtime/gpu_fusion_pass.cc:507] ROCm Fusion is enabled.\n",
      "2022-12-19 07:11:04.272837: I tensorflow/core/common_runtime/gpu_fusion_pass.cc:507] ROCm Fusion is enabled.\n",
      "2022-12-19 07:11:04.279500: I tensorflow/core/common_runtime/gpu_fusion_pass.cc:507] ROCm Fusion is enabled.\n",
      "2022-12-19 07:11:11.419940: I tensorflow/core/common_runtime/gpu_fusion_pass.cc:507] ROCm Fusion is enabled.\n",
      "2022-12-19 07:11:11.428816: I tensorflow/core/common_runtime/gpu_fusion_pass.cc:507] ROCm Fusion is enabled.\n",
      "2022-12-19 07:11:11.435489: I tensorflow/core/common_runtime/gpu_fusion_pass.cc:507] ROCm Fusion is enabled.\n",
      "2022-12-19 07:11:18.560867: I tensorflow/core/common_runtime/gpu_fusion_pass.cc:507] ROCm Fusion is enabled.\n",
      "2022-12-19 07:11:18.570547: I tensorflow/core/common_runtime/gpu_fusion_pass.cc:507] ROCm Fusion is enabled.\n",
      "2022-12-19 07:11:18.576566: I tensorflow/core/common_runtime/gpu_fusion_pass.cc:507] ROCm Fusion is enabled.\n",
      "2022-12-19 07:11:25.690968: I tensorflow/core/common_runtime/gpu_fusion_pass.cc:507] ROCm Fusion is enabled.\n",
      "2022-12-19 07:11:25.699738: I tensorflow/core/common_runtime/gpu_fusion_pass.cc:507] ROCm Fusion is enabled.\n",
      "2022-12-19 07:11:25.706408: I tensorflow/core/common_runtime/gpu_fusion_pass.cc:507] ROCm Fusion is enabled.\n",
      "2022-12-19 07:11:32.832530: I tensorflow/core/common_runtime/gpu_fusion_pass.cc:507] ROCm Fusion is enabled.\n",
      "2022-12-19 07:11:32.841284: I tensorflow/core/common_runtime/gpu_fusion_pass.cc:507] ROCm Fusion is enabled.\n",
      "2022-12-19 07:11:32.847952: I tensorflow/core/common_runtime/gpu_fusion_pass.cc:507] ROCm Fusion is enabled.\n",
      "2022-12-19 07:11:40.011997: I tensorflow/core/common_runtime/gpu_fusion_pass.cc:507] ROCm Fusion is enabled.\n",
      "2022-12-19 07:11:40.020860: I tensorflow/core/common_runtime/gpu_fusion_pass.cc:507] ROCm Fusion is enabled.\n",
      "2022-12-19 07:11:40.027511: I tensorflow/core/common_runtime/gpu_fusion_pass.cc:507] ROCm Fusion is enabled.\n",
      "2022-12-19 07:11:47.146509: I tensorflow/core/common_runtime/gpu_fusion_pass.cc:507] ROCm Fusion is enabled.\n",
      "2022-12-19 07:11:47.155674: I tensorflow/core/common_runtime/gpu_fusion_pass.cc:507] ROCm Fusion is enabled.\n",
      "2022-12-19 07:11:47.162355: I tensorflow/core/common_runtime/gpu_fusion_pass.cc:507] ROCm Fusion is enabled.\n",
      "2022-12-19 07:11:54.286123: I tensorflow/core/common_runtime/gpu_fusion_pass.cc:507] ROCm Fusion is enabled.\n",
      "2022-12-19 07:11:54.294860: I tensorflow/core/common_runtime/gpu_fusion_pass.cc:507] ROCm Fusion is enabled.\n",
      "2022-12-19 07:11:54.301494: I tensorflow/core/common_runtime/gpu_fusion_pass.cc:507] ROCm Fusion is enabled.\n",
      "2022-12-19 07:12:01.450271: I tensorflow/core/common_runtime/gpu_fusion_pass.cc:507] ROCm Fusion is enabled.\n",
      "2022-12-19 07:12:01.459054: I tensorflow/core/common_runtime/gpu_fusion_pass.cc:507] ROCm Fusion is enabled.\n",
      "2022-12-19 07:12:01.465718: I tensorflow/core/common_runtime/gpu_fusion_pass.cc:507] ROCm Fusion is enabled.\n",
      "2022-12-19 07:12:08.605370: I tensorflow/core/common_runtime/gpu_fusion_pass.cc:507] ROCm Fusion is enabled.\n",
      "2022-12-19 07:12:08.614162: I tensorflow/core/common_runtime/gpu_fusion_pass.cc:507] ROCm Fusion is enabled.\n",
      "2022-12-19 07:12:08.620813: I tensorflow/core/common_runtime/gpu_fusion_pass.cc:507] ROCm Fusion is enabled.\n",
      "2022-12-19 07:12:15.740741: I tensorflow/core/common_runtime/gpu_fusion_pass.cc:507] ROCm Fusion is enabled.\n",
      "2022-12-19 07:12:15.749526: I tensorflow/core/common_runtime/gpu_fusion_pass.cc:507] ROCm Fusion is enabled.\n",
      "2022-12-19 07:12:15.755856: I tensorflow/core/common_runtime/gpu_fusion_pass.cc:507] ROCm Fusion is enabled.\n",
      "2022-12-19 07:12:22.891426: I tensorflow/core/common_runtime/gpu_fusion_pass.cc:507] ROCm Fusion is enabled.\n",
      "2022-12-19 07:12:22.900173: I tensorflow/core/common_runtime/gpu_fusion_pass.cc:507] ROCm Fusion is enabled.\n",
      "2022-12-19 07:12:22.906804: I tensorflow/core/common_runtime/gpu_fusion_pass.cc:507] ROCm Fusion is enabled.\n",
      "2022-12-19 07:12:30.053619: I tensorflow/core/common_runtime/gpu_fusion_pass.cc:507] ROCm Fusion is enabled.\n",
      "2022-12-19 07:12:30.062519: I tensorflow/core/common_runtime/gpu_fusion_pass.cc:507] ROCm Fusion is enabled.\n",
      "2022-12-19 07:12:30.069203: I tensorflow/core/common_runtime/gpu_fusion_pass.cc:507] ROCm Fusion is enabled.\n",
      "2022-12-19 07:12:37.183843: I tensorflow/core/common_runtime/gpu_fusion_pass.cc:507] ROCm Fusion is enabled.\n",
      "2022-12-19 07:12:37.192774: I tensorflow/core/common_runtime/gpu_fusion_pass.cc:507] ROCm Fusion is enabled.\n",
      "2022-12-19 07:12:37.199441: I tensorflow/core/common_runtime/gpu_fusion_pass.cc:507] ROCm Fusion is enabled.\n",
      "2022-12-19 07:12:44.334480: I tensorflow/core/common_runtime/gpu_fusion_pass.cc:507] ROCm Fusion is enabled.\n",
      "2022-12-19 07:12:44.343359: I tensorflow/core/common_runtime/gpu_fusion_pass.cc:507] ROCm Fusion is enabled.\n",
      "2022-12-19 07:12:44.350010: I tensorflow/core/common_runtime/gpu_fusion_pass.cc:507] ROCm Fusion is enabled.\n",
      "2022-12-19 07:12:51.502192: I tensorflow/core/common_runtime/gpu_fusion_pass.cc:507] ROCm Fusion is enabled.\n",
      "2022-12-19 07:12:51.511057: I tensorflow/core/common_runtime/gpu_fusion_pass.cc:507] ROCm Fusion is enabled.\n",
      "2022-12-19 07:12:51.517714: I tensorflow/core/common_runtime/gpu_fusion_pass.cc:507] ROCm Fusion is enabled.\n",
      "2022-12-19 07:12:58.658009: I tensorflow/core/common_runtime/gpu_fusion_pass.cc:507] ROCm Fusion is enabled.\n",
      "2022-12-19 07:12:58.667002: I tensorflow/core/common_runtime/gpu_fusion_pass.cc:507] ROCm Fusion is enabled.\n",
      "2022-12-19 07:12:58.673753: I tensorflow/core/common_runtime/gpu_fusion_pass.cc:507] ROCm Fusion is enabled.\n",
      "2022-12-19 07:13:05.801946: I tensorflow/core/common_runtime/gpu_fusion_pass.cc:507] ROCm Fusion is enabled.\n",
      "2022-12-19 07:13:05.810767: I tensorflow/core/common_runtime/gpu_fusion_pass.cc:507] ROCm Fusion is enabled.\n",
      "2022-12-19 07:13:05.817413: I tensorflow/core/common_runtime/gpu_fusion_pass.cc:507] ROCm Fusion is enabled.\n",
      "2022-12-19 07:13:12.955449: I tensorflow/core/common_runtime/gpu_fusion_pass.cc:507] ROCm Fusion is enabled.\n",
      "2022-12-19 07:13:12.964256: I tensorflow/core/common_runtime/gpu_fusion_pass.cc:507] ROCm Fusion is enabled.\n",
      "2022-12-19 07:13:12.970921: I tensorflow/core/common_runtime/gpu_fusion_pass.cc:507] ROCm Fusion is enabled.\n",
      "2022-12-19 07:13:20.094005: I tensorflow/core/common_runtime/gpu_fusion_pass.cc:507] ROCm Fusion is enabled.\n",
      "2022-12-19 07:13:20.102760: I tensorflow/core/common_runtime/gpu_fusion_pass.cc:507] ROCm Fusion is enabled.\n",
      "2022-12-19 07:13:20.109397: I tensorflow/core/common_runtime/gpu_fusion_pass.cc:507] ROCm Fusion is enabled.\n",
      "2022-12-19 07:13:27.234331: I tensorflow/core/common_runtime/gpu_fusion_pass.cc:507] ROCm Fusion is enabled.\n",
      "2022-12-19 07:13:27.243133: I tensorflow/core/common_runtime/gpu_fusion_pass.cc:507] ROCm Fusion is enabled.\n",
      "2022-12-19 07:13:27.249785: I tensorflow/core/common_runtime/gpu_fusion_pass.cc:507] ROCm Fusion is enabled.\n",
      "2022-12-19 07:13:34.368608: I tensorflow/core/common_runtime/gpu_fusion_pass.cc:507] ROCm Fusion is enabled.\n",
      "2022-12-19 07:13:34.377594: I tensorflow/core/common_runtime/gpu_fusion_pass.cc:507] ROCm Fusion is enabled.\n",
      "2022-12-19 07:13:34.384514: I tensorflow/core/common_runtime/gpu_fusion_pass.cc:507] ROCm Fusion is enabled.\n",
      "2022-12-19 07:13:41.535852: I tensorflow/core/common_runtime/gpu_fusion_pass.cc:507] ROCm Fusion is enabled.\n",
      "2022-12-19 07:13:41.544770: I tensorflow/core/common_runtime/gpu_fusion_pass.cc:507] ROCm Fusion is enabled.\n",
      "2022-12-19 07:13:41.551423: I tensorflow/core/common_runtime/gpu_fusion_pass.cc:507] ROCm Fusion is enabled.\n",
      "2022-12-19 07:13:48.678670: I tensorflow/core/common_runtime/gpu_fusion_pass.cc:507] ROCm Fusion is enabled.\n",
      "2022-12-19 07:13:48.687243: I tensorflow/core/common_runtime/gpu_fusion_pass.cc:507] ROCm Fusion is enabled.\n",
      "2022-12-19 07:13:48.693749: I tensorflow/core/common_runtime/gpu_fusion_pass.cc:507] ROCm Fusion is enabled.\n",
      "2022-12-19 07:13:55.810646: I tensorflow/core/common_runtime/gpu_fusion_pass.cc:507] ROCm Fusion is enabled.\n",
      "2022-12-19 07:13:55.819221: I tensorflow/core/common_runtime/gpu_fusion_pass.cc:507] ROCm Fusion is enabled.\n",
      "2022-12-19 07:13:55.825715: I tensorflow/core/common_runtime/gpu_fusion_pass.cc:507] ROCm Fusion is enabled.\n",
      "2022-12-19 07:14:02.950526: I tensorflow/core/common_runtime/gpu_fusion_pass.cc:507] ROCm Fusion is enabled.\n",
      "2022-12-19 07:14:02.959498: I tensorflow/core/common_runtime/gpu_fusion_pass.cc:507] ROCm Fusion is enabled.\n",
      "2022-12-19 07:14:02.966297: I tensorflow/core/common_runtime/gpu_fusion_pass.cc:507] ROCm Fusion is enabled.\n",
      "2022-12-19 07:14:10.111089: I tensorflow/core/common_runtime/gpu_fusion_pass.cc:507] ROCm Fusion is enabled.\n",
      "2022-12-19 07:14:10.119680: I tensorflow/core/common_runtime/gpu_fusion_pass.cc:507] ROCm Fusion is enabled.\n",
      "2022-12-19 07:14:10.126140: I tensorflow/core/common_runtime/gpu_fusion_pass.cc:507] ROCm Fusion is enabled.\n",
      "2022-12-19 07:14:17.241656: I tensorflow/core/common_runtime/gpu_fusion_pass.cc:507] ROCm Fusion is enabled.\n",
      "2022-12-19 07:14:17.250616: I tensorflow/core/common_runtime/gpu_fusion_pass.cc:507] ROCm Fusion is enabled.\n",
      "2022-12-19 07:14:17.257354: I tensorflow/core/common_runtime/gpu_fusion_pass.cc:507] ROCm Fusion is enabled.\n",
      "2022-12-19 07:14:24.382644: I tensorflow/core/common_runtime/gpu_fusion_pass.cc:507] ROCm Fusion is enabled.\n",
      "2022-12-19 07:14:24.391350: I tensorflow/core/common_runtime/gpu_fusion_pass.cc:507] ROCm Fusion is enabled.\n",
      "2022-12-19 07:14:24.397845: I tensorflow/core/common_runtime/gpu_fusion_pass.cc:507] ROCm Fusion is enabled.\n",
      "2022-12-19 07:14:31.541955: I tensorflow/core/common_runtime/gpu_fusion_pass.cc:507] ROCm Fusion is enabled.\n",
      "2022-12-19 07:14:31.550886: I tensorflow/core/common_runtime/gpu_fusion_pass.cc:507] ROCm Fusion is enabled.\n",
      "2022-12-19 07:14:31.557565: I tensorflow/core/common_runtime/gpu_fusion_pass.cc:507] ROCm Fusion is enabled.\n",
      "2022-12-19 07:14:38.704018: I tensorflow/core/common_runtime/gpu_fusion_pass.cc:507] ROCm Fusion is enabled.\n",
      "2022-12-19 07:14:38.712969: I tensorflow/core/common_runtime/gpu_fusion_pass.cc:507] ROCm Fusion is enabled.\n",
      "2022-12-19 07:14:38.719657: I tensorflow/core/common_runtime/gpu_fusion_pass.cc:507] ROCm Fusion is enabled.\n",
      "2022-12-19 07:14:45.843910: I tensorflow/core/common_runtime/gpu_fusion_pass.cc:507] ROCm Fusion is enabled.\n",
      "2022-12-19 07:14:45.852857: I tensorflow/core/common_runtime/gpu_fusion_pass.cc:507] ROCm Fusion is enabled.\n",
      "2022-12-19 07:14:45.859517: I tensorflow/core/common_runtime/gpu_fusion_pass.cc:507] ROCm Fusion is enabled.\n",
      "2022-12-19 07:14:52.997746: I tensorflow/core/common_runtime/gpu_fusion_pass.cc:507] ROCm Fusion is enabled.\n",
      "2022-12-19 07:14:53.006632: I tensorflow/core/common_runtime/gpu_fusion_pass.cc:507] ROCm Fusion is enabled.\n",
      "2022-12-19 07:14:53.013314: I tensorflow/core/common_runtime/gpu_fusion_pass.cc:507] ROCm Fusion is enabled.\n",
      "2022-12-19 07:15:00.166372: I tensorflow/core/common_runtime/gpu_fusion_pass.cc:507] ROCm Fusion is enabled.\n",
      "2022-12-19 07:15:00.176220: I tensorflow/core/common_runtime/gpu_fusion_pass.cc:507] ROCm Fusion is enabled.\n",
      "2022-12-19 07:15:00.182774: I tensorflow/core/common_runtime/gpu_fusion_pass.cc:507] ROCm Fusion is enabled.\n",
      "2022-12-19 07:15:07.314206: I tensorflow/core/common_runtime/gpu_fusion_pass.cc:507] ROCm Fusion is enabled.\n",
      "2022-12-19 07:15:07.322938: I tensorflow/core/common_runtime/gpu_fusion_pass.cc:507] ROCm Fusion is enabled.\n",
      "2022-12-19 07:15:07.329588: I tensorflow/core/common_runtime/gpu_fusion_pass.cc:507] ROCm Fusion is enabled.\n",
      "2022-12-19 07:15:14.456185: I tensorflow/core/common_runtime/gpu_fusion_pass.cc:507] ROCm Fusion is enabled.\n",
      "2022-12-19 07:15:14.464986: I tensorflow/core/common_runtime/gpu_fusion_pass.cc:507] ROCm Fusion is enabled.\n",
      "2022-12-19 07:15:14.471634: I tensorflow/core/common_runtime/gpu_fusion_pass.cc:507] ROCm Fusion is enabled.\n",
      "2022-12-19 07:15:21.618282: I tensorflow/core/common_runtime/gpu_fusion_pass.cc:507] ROCm Fusion is enabled.\n",
      "2022-12-19 07:15:21.627177: I tensorflow/core/common_runtime/gpu_fusion_pass.cc:507] ROCm Fusion is enabled.\n",
      "2022-12-19 07:15:21.633832: I tensorflow/core/common_runtime/gpu_fusion_pass.cc:507] ROCm Fusion is enabled.\n",
      "2022-12-19 07:15:28.779557: I tensorflow/core/common_runtime/gpu_fusion_pass.cc:507] ROCm Fusion is enabled.\n",
      "2022-12-19 07:15:28.788418: I tensorflow/core/common_runtime/gpu_fusion_pass.cc:507] ROCm Fusion is enabled.\n",
      "2022-12-19 07:15:28.795088: I tensorflow/core/common_runtime/gpu_fusion_pass.cc:507] ROCm Fusion is enabled.\n"
     ]
    },
    {
     "name": "stdout",
     "output_type": "stream",
     "text": [
      " 52/313 [===>..........................] - ETA: 0s - loss: 1.7262 - sparse_categorical_accuracy: 0.4886"
     ]
    },
    {
     "name": "stderr",
     "output_type": "stream",
     "text": [
      "2022-12-19 07:15:29.503368: I tensorflow/core/common_runtime/gpu_fusion_pass.cc:507] ROCm Fusion is enabled.\n",
      "2022-12-19 07:15:29.510255: I tensorflow/core/common_runtime/gpu_fusion_pass.cc:507] ROCm Fusion is enabled.\n",
      "2022-12-19 07:15:29.549804: I tensorflow/core/common_runtime/gpu_fusion_pass.cc:507] ROCm Fusion is enabled.\n",
      "2022-12-19 07:15:29.555334: I tensorflow/core/common_runtime/gpu_fusion_pass.cc:507] ROCm Fusion is enabled.\n",
      "2022-12-19 07:15:29.560236: I tensorflow/core/common_runtime/gpu_fusion_pass.cc:507] ROCm Fusion is enabled.\n",
      "2022-12-19 07:15:29.563935: I tensorflow/core/common_runtime/gpu_fusion_pass.cc:507] ROCm Fusion is enabled.\n"
     ]
    },
    {
     "name": "stdout",
     "output_type": "stream",
     "text": [
      "313/313 [==============================] - 1s 2ms/step - loss: 1.7306 - sparse_categorical_accuracy: 0.4870\n"
     ]
    }
   ],
   "source": [
    "history_coarse = model_coarse.fit(trnData, trnLabelsCoarse, epochs=100, validation_split=0.2, verbose=0)\n",
    "results_coarse = model_coarse.evaluate(tstData, tstLabelsCoarse)"
   ]
  },
  {
   "cell_type": "markdown",
   "id": "330f6825-b486-438e-a9fe-76680f95bd78",
   "metadata": {},
   "source": [
    "## A model for the fine labels\n",
    "Everything above, creating the model and training it, was to classify the dataset into the coarse categories. We also want to classify the data into the fine categories, so we'll do all of the above again, but this time train the network on the fine labels rather than the coarse ones.\n",
    "\n",
    "Unlike the SVM, this shouldn't scale with the increased number of labels it's being trained against. However long the first network took to train, this one should take roughly the same time."
   ]
  },
  {
   "cell_type": "code",
   "execution_count": 9,
   "id": "3c739081-73b8-413a-95ac-daf6aadfe23e",
   "metadata": {},
   "outputs": [
    {
     "name": "stdout",
     "output_type": "stream",
     "text": [
      "Model: \"sequential_1\"\n",
      "_________________________________________________________________\n",
      " Layer (type)                Output Shape              Param #   \n",
      "=================================================================\n",
      " conv2d_3 (Conv2D)           (None, 30, 30, 400)       11200     \n",
      "                                                                 \n",
      " dropout_3 (Dropout)         (None, 30, 30, 400)       0         \n",
      "                                                                 \n",
      " max_pooling2d_3 (MaxPooling  (None, 10, 10, 400)      0         \n",
      " 2D)                                                             \n",
      "                                                                 \n",
      " conv2d_4 (Conv2D)           (None, 9, 9, 200)         320200    \n",
      "                                                                 \n",
      " dropout_4 (Dropout)         (None, 9, 9, 200)         0         \n",
      "                                                                 \n",
      " max_pooling2d_4 (MaxPooling  (None, 4, 4, 200)        0         \n",
      " 2D)                                                             \n",
      "                                                                 \n",
      " conv2d_5 (Conv2D)           (None, 3, 3, 100)         80100     \n",
      "                                                                 \n",
      " dropout_5 (Dropout)         (None, 3, 3, 100)         0         \n",
      "                                                                 \n",
      " max_pooling2d_5 (MaxPooling  (None, 1, 1, 100)        0         \n",
      " 2D)                                                             \n",
      "                                                                 \n",
      " flatten_1 (Flatten)         (None, 100)               0         \n",
      "                                                                 \n",
      " dense_2 (Dense)             (None, 200)               20200     \n",
      "                                                                 \n",
      " dense_3 (Dense)             (None, 100)               20100     \n",
      "                                                                 \n",
      "=================================================================\n",
      "Total params: 451,800\n",
      "Trainable params: 451,800\n",
      "Non-trainable params: 0\n",
      "_________________________________________________________________\n"
     ]
    }
   ],
   "source": [
    "model_fine = tf.keras.models.Sequential()\n",
    "model_fine.add(tf.keras.layers.Conv2D(400, (3, 3), activation='relu', input_shape=(32, 32, 3)))\n",
    "model_fine.add(tf.keras.layers.Dropout(0.1))\n",
    "model_fine.add(tf.keras.layers.MaxPooling2D((3, 3)))\n",
    "model_fine.add(tf.keras.layers.Conv2D(200, (2, 2), activation='relu', kernel_regularizer=tf.keras.regularizers.l2(l=0.0014)))\n",
    "model_fine.add(tf.keras.layers.Dropout(0.3))\n",
    "model_fine.add(tf.keras.layers.MaxPooling2D((2, 2)))\n",
    "model_fine.add(tf.keras.layers.Conv2D(100, (2, 2), activation='sigmoid'))\n",
    "model_fine.add(tf.keras.layers.Dropout(0.2))\n",
    "model_fine.add(tf.keras.layers.MaxPooling2D((2, 2)))\n",
    "model_fine.add(tf.keras.layers.Flatten())\n",
    "model_fine.add(tf.keras.layers.Dense(200))\n",
    "model_fine.add(tf.keras.layers.Dense(100))\n",
    "model_fine.summary()\n",
    "model_fine.compile(optimizer='nadam',\n",
    "              loss=tf.keras.losses.SparseCategoricalCrossentropy(from_logits=True),\n",
    "              metrics=tf.keras.metrics.SparseCategoricalAccuracy())"
   ]
  },
  {
   "cell_type": "code",
   "execution_count": 10,
   "id": "f37d8ef4-9cc5-4b15-8ef5-778481be4ebd",
   "metadata": {},
   "outputs": [
    {
     "name": "stderr",
     "output_type": "stream",
     "text": [
      "2022-12-19 07:31:42.154525: I tensorflow/core/common_runtime/gpu_fusion_pass.cc:507] ROCm Fusion is enabled.\n",
      "2022-12-19 07:31:42.159427: I tensorflow/core/common_runtime/gpu_fusion_pass.cc:507] ROCm Fusion is enabled.\n",
      "2022-12-19 07:31:42.273764: I tensorflow/core/common_runtime/gpu_fusion_pass.cc:507] ROCm Fusion is enabled.\n",
      "2022-12-19 07:31:42.280505: I tensorflow/core/common_runtime/gpu_fusion_pass.cc:507] ROCm Fusion is enabled.\n",
      "2022-12-19 07:31:42.284316: I tensorflow/core/common_runtime/gpu_fusion_pass.cc:507] ROCm Fusion is enabled.\n",
      "2022-12-19 07:31:42.287646: I tensorflow/core/common_runtime/gpu_fusion_pass.cc:507] ROCm Fusion is enabled.\n",
      "2022-12-19 07:31:43.001816: I tensorflow/core/common_runtime/gpu_fusion_pass.cc:507] ROCm Fusion is enabled.\n",
      "2022-12-19 07:31:49.820648: I tensorflow/core/common_runtime/gpu_fusion_pass.cc:507] ROCm Fusion is enabled.\n",
      "2022-12-19 07:31:49.826858: I tensorflow/core/common_runtime/gpu_fusion_pass.cc:507] ROCm Fusion is enabled.\n",
      "2022-12-19 07:31:49.859481: I tensorflow/core/common_runtime/gpu_fusion_pass.cc:507] ROCm Fusion is enabled.\n",
      "2022-12-19 07:31:49.864982: I tensorflow/core/common_runtime/gpu_fusion_pass.cc:507] ROCm Fusion is enabled.\n",
      "2022-12-19 07:31:49.868835: I tensorflow/core/common_runtime/gpu_fusion_pass.cc:507] ROCm Fusion is enabled.\n",
      "2022-12-19 07:31:49.871793: I tensorflow/core/common_runtime/gpu_fusion_pass.cc:507] ROCm Fusion is enabled.\n",
      "2022-12-19 07:31:49.940718: I tensorflow/core/common_runtime/gpu_fusion_pass.cc:507] ROCm Fusion is enabled.\n",
      "2022-12-19 07:31:57.062800: I tensorflow/core/common_runtime/gpu_fusion_pass.cc:507] ROCm Fusion is enabled.\n",
      "2022-12-19 07:31:57.070776: I tensorflow/core/common_runtime/gpu_fusion_pass.cc:507] ROCm Fusion is enabled.\n",
      "2022-12-19 07:31:57.076752: I tensorflow/core/common_runtime/gpu_fusion_pass.cc:507] ROCm Fusion is enabled.\n",
      "2022-12-19 07:32:04.237767: I tensorflow/core/common_runtime/gpu_fusion_pass.cc:507] ROCm Fusion is enabled.\n",
      "2022-12-19 07:32:04.245723: I tensorflow/core/common_runtime/gpu_fusion_pass.cc:507] ROCm Fusion is enabled.\n",
      "2022-12-19 07:32:04.251675: I tensorflow/core/common_runtime/gpu_fusion_pass.cc:507] ROCm Fusion is enabled.\n",
      "2022-12-19 07:32:11.398552: I tensorflow/core/common_runtime/gpu_fusion_pass.cc:507] ROCm Fusion is enabled.\n",
      "2022-12-19 07:32:11.406557: I tensorflow/core/common_runtime/gpu_fusion_pass.cc:507] ROCm Fusion is enabled.\n",
      "2022-12-19 07:32:11.412548: I tensorflow/core/common_runtime/gpu_fusion_pass.cc:507] ROCm Fusion is enabled.\n",
      "2022-12-19 07:32:18.548767: I tensorflow/core/common_runtime/gpu_fusion_pass.cc:507] ROCm Fusion is enabled.\n",
      "2022-12-19 07:32:18.556906: I tensorflow/core/common_runtime/gpu_fusion_pass.cc:507] ROCm Fusion is enabled.\n",
      "2022-12-19 07:32:18.562908: I tensorflow/core/common_runtime/gpu_fusion_pass.cc:507] ROCm Fusion is enabled.\n",
      "2022-12-19 07:32:25.697637: I tensorflow/core/common_runtime/gpu_fusion_pass.cc:507] ROCm Fusion is enabled.\n",
      "2022-12-19 07:32:25.705607: I tensorflow/core/common_runtime/gpu_fusion_pass.cc:507] ROCm Fusion is enabled.\n",
      "2022-12-19 07:32:25.711669: I tensorflow/core/common_runtime/gpu_fusion_pass.cc:507] ROCm Fusion is enabled.\n",
      "2022-12-19 07:32:32.863048: I tensorflow/core/common_runtime/gpu_fusion_pass.cc:507] ROCm Fusion is enabled.\n",
      "2022-12-19 07:32:32.871037: I tensorflow/core/common_runtime/gpu_fusion_pass.cc:507] ROCm Fusion is enabled.\n",
      "2022-12-19 07:32:32.877107: I tensorflow/core/common_runtime/gpu_fusion_pass.cc:507] ROCm Fusion is enabled.\n",
      "2022-12-19 07:32:40.001230: I tensorflow/core/common_runtime/gpu_fusion_pass.cc:507] ROCm Fusion is enabled.\n",
      "2022-12-19 07:32:40.009217: I tensorflow/core/common_runtime/gpu_fusion_pass.cc:507] ROCm Fusion is enabled.\n",
      "2022-12-19 07:32:40.015282: I tensorflow/core/common_runtime/gpu_fusion_pass.cc:507] ROCm Fusion is enabled.\n",
      "2022-12-19 07:32:47.146722: I tensorflow/core/common_runtime/gpu_fusion_pass.cc:507] ROCm Fusion is enabled.\n",
      "2022-12-19 07:32:47.154906: I tensorflow/core/common_runtime/gpu_fusion_pass.cc:507] ROCm Fusion is enabled.\n",
      "2022-12-19 07:32:47.160926: I tensorflow/core/common_runtime/gpu_fusion_pass.cc:507] ROCm Fusion is enabled.\n",
      "2022-12-19 07:32:54.320787: I tensorflow/core/common_runtime/gpu_fusion_pass.cc:507] ROCm Fusion is enabled.\n",
      "2022-12-19 07:32:54.328954: I tensorflow/core/common_runtime/gpu_fusion_pass.cc:507] ROCm Fusion is enabled.\n",
      "2022-12-19 07:32:54.334980: I tensorflow/core/common_runtime/gpu_fusion_pass.cc:507] ROCm Fusion is enabled.\n",
      "2022-12-19 07:33:01.471287: I tensorflow/core/common_runtime/gpu_fusion_pass.cc:507] ROCm Fusion is enabled.\n",
      "2022-12-19 07:33:01.479657: I tensorflow/core/common_runtime/gpu_fusion_pass.cc:507] ROCm Fusion is enabled.\n",
      "2022-12-19 07:33:01.485759: I tensorflow/core/common_runtime/gpu_fusion_pass.cc:507] ROCm Fusion is enabled.\n",
      "2022-12-19 07:33:08.619177: I tensorflow/core/common_runtime/gpu_fusion_pass.cc:507] ROCm Fusion is enabled.\n",
      "2022-12-19 07:33:08.627518: I tensorflow/core/common_runtime/gpu_fusion_pass.cc:507] ROCm Fusion is enabled.\n",
      "2022-12-19 07:33:08.633598: I tensorflow/core/common_runtime/gpu_fusion_pass.cc:507] ROCm Fusion is enabled.\n",
      "2022-12-19 07:33:15.779929: I tensorflow/core/common_runtime/gpu_fusion_pass.cc:507] ROCm Fusion is enabled.\n",
      "2022-12-19 07:33:15.786918: I tensorflow/core/common_runtime/gpu_fusion_pass.cc:507] ROCm Fusion is enabled.\n",
      "2022-12-19 07:33:15.792172: I tensorflow/core/common_runtime/gpu_fusion_pass.cc:507] ROCm Fusion is enabled.\n",
      "2022-12-19 07:33:22.946316: I tensorflow/core/common_runtime/gpu_fusion_pass.cc:507] ROCm Fusion is enabled.\n",
      "2022-12-19 07:33:22.954770: I tensorflow/core/common_runtime/gpu_fusion_pass.cc:507] ROCm Fusion is enabled.\n",
      "2022-12-19 07:33:22.960917: I tensorflow/core/common_runtime/gpu_fusion_pass.cc:507] ROCm Fusion is enabled.\n",
      "2022-12-19 07:33:30.084007: I tensorflow/core/common_runtime/gpu_fusion_pass.cc:507] ROCm Fusion is enabled.\n",
      "2022-12-19 07:33:30.092395: I tensorflow/core/common_runtime/gpu_fusion_pass.cc:507] ROCm Fusion is enabled.\n",
      "2022-12-19 07:33:30.099191: I tensorflow/core/common_runtime/gpu_fusion_pass.cc:507] ROCm Fusion is enabled.\n",
      "2022-12-19 07:33:37.259072: I tensorflow/core/common_runtime/gpu_fusion_pass.cc:507] ROCm Fusion is enabled.\n",
      "2022-12-19 07:33:37.267553: I tensorflow/core/common_runtime/gpu_fusion_pass.cc:507] ROCm Fusion is enabled.\n",
      "2022-12-19 07:33:37.273741: I tensorflow/core/common_runtime/gpu_fusion_pass.cc:507] ROCm Fusion is enabled.\n",
      "2022-12-19 07:33:44.425194: I tensorflow/core/common_runtime/gpu_fusion_pass.cc:507] ROCm Fusion is enabled.\n",
      "2022-12-19 07:33:44.433683: I tensorflow/core/common_runtime/gpu_fusion_pass.cc:507] ROCm Fusion is enabled.\n",
      "2022-12-19 07:33:44.439906: I tensorflow/core/common_runtime/gpu_fusion_pass.cc:507] ROCm Fusion is enabled.\n",
      "2022-12-19 07:33:51.583372: I tensorflow/core/common_runtime/gpu_fusion_pass.cc:507] ROCm Fusion is enabled.\n",
      "2022-12-19 07:33:51.591880: I tensorflow/core/common_runtime/gpu_fusion_pass.cc:507] ROCm Fusion is enabled.\n",
      "2022-12-19 07:33:51.598135: I tensorflow/core/common_runtime/gpu_fusion_pass.cc:507] ROCm Fusion is enabled.\n",
      "2022-12-19 07:33:58.742239: I tensorflow/core/common_runtime/gpu_fusion_pass.cc:507] ROCm Fusion is enabled.\n",
      "2022-12-19 07:33:58.750756: I tensorflow/core/common_runtime/gpu_fusion_pass.cc:507] ROCm Fusion is enabled.\n",
      "2022-12-19 07:33:58.757052: I tensorflow/core/common_runtime/gpu_fusion_pass.cc:507] ROCm Fusion is enabled.\n",
      "2022-12-19 07:34:05.918204: I tensorflow/core/common_runtime/gpu_fusion_pass.cc:507] ROCm Fusion is enabled.\n",
      "2022-12-19 07:34:05.925073: I tensorflow/core/common_runtime/gpu_fusion_pass.cc:507] ROCm Fusion is enabled.\n",
      "2022-12-19 07:34:05.930410: I tensorflow/core/common_runtime/gpu_fusion_pass.cc:507] ROCm Fusion is enabled.\n",
      "2022-12-19 07:34:13.089651: I tensorflow/core/common_runtime/gpu_fusion_pass.cc:507] ROCm Fusion is enabled.\n",
      "2022-12-19 07:34:13.098262: I tensorflow/core/common_runtime/gpu_fusion_pass.cc:507] ROCm Fusion is enabled.\n",
      "2022-12-19 07:34:13.104621: I tensorflow/core/common_runtime/gpu_fusion_pass.cc:507] ROCm Fusion is enabled.\n",
      "2022-12-19 07:34:20.233844: I tensorflow/core/common_runtime/gpu_fusion_pass.cc:507] ROCm Fusion is enabled.\n",
      "2022-12-19 07:34:20.242260: I tensorflow/core/common_runtime/gpu_fusion_pass.cc:507] ROCm Fusion is enabled.\n",
      "2022-12-19 07:34:20.248565: I tensorflow/core/common_runtime/gpu_fusion_pass.cc:507] ROCm Fusion is enabled.\n",
      "2022-12-19 07:34:27.399379: I tensorflow/core/common_runtime/gpu_fusion_pass.cc:507] ROCm Fusion is enabled.\n",
      "2022-12-19 07:34:27.407845: I tensorflow/core/common_runtime/gpu_fusion_pass.cc:507] ROCm Fusion is enabled.\n",
      "2022-12-19 07:34:27.414190: I tensorflow/core/common_runtime/gpu_fusion_pass.cc:507] ROCm Fusion is enabled.\n",
      "2022-12-19 07:34:34.565589: I tensorflow/core/common_runtime/gpu_fusion_pass.cc:507] ROCm Fusion is enabled.\n",
      "2022-12-19 07:34:34.574051: I tensorflow/core/common_runtime/gpu_fusion_pass.cc:507] ROCm Fusion is enabled.\n",
      "2022-12-19 07:34:34.580407: I tensorflow/core/common_runtime/gpu_fusion_pass.cc:507] ROCm Fusion is enabled.\n",
      "2022-12-19 07:34:41.724680: I tensorflow/core/common_runtime/gpu_fusion_pass.cc:507] ROCm Fusion is enabled.\n",
      "2022-12-19 07:34:41.733381: I tensorflow/core/common_runtime/gpu_fusion_pass.cc:507] ROCm Fusion is enabled.\n",
      "2022-12-19 07:34:41.739713: I tensorflow/core/common_runtime/gpu_fusion_pass.cc:507] ROCm Fusion is enabled.\n",
      "2022-12-19 07:34:48.876586: I tensorflow/core/common_runtime/gpu_fusion_pass.cc:507] ROCm Fusion is enabled.\n",
      "2022-12-19 07:34:48.885358: I tensorflow/core/common_runtime/gpu_fusion_pass.cc:507] ROCm Fusion is enabled.\n",
      "2022-12-19 07:34:48.891762: I tensorflow/core/common_runtime/gpu_fusion_pass.cc:507] ROCm Fusion is enabled.\n",
      "2022-12-19 07:34:56.063820: I tensorflow/core/common_runtime/gpu_fusion_pass.cc:507] ROCm Fusion is enabled.\n",
      "2022-12-19 07:34:56.072513: I tensorflow/core/common_runtime/gpu_fusion_pass.cc:507] ROCm Fusion is enabled.\n",
      "2022-12-19 07:34:56.078857: I tensorflow/core/common_runtime/gpu_fusion_pass.cc:507] ROCm Fusion is enabled.\n",
      "2022-12-19 07:35:03.223657: I tensorflow/core/common_runtime/gpu_fusion_pass.cc:507] ROCm Fusion is enabled.\n",
      "2022-12-19 07:35:03.233278: I tensorflow/core/common_runtime/gpu_fusion_pass.cc:507] ROCm Fusion is enabled.\n",
      "2022-12-19 07:35:03.240289: I tensorflow/core/common_runtime/gpu_fusion_pass.cc:507] ROCm Fusion is enabled.\n",
      "2022-12-19 07:35:10.373841: I tensorflow/core/common_runtime/gpu_fusion_pass.cc:507] ROCm Fusion is enabled.\n",
      "2022-12-19 07:35:10.382582: I tensorflow/core/common_runtime/gpu_fusion_pass.cc:507] ROCm Fusion is enabled.\n",
      "2022-12-19 07:35:10.388959: I tensorflow/core/common_runtime/gpu_fusion_pass.cc:507] ROCm Fusion is enabled.\n",
      "2022-12-19 07:35:17.546426: I tensorflow/core/common_runtime/gpu_fusion_pass.cc:507] ROCm Fusion is enabled.\n",
      "2022-12-19 07:35:17.555000: I tensorflow/core/common_runtime/gpu_fusion_pass.cc:507] ROCm Fusion is enabled.\n",
      "2022-12-19 07:35:17.561189: I tensorflow/core/common_runtime/gpu_fusion_pass.cc:507] ROCm Fusion is enabled.\n",
      "2022-12-19 07:35:24.728480: I tensorflow/core/common_runtime/gpu_fusion_pass.cc:507] ROCm Fusion is enabled.\n",
      "2022-12-19 07:35:24.737256: I tensorflow/core/common_runtime/gpu_fusion_pass.cc:507] ROCm Fusion is enabled.\n",
      "2022-12-19 07:35:24.743357: I tensorflow/core/common_runtime/gpu_fusion_pass.cc:507] ROCm Fusion is enabled.\n",
      "2022-12-19 07:35:31.882962: I tensorflow/core/common_runtime/gpu_fusion_pass.cc:507] ROCm Fusion is enabled.\n",
      "2022-12-19 07:35:31.891758: I tensorflow/core/common_runtime/gpu_fusion_pass.cc:507] ROCm Fusion is enabled.\n",
      "2022-12-19 07:35:31.898145: I tensorflow/core/common_runtime/gpu_fusion_pass.cc:507] ROCm Fusion is enabled.\n",
      "2022-12-19 07:35:39.042755: I tensorflow/core/common_runtime/gpu_fusion_pass.cc:507] ROCm Fusion is enabled.\n",
      "2022-12-19 07:35:39.051551: I tensorflow/core/common_runtime/gpu_fusion_pass.cc:507] ROCm Fusion is enabled.\n",
      "2022-12-19 07:35:39.057988: I tensorflow/core/common_runtime/gpu_fusion_pass.cc:507] ROCm Fusion is enabled.\n",
      "2022-12-19 07:35:46.206852: I tensorflow/core/common_runtime/gpu_fusion_pass.cc:507] ROCm Fusion is enabled.\n",
      "2022-12-19 07:35:46.215667: I tensorflow/core/common_runtime/gpu_fusion_pass.cc:507] ROCm Fusion is enabled.\n",
      "2022-12-19 07:35:46.222147: I tensorflow/core/common_runtime/gpu_fusion_pass.cc:507] ROCm Fusion is enabled.\n",
      "2022-12-19 07:35:53.373883: I tensorflow/core/common_runtime/gpu_fusion_pass.cc:507] ROCm Fusion is enabled.\n",
      "2022-12-19 07:35:53.382659: I tensorflow/core/common_runtime/gpu_fusion_pass.cc:507] ROCm Fusion is enabled.\n",
      "2022-12-19 07:35:53.389127: I tensorflow/core/common_runtime/gpu_fusion_pass.cc:507] ROCm Fusion is enabled.\n",
      "2022-12-19 07:36:00.531906: I tensorflow/core/common_runtime/gpu_fusion_pass.cc:507] ROCm Fusion is enabled.\n",
      "2022-12-19 07:36:00.540711: I tensorflow/core/common_runtime/gpu_fusion_pass.cc:507] ROCm Fusion is enabled.\n",
      "2022-12-19 07:36:00.547168: I tensorflow/core/common_runtime/gpu_fusion_pass.cc:507] ROCm Fusion is enabled.\n",
      "2022-12-19 07:36:07.687763: I tensorflow/core/common_runtime/gpu_fusion_pass.cc:507] ROCm Fusion is enabled.\n",
      "2022-12-19 07:36:07.696613: I tensorflow/core/common_runtime/gpu_fusion_pass.cc:507] ROCm Fusion is enabled.\n",
      "2022-12-19 07:36:07.703133: I tensorflow/core/common_runtime/gpu_fusion_pass.cc:507] ROCm Fusion is enabled.\n",
      "2022-12-19 07:36:14.854832: I tensorflow/core/common_runtime/gpu_fusion_pass.cc:507] ROCm Fusion is enabled.\n",
      "2022-12-19 07:36:14.863676: I tensorflow/core/common_runtime/gpu_fusion_pass.cc:507] ROCm Fusion is enabled.\n",
      "2022-12-19 07:36:14.870184: I tensorflow/core/common_runtime/gpu_fusion_pass.cc:507] ROCm Fusion is enabled.\n",
      "2022-12-19 07:36:22.006557: I tensorflow/core/common_runtime/gpu_fusion_pass.cc:507] ROCm Fusion is enabled.\n",
      "2022-12-19 07:36:22.015332: I tensorflow/core/common_runtime/gpu_fusion_pass.cc:507] ROCm Fusion is enabled.\n",
      "2022-12-19 07:36:22.021830: I tensorflow/core/common_runtime/gpu_fusion_pass.cc:507] ROCm Fusion is enabled.\n",
      "2022-12-19 07:36:29.158092: I tensorflow/core/common_runtime/gpu_fusion_pass.cc:507] ROCm Fusion is enabled.\n",
      "2022-12-19 07:36:29.166922: I tensorflow/core/common_runtime/gpu_fusion_pass.cc:507] ROCm Fusion is enabled.\n",
      "2022-12-19 07:36:29.173482: I tensorflow/core/common_runtime/gpu_fusion_pass.cc:507] ROCm Fusion is enabled.\n",
      "2022-12-19 07:36:36.331387: I tensorflow/core/common_runtime/gpu_fusion_pass.cc:507] ROCm Fusion is enabled.\n",
      "2022-12-19 07:36:36.340251: I tensorflow/core/common_runtime/gpu_fusion_pass.cc:507] ROCm Fusion is enabled.\n",
      "2022-12-19 07:36:36.346813: I tensorflow/core/common_runtime/gpu_fusion_pass.cc:507] ROCm Fusion is enabled.\n",
      "2022-12-19 07:36:43.486467: I tensorflow/core/common_runtime/gpu_fusion_pass.cc:507] ROCm Fusion is enabled.\n",
      "2022-12-19 07:36:43.495384: I tensorflow/core/common_runtime/gpu_fusion_pass.cc:507] ROCm Fusion is enabled.\n",
      "2022-12-19 07:36:43.501946: I tensorflow/core/common_runtime/gpu_fusion_pass.cc:507] ROCm Fusion is enabled.\n",
      "2022-12-19 07:36:50.640696: I tensorflow/core/common_runtime/gpu_fusion_pass.cc:507] ROCm Fusion is enabled.\n",
      "2022-12-19 07:36:50.649424: I tensorflow/core/common_runtime/gpu_fusion_pass.cc:507] ROCm Fusion is enabled.\n",
      "2022-12-19 07:36:50.655987: I tensorflow/core/common_runtime/gpu_fusion_pass.cc:507] ROCm Fusion is enabled.\n",
      "2022-12-19 07:36:57.796363: I tensorflow/core/common_runtime/gpu_fusion_pass.cc:507] ROCm Fusion is enabled.\n",
      "2022-12-19 07:36:57.805116: I tensorflow/core/common_runtime/gpu_fusion_pass.cc:507] ROCm Fusion is enabled.\n",
      "2022-12-19 07:36:57.811665: I tensorflow/core/common_runtime/gpu_fusion_pass.cc:507] ROCm Fusion is enabled.\n",
      "2022-12-19 07:37:04.958723: I tensorflow/core/common_runtime/gpu_fusion_pass.cc:507] ROCm Fusion is enabled.\n",
      "2022-12-19 07:37:04.967580: I tensorflow/core/common_runtime/gpu_fusion_pass.cc:507] ROCm Fusion is enabled.\n",
      "2022-12-19 07:37:04.974195: I tensorflow/core/common_runtime/gpu_fusion_pass.cc:507] ROCm Fusion is enabled.\n",
      "2022-12-19 07:37:12.107191: I tensorflow/core/common_runtime/gpu_fusion_pass.cc:507] ROCm Fusion is enabled.\n",
      "2022-12-19 07:37:12.116072: I tensorflow/core/common_runtime/gpu_fusion_pass.cc:507] ROCm Fusion is enabled.\n",
      "2022-12-19 07:37:12.122679: I tensorflow/core/common_runtime/gpu_fusion_pass.cc:507] ROCm Fusion is enabled.\n",
      "2022-12-19 07:37:19.271669: I tensorflow/core/common_runtime/gpu_fusion_pass.cc:507] ROCm Fusion is enabled.\n",
      "2022-12-19 07:37:19.280193: I tensorflow/core/common_runtime/gpu_fusion_pass.cc:507] ROCm Fusion is enabled.\n",
      "2022-12-19 07:37:19.286636: I tensorflow/core/common_runtime/gpu_fusion_pass.cc:507] ROCm Fusion is enabled.\n",
      "2022-12-19 07:37:26.443211: I tensorflow/core/common_runtime/gpu_fusion_pass.cc:507] ROCm Fusion is enabled.\n",
      "2022-12-19 07:37:26.451941: I tensorflow/core/common_runtime/gpu_fusion_pass.cc:507] ROCm Fusion is enabled.\n",
      "2022-12-19 07:37:26.458546: I tensorflow/core/common_runtime/gpu_fusion_pass.cc:507] ROCm Fusion is enabled.\n",
      "2022-12-19 07:37:33.593749: I tensorflow/core/common_runtime/gpu_fusion_pass.cc:507] ROCm Fusion is enabled.\n",
      "2022-12-19 07:37:33.602464: I tensorflow/core/common_runtime/gpu_fusion_pass.cc:507] ROCm Fusion is enabled.\n",
      "2022-12-19 07:37:33.609097: I tensorflow/core/common_runtime/gpu_fusion_pass.cc:507] ROCm Fusion is enabled.\n",
      "2022-12-19 07:37:40.757436: I tensorflow/core/common_runtime/gpu_fusion_pass.cc:507] ROCm Fusion is enabled.\n",
      "2022-12-19 07:37:40.766286: I tensorflow/core/common_runtime/gpu_fusion_pass.cc:507] ROCm Fusion is enabled.\n",
      "2022-12-19 07:37:40.772848: I tensorflow/core/common_runtime/gpu_fusion_pass.cc:507] ROCm Fusion is enabled.\n",
      "2022-12-19 07:37:47.932886: I tensorflow/core/common_runtime/gpu_fusion_pass.cc:507] ROCm Fusion is enabled.\n",
      "2022-12-19 07:37:47.941840: I tensorflow/core/common_runtime/gpu_fusion_pass.cc:507] ROCm Fusion is enabled.\n",
      "2022-12-19 07:37:47.948519: I tensorflow/core/common_runtime/gpu_fusion_pass.cc:507] ROCm Fusion is enabled.\n",
      "2022-12-19 07:37:55.093516: I tensorflow/core/common_runtime/gpu_fusion_pass.cc:507] ROCm Fusion is enabled.\n",
      "2022-12-19 07:37:55.102379: I tensorflow/core/common_runtime/gpu_fusion_pass.cc:507] ROCm Fusion is enabled.\n",
      "2022-12-19 07:37:55.109029: I tensorflow/core/common_runtime/gpu_fusion_pass.cc:507] ROCm Fusion is enabled.\n",
      "2022-12-19 07:38:02.257947: I tensorflow/core/common_runtime/gpu_fusion_pass.cc:507] ROCm Fusion is enabled.\n",
      "2022-12-19 07:38:02.266806: I tensorflow/core/common_runtime/gpu_fusion_pass.cc:507] ROCm Fusion is enabled.\n",
      "2022-12-19 07:38:02.273411: I tensorflow/core/common_runtime/gpu_fusion_pass.cc:507] ROCm Fusion is enabled.\n",
      "2022-12-19 07:38:09.409816: I tensorflow/core/common_runtime/gpu_fusion_pass.cc:507] ROCm Fusion is enabled.\n",
      "2022-12-19 07:38:09.418666: I tensorflow/core/common_runtime/gpu_fusion_pass.cc:507] ROCm Fusion is enabled.\n",
      "2022-12-19 07:38:09.425303: I tensorflow/core/common_runtime/gpu_fusion_pass.cc:507] ROCm Fusion is enabled.\n",
      "2022-12-19 07:38:16.582482: I tensorflow/core/common_runtime/gpu_fusion_pass.cc:507] ROCm Fusion is enabled.\n",
      "2022-12-19 07:38:16.591403: I tensorflow/core/common_runtime/gpu_fusion_pass.cc:507] ROCm Fusion is enabled.\n",
      "2022-12-19 07:38:16.598051: I tensorflow/core/common_runtime/gpu_fusion_pass.cc:507] ROCm Fusion is enabled.\n",
      "2022-12-19 07:38:23.749096: I tensorflow/core/common_runtime/gpu_fusion_pass.cc:507] ROCm Fusion is enabled.\n",
      "2022-12-19 07:38:23.758009: I tensorflow/core/common_runtime/gpu_fusion_pass.cc:507] ROCm Fusion is enabled.\n",
      "2022-12-19 07:38:23.764691: I tensorflow/core/common_runtime/gpu_fusion_pass.cc:507] ROCm Fusion is enabled.\n",
      "2022-12-19 07:38:30.920084: I tensorflow/core/common_runtime/gpu_fusion_pass.cc:507] ROCm Fusion is enabled.\n",
      "2022-12-19 07:38:30.929029: I tensorflow/core/common_runtime/gpu_fusion_pass.cc:507] ROCm Fusion is enabled.\n",
      "2022-12-19 07:38:30.935664: I tensorflow/core/common_runtime/gpu_fusion_pass.cc:507] ROCm Fusion is enabled.\n",
      "2022-12-19 07:38:38.085358: I tensorflow/core/common_runtime/gpu_fusion_pass.cc:507] ROCm Fusion is enabled.\n",
      "2022-12-19 07:38:38.094223: I tensorflow/core/common_runtime/gpu_fusion_pass.cc:507] ROCm Fusion is enabled.\n",
      "2022-12-19 07:38:38.100865: I tensorflow/core/common_runtime/gpu_fusion_pass.cc:507] ROCm Fusion is enabled.\n",
      "2022-12-19 07:38:45.259295: I tensorflow/core/common_runtime/gpu_fusion_pass.cc:507] ROCm Fusion is enabled.\n",
      "2022-12-19 07:38:45.268320: I tensorflow/core/common_runtime/gpu_fusion_pass.cc:507] ROCm Fusion is enabled.\n",
      "2022-12-19 07:38:45.274998: I tensorflow/core/common_runtime/gpu_fusion_pass.cc:507] ROCm Fusion is enabled.\n",
      "2022-12-19 07:38:52.412986: I tensorflow/core/common_runtime/gpu_fusion_pass.cc:507] ROCm Fusion is enabled.\n",
      "2022-12-19 07:38:52.421882: I tensorflow/core/common_runtime/gpu_fusion_pass.cc:507] ROCm Fusion is enabled.\n",
      "2022-12-19 07:38:52.428508: I tensorflow/core/common_runtime/gpu_fusion_pass.cc:507] ROCm Fusion is enabled.\n",
      "2022-12-19 07:38:59.568329: I tensorflow/core/common_runtime/gpu_fusion_pass.cc:507] ROCm Fusion is enabled.\n",
      "2022-12-19 07:38:59.577271: I tensorflow/core/common_runtime/gpu_fusion_pass.cc:507] ROCm Fusion is enabled.\n",
      "2022-12-19 07:38:59.583936: I tensorflow/core/common_runtime/gpu_fusion_pass.cc:507] ROCm Fusion is enabled.\n",
      "2022-12-19 07:39:06.753354: I tensorflow/core/common_runtime/gpu_fusion_pass.cc:507] ROCm Fusion is enabled.\n",
      "2022-12-19 07:39:06.762331: I tensorflow/core/common_runtime/gpu_fusion_pass.cc:507] ROCm Fusion is enabled.\n",
      "2022-12-19 07:39:06.769568: I tensorflow/core/common_runtime/gpu_fusion_pass.cc:507] ROCm Fusion is enabled.\n",
      "2022-12-19 07:39:13.925559: I tensorflow/core/common_runtime/gpu_fusion_pass.cc:507] ROCm Fusion is enabled.\n",
      "2022-12-19 07:39:13.934366: I tensorflow/core/common_runtime/gpu_fusion_pass.cc:507] ROCm Fusion is enabled.\n",
      "2022-12-19 07:39:13.940954: I tensorflow/core/common_runtime/gpu_fusion_pass.cc:507] ROCm Fusion is enabled.\n",
      "2022-12-19 07:39:21.075217: I tensorflow/core/common_runtime/gpu_fusion_pass.cc:507] ROCm Fusion is enabled.\n",
      "2022-12-19 07:39:21.084884: I tensorflow/core/common_runtime/gpu_fusion_pass.cc:507] ROCm Fusion is enabled.\n",
      "2022-12-19 07:39:21.092211: I tensorflow/core/common_runtime/gpu_fusion_pass.cc:507] ROCm Fusion is enabled.\n",
      "2022-12-19 07:39:28.234300: I tensorflow/core/common_runtime/gpu_fusion_pass.cc:507] ROCm Fusion is enabled.\n",
      "2022-12-19 07:39:28.243994: I tensorflow/core/common_runtime/gpu_fusion_pass.cc:507] ROCm Fusion is enabled.\n",
      "2022-12-19 07:39:28.251328: I tensorflow/core/common_runtime/gpu_fusion_pass.cc:507] ROCm Fusion is enabled.\n",
      "2022-12-19 07:39:35.390155: I tensorflow/core/common_runtime/gpu_fusion_pass.cc:507] ROCm Fusion is enabled.\n",
      "2022-12-19 07:39:35.399861: I tensorflow/core/common_runtime/gpu_fusion_pass.cc:507] ROCm Fusion is enabled.\n",
      "2022-12-19 07:39:35.406462: I tensorflow/core/common_runtime/gpu_fusion_pass.cc:507] ROCm Fusion is enabled.\n",
      "2022-12-19 07:39:42.540345: I tensorflow/core/common_runtime/gpu_fusion_pass.cc:507] ROCm Fusion is enabled.\n",
      "2022-12-19 07:39:42.550005: I tensorflow/core/common_runtime/gpu_fusion_pass.cc:507] ROCm Fusion is enabled.\n",
      "2022-12-19 07:39:42.556532: I tensorflow/core/common_runtime/gpu_fusion_pass.cc:507] ROCm Fusion is enabled.\n",
      "2022-12-19 07:39:49.701631: I tensorflow/core/common_runtime/gpu_fusion_pass.cc:507] ROCm Fusion is enabled.\n",
      "2022-12-19 07:39:49.710523: I tensorflow/core/common_runtime/gpu_fusion_pass.cc:507] ROCm Fusion is enabled.\n",
      "2022-12-19 07:39:49.717178: I tensorflow/core/common_runtime/gpu_fusion_pass.cc:507] ROCm Fusion is enabled.\n",
      "2022-12-19 07:39:56.876570: I tensorflow/core/common_runtime/gpu_fusion_pass.cc:507] ROCm Fusion is enabled.\n",
      "2022-12-19 07:39:56.886360: I tensorflow/core/common_runtime/gpu_fusion_pass.cc:507] ROCm Fusion is enabled.\n",
      "2022-12-19 07:39:56.892880: I tensorflow/core/common_runtime/gpu_fusion_pass.cc:507] ROCm Fusion is enabled.\n",
      "2022-12-19 07:40:04.059800: I tensorflow/core/common_runtime/gpu_fusion_pass.cc:507] ROCm Fusion is enabled.\n",
      "2022-12-19 07:40:04.069397: I tensorflow/core/common_runtime/gpu_fusion_pass.cc:507] ROCm Fusion is enabled.\n",
      "2022-12-19 07:40:04.075999: I tensorflow/core/common_runtime/gpu_fusion_pass.cc:507] ROCm Fusion is enabled.\n",
      "2022-12-19 07:40:11.211794: I tensorflow/core/common_runtime/gpu_fusion_pass.cc:507] ROCm Fusion is enabled.\n",
      "2022-12-19 07:40:11.220528: I tensorflow/core/common_runtime/gpu_fusion_pass.cc:507] ROCm Fusion is enabled.\n",
      "2022-12-19 07:40:11.227171: I tensorflow/core/common_runtime/gpu_fusion_pass.cc:507] ROCm Fusion is enabled.\n",
      "2022-12-19 07:40:18.376653: I tensorflow/core/common_runtime/gpu_fusion_pass.cc:507] ROCm Fusion is enabled.\n",
      "2022-12-19 07:40:18.385529: I tensorflow/core/common_runtime/gpu_fusion_pass.cc:507] ROCm Fusion is enabled.\n",
      "2022-12-19 07:40:18.392161: I tensorflow/core/common_runtime/gpu_fusion_pass.cc:507] ROCm Fusion is enabled.\n",
      "2022-12-19 07:40:25.554960: I tensorflow/core/common_runtime/gpu_fusion_pass.cc:507] ROCm Fusion is enabled.\n",
      "2022-12-19 07:40:25.563870: I tensorflow/core/common_runtime/gpu_fusion_pass.cc:507] ROCm Fusion is enabled.\n",
      "2022-12-19 07:40:25.570549: I tensorflow/core/common_runtime/gpu_fusion_pass.cc:507] ROCm Fusion is enabled.\n",
      "2022-12-19 07:40:32.720829: I tensorflow/core/common_runtime/gpu_fusion_pass.cc:507] ROCm Fusion is enabled.\n",
      "2022-12-19 07:40:32.729741: I tensorflow/core/common_runtime/gpu_fusion_pass.cc:507] ROCm Fusion is enabled.\n",
      "2022-12-19 07:40:32.736382: I tensorflow/core/common_runtime/gpu_fusion_pass.cc:507] ROCm Fusion is enabled.\n",
      "2022-12-19 07:40:39.868574: I tensorflow/core/common_runtime/gpu_fusion_pass.cc:507] ROCm Fusion is enabled.\n",
      "2022-12-19 07:40:39.877295: I tensorflow/core/common_runtime/gpu_fusion_pass.cc:507] ROCm Fusion is enabled.\n",
      "2022-12-19 07:40:39.883938: I tensorflow/core/common_runtime/gpu_fusion_pass.cc:507] ROCm Fusion is enabled.\n",
      "2022-12-19 07:40:47.033305: I tensorflow/core/common_runtime/gpu_fusion_pass.cc:507] ROCm Fusion is enabled.\n",
      "2022-12-19 07:40:47.042058: I tensorflow/core/common_runtime/gpu_fusion_pass.cc:507] ROCm Fusion is enabled.\n",
      "2022-12-19 07:40:47.048711: I tensorflow/core/common_runtime/gpu_fusion_pass.cc:507] ROCm Fusion is enabled.\n",
      "2022-12-19 07:40:54.212061: I tensorflow/core/common_runtime/gpu_fusion_pass.cc:507] ROCm Fusion is enabled.\n",
      "2022-12-19 07:40:54.221618: I tensorflow/core/common_runtime/gpu_fusion_pass.cc:507] ROCm Fusion is enabled.\n",
      "2022-12-19 07:40:54.228149: I tensorflow/core/common_runtime/gpu_fusion_pass.cc:507] ROCm Fusion is enabled.\n",
      "2022-12-19 07:41:01.366335: I tensorflow/core/common_runtime/gpu_fusion_pass.cc:507] ROCm Fusion is enabled.\n",
      "2022-12-19 07:41:01.375170: I tensorflow/core/common_runtime/gpu_fusion_pass.cc:507] ROCm Fusion is enabled.\n",
      "2022-12-19 07:41:01.381859: I tensorflow/core/common_runtime/gpu_fusion_pass.cc:507] ROCm Fusion is enabled.\n",
      "2022-12-19 07:41:08.540547: I tensorflow/core/common_runtime/gpu_fusion_pass.cc:507] ROCm Fusion is enabled.\n",
      "2022-12-19 07:41:08.549476: I tensorflow/core/common_runtime/gpu_fusion_pass.cc:507] ROCm Fusion is enabled.\n",
      "2022-12-19 07:41:08.556141: I tensorflow/core/common_runtime/gpu_fusion_pass.cc:507] ROCm Fusion is enabled.\n",
      "2022-12-19 07:41:15.728384: I tensorflow/core/common_runtime/gpu_fusion_pass.cc:507] ROCm Fusion is enabled.\n",
      "2022-12-19 07:41:15.738292: I tensorflow/core/common_runtime/gpu_fusion_pass.cc:507] ROCm Fusion is enabled.\n",
      "2022-12-19 07:41:15.744945: I tensorflow/core/common_runtime/gpu_fusion_pass.cc:507] ROCm Fusion is enabled.\n",
      "2022-12-19 07:41:22.882832: I tensorflow/core/common_runtime/gpu_fusion_pass.cc:507] ROCm Fusion is enabled.\n",
      "2022-12-19 07:41:22.891796: I tensorflow/core/common_runtime/gpu_fusion_pass.cc:507] ROCm Fusion is enabled.\n",
      "2022-12-19 07:41:22.898543: I tensorflow/core/common_runtime/gpu_fusion_pass.cc:507] ROCm Fusion is enabled.\n",
      "2022-12-19 07:41:30.047808: I tensorflow/core/common_runtime/gpu_fusion_pass.cc:507] ROCm Fusion is enabled.\n",
      "2022-12-19 07:41:30.057606: I tensorflow/core/common_runtime/gpu_fusion_pass.cc:507] ROCm Fusion is enabled.\n",
      "2022-12-19 07:41:30.064209: I tensorflow/core/common_runtime/gpu_fusion_pass.cc:507] ROCm Fusion is enabled.\n",
      "2022-12-19 07:41:37.232763: I tensorflow/core/common_runtime/gpu_fusion_pass.cc:507] ROCm Fusion is enabled.\n",
      "2022-12-19 07:41:37.241674: I tensorflow/core/common_runtime/gpu_fusion_pass.cc:507] ROCm Fusion is enabled.\n",
      "2022-12-19 07:41:37.248292: I tensorflow/core/common_runtime/gpu_fusion_pass.cc:507] ROCm Fusion is enabled.\n",
      "2022-12-19 07:41:44.408440: I tensorflow/core/common_runtime/gpu_fusion_pass.cc:507] ROCm Fusion is enabled.\n",
      "2022-12-19 07:41:44.417313: I tensorflow/core/common_runtime/gpu_fusion_pass.cc:507] ROCm Fusion is enabled.\n",
      "2022-12-19 07:41:44.423935: I tensorflow/core/common_runtime/gpu_fusion_pass.cc:507] ROCm Fusion is enabled.\n",
      "2022-12-19 07:41:51.567945: I tensorflow/core/common_runtime/gpu_fusion_pass.cc:507] ROCm Fusion is enabled.\n",
      "2022-12-19 07:41:51.577818: I tensorflow/core/common_runtime/gpu_fusion_pass.cc:507] ROCm Fusion is enabled.\n",
      "2022-12-19 07:41:51.584405: I tensorflow/core/common_runtime/gpu_fusion_pass.cc:507] ROCm Fusion is enabled.\n",
      "2022-12-19 07:41:58.732929: I tensorflow/core/common_runtime/gpu_fusion_pass.cc:507] ROCm Fusion is enabled.\n",
      "2022-12-19 07:41:58.741821: I tensorflow/core/common_runtime/gpu_fusion_pass.cc:507] ROCm Fusion is enabled.\n",
      "2022-12-19 07:41:58.749118: I tensorflow/core/common_runtime/gpu_fusion_pass.cc:507] ROCm Fusion is enabled.\n",
      "2022-12-19 07:42:05.915488: I tensorflow/core/common_runtime/gpu_fusion_pass.cc:507] ROCm Fusion is enabled.\n",
      "2022-12-19 07:42:05.924343: I tensorflow/core/common_runtime/gpu_fusion_pass.cc:507] ROCm Fusion is enabled.\n",
      "2022-12-19 07:42:05.931005: I tensorflow/core/common_runtime/gpu_fusion_pass.cc:507] ROCm Fusion is enabled.\n",
      "2022-12-19 07:42:13.074436: I tensorflow/core/common_runtime/gpu_fusion_pass.cc:507] ROCm Fusion is enabled.\n",
      "2022-12-19 07:42:13.083420: I tensorflow/core/common_runtime/gpu_fusion_pass.cc:507] ROCm Fusion is enabled.\n",
      "2022-12-19 07:42:13.090168: I tensorflow/core/common_runtime/gpu_fusion_pass.cc:507] ROCm Fusion is enabled.\n",
      "2022-12-19 07:42:20.244484: I tensorflow/core/common_runtime/gpu_fusion_pass.cc:507] ROCm Fusion is enabled.\n",
      "2022-12-19 07:42:20.253381: I tensorflow/core/common_runtime/gpu_fusion_pass.cc:507] ROCm Fusion is enabled.\n",
      "2022-12-19 07:42:20.260041: I tensorflow/core/common_runtime/gpu_fusion_pass.cc:507] ROCm Fusion is enabled.\n",
      "2022-12-19 07:42:27.404901: I tensorflow/core/common_runtime/gpu_fusion_pass.cc:507] ROCm Fusion is enabled.\n",
      "2022-12-19 07:42:27.413902: I tensorflow/core/common_runtime/gpu_fusion_pass.cc:507] ROCm Fusion is enabled.\n",
      "2022-12-19 07:42:27.419755: I tensorflow/core/common_runtime/gpu_fusion_pass.cc:507] ROCm Fusion is enabled.\n",
      "2022-12-19 07:42:34.578513: I tensorflow/core/common_runtime/gpu_fusion_pass.cc:507] ROCm Fusion is enabled.\n",
      "2022-12-19 07:42:34.587308: I tensorflow/core/common_runtime/gpu_fusion_pass.cc:507] ROCm Fusion is enabled.\n",
      "2022-12-19 07:42:34.593996: I tensorflow/core/common_runtime/gpu_fusion_pass.cc:507] ROCm Fusion is enabled.\n",
      "2022-12-19 07:42:41.713466: I tensorflow/core/common_runtime/gpu_fusion_pass.cc:507] ROCm Fusion is enabled.\n",
      "2022-12-19 07:42:41.722203: I tensorflow/core/common_runtime/gpu_fusion_pass.cc:507] ROCm Fusion is enabled.\n",
      "2022-12-19 07:42:41.728878: I tensorflow/core/common_runtime/gpu_fusion_pass.cc:507] ROCm Fusion is enabled.\n",
      "2022-12-19 07:42:48.887621: I tensorflow/core/common_runtime/gpu_fusion_pass.cc:507] ROCm Fusion is enabled.\n",
      "2022-12-19 07:42:48.896401: I tensorflow/core/common_runtime/gpu_fusion_pass.cc:507] ROCm Fusion is enabled.\n",
      "2022-12-19 07:42:48.903062: I tensorflow/core/common_runtime/gpu_fusion_pass.cc:507] ROCm Fusion is enabled.\n",
      "2022-12-19 07:42:56.080842: I tensorflow/core/common_runtime/gpu_fusion_pass.cc:507] ROCm Fusion is enabled.\n",
      "2022-12-19 07:42:56.089765: I tensorflow/core/common_runtime/gpu_fusion_pass.cc:507] ROCm Fusion is enabled.\n",
      "2022-12-19 07:42:56.096439: I tensorflow/core/common_runtime/gpu_fusion_pass.cc:507] ROCm Fusion is enabled.\n",
      "2022-12-19 07:43:03.237797: I tensorflow/core/common_runtime/gpu_fusion_pass.cc:507] ROCm Fusion is enabled.\n",
      "2022-12-19 07:43:03.246761: I tensorflow/core/common_runtime/gpu_fusion_pass.cc:507] ROCm Fusion is enabled.\n",
      "2022-12-19 07:43:03.253440: I tensorflow/core/common_runtime/gpu_fusion_pass.cc:507] ROCm Fusion is enabled.\n",
      "2022-12-19 07:43:10.419790: I tensorflow/core/common_runtime/gpu_fusion_pass.cc:507] ROCm Fusion is enabled.\n",
      "2022-12-19 07:43:10.428740: I tensorflow/core/common_runtime/gpu_fusion_pass.cc:507] ROCm Fusion is enabled.\n",
      "2022-12-19 07:43:10.435490: I tensorflow/core/common_runtime/gpu_fusion_pass.cc:507] ROCm Fusion is enabled.\n",
      "2022-12-19 07:43:17.590601: I tensorflow/core/common_runtime/gpu_fusion_pass.cc:507] ROCm Fusion is enabled.\n",
      "2022-12-19 07:43:17.600485: I tensorflow/core/common_runtime/gpu_fusion_pass.cc:507] ROCm Fusion is enabled.\n",
      "2022-12-19 07:43:17.607838: I tensorflow/core/common_runtime/gpu_fusion_pass.cc:507] ROCm Fusion is enabled.\n",
      "2022-12-19 07:43:24.763283: I tensorflow/core/common_runtime/gpu_fusion_pass.cc:507] ROCm Fusion is enabled.\n",
      "2022-12-19 07:43:24.772240: I tensorflow/core/common_runtime/gpu_fusion_pass.cc:507] ROCm Fusion is enabled.\n",
      "2022-12-19 07:43:24.778940: I tensorflow/core/common_runtime/gpu_fusion_pass.cc:507] ROCm Fusion is enabled.\n",
      "2022-12-19 07:43:31.921156: I tensorflow/core/common_runtime/gpu_fusion_pass.cc:507] ROCm Fusion is enabled.\n",
      "2022-12-19 07:43:31.930109: I tensorflow/core/common_runtime/gpu_fusion_pass.cc:507] ROCm Fusion is enabled.\n",
      "2022-12-19 07:43:31.936777: I tensorflow/core/common_runtime/gpu_fusion_pass.cc:507] ROCm Fusion is enabled.\n",
      "2022-12-19 07:43:39.095082: I tensorflow/core/common_runtime/gpu_fusion_pass.cc:507] ROCm Fusion is enabled.\n",
      "2022-12-19 07:43:39.104016: I tensorflow/core/common_runtime/gpu_fusion_pass.cc:507] ROCm Fusion is enabled.\n",
      "2022-12-19 07:43:39.110654: I tensorflow/core/common_runtime/gpu_fusion_pass.cc:507] ROCm Fusion is enabled.\n"
     ]
    },
    {
     "name": "stdout",
     "output_type": "stream",
     "text": [
      " 51/313 [===>..........................] - ETA: 0s - loss: 2.6044 - sparse_categorical_accuracy: 0.3560"
     ]
    },
    {
     "name": "stderr",
     "output_type": "stream",
     "text": [
      "2022-12-19 07:43:39.793638: I tensorflow/core/common_runtime/gpu_fusion_pass.cc:507] ROCm Fusion is enabled.\n",
      "2022-12-19 07:43:39.800621: I tensorflow/core/common_runtime/gpu_fusion_pass.cc:507] ROCm Fusion is enabled.\n",
      "2022-12-19 07:43:39.834673: I tensorflow/core/common_runtime/gpu_fusion_pass.cc:507] ROCm Fusion is enabled.\n",
      "2022-12-19 07:43:39.840377: I tensorflow/core/common_runtime/gpu_fusion_pass.cc:507] ROCm Fusion is enabled.\n",
      "2022-12-19 07:43:39.845347: I tensorflow/core/common_runtime/gpu_fusion_pass.cc:507] ROCm Fusion is enabled.\n",
      "2022-12-19 07:43:39.849093: I tensorflow/core/common_runtime/gpu_fusion_pass.cc:507] ROCm Fusion is enabled.\n"
     ]
    },
    {
     "name": "stdout",
     "output_type": "stream",
     "text": [
      "313/313 [==============================] - 1s 2ms/step - loss: 2.5884 - sparse_categorical_accuracy: 0.3556\n"
     ]
    }
   ],
   "source": [
    "history_fine = model_fine.fit(trnData, trnLabelsFine, epochs=100, validation_split=0.2, verbose=0)\n",
    "results_fine = model_fine.evaluate(tstData, tstLabelsFine)"
   ]
  },
  {
   "cell_type": "markdown",
   "id": "3f76346a-2864-4250-8a5b-24397cd49402",
   "metadata": {},
   "source": [
    "## Model results\n",
    "Now that the CNNs have been trained on the coarse and fine labels, we can examine the results. Below are accuracy and loss curves for the model on each set of labels, along with one-vs-all matrices for individual classes, the confusion matrix for the superclasses, and a region of the confusion matrix for the finer classes.\n",
    "### Superclasses"
   ]
  },
  {
   "cell_type": "code",
   "execution_count": 6,
   "id": "b6f71d5b-9a18-45a3-aa87-63680bbcf026",
   "metadata": {},
   "outputs": [
    {
     "name": "stdout",
     "output_type": "stream",
     "text": [
      "Test set loss: 1.73, test set accuracy: 48.70%\n"
     ]
    },
    {
     "data": {
      "image/png": "[encoded data removed]",
      "text/plain": [
       "<Figure size 1000x500 with 2 Axes>"
      ]
     },
     "metadata": {},
     "output_type": "display_data"
    }
   ],
   "source": [
    "displayHistory(results_coarse, history_coarse)"
   ]
  },
  {
   "cell_type": "markdown",
   "id": "4f3d789d-1ae8-4581-920a-1284e45abd18",
   "metadata": {},
   "source": [
    "This training history shows that the model is overfitting the data slightly. Ideally, the training and validation accuracy should be as close together as possible. However, the validation accuracy is ultimately the measure of how accurate the classifier is and 48.7% is pretty good."
   ]
  },
  {
   "cell_type": "code",
   "execution_count": 13,
   "id": "3835db99-deb8-4aa8-9b58-cfa03e3b789d",
   "metadata": {},
   "outputs": [
    {
     "name": "stdout",
     "output_type": "stream",
     "text": [
      " 81/313 [======>.......................] - ETA: 0s"
     ]
    },
    {
     "name": "stderr",
     "output_type": "stream",
     "text": [
      "2022-12-19 07:49:23.796803: I tensorflow/core/common_runtime/gpu_fusion_pass.cc:507] ROCm Fusion is enabled.\n",
      "2022-12-19 07:49:23.803665: I tensorflow/core/common_runtime/gpu_fusion_pass.cc:507] ROCm Fusion is enabled.\n",
      "2022-12-19 07:49:23.836286: I tensorflow/core/common_runtime/gpu_fusion_pass.cc:507] ROCm Fusion is enabled.\n",
      "2022-12-19 07:49:23.842083: I tensorflow/core/common_runtime/gpu_fusion_pass.cc:507] ROCm Fusion is enabled.\n",
      "2022-12-19 07:49:23.846963: I tensorflow/core/common_runtime/gpu_fusion_pass.cc:507] ROCm Fusion is enabled.\n",
      "2022-12-19 07:49:23.849898: I tensorflow/core/common_runtime/gpu_fusion_pass.cc:507] ROCm Fusion is enabled.\n"
     ]
    },
    {
     "name": "stdout",
     "output_type": "stream",
     "text": [
      "313/313 [==============================] - 0s 1ms/step\n",
      "[[ 275  225]\n",
      " [ 623 8877]]\n",
      "\n",
      "[[ 224  276]\n",
      " [ 285 9215]]\n",
      "\n",
      "[[ 362  138]\n",
      " [ 148 9352]]\n",
      "\n",
      "[[ 234  266]\n",
      " [ 203 9297]]\n",
      "\n",
      "[[ 282  218]\n",
      " [ 123 9377]]\n",
      "\n",
      "[[ 196  304]\n",
      " [ 241 9259]]\n",
      "\n",
      "[[ 288  212]\n",
      " [ 221 9279]]\n",
      "\n",
      "[[ 218  282]\n",
      " [ 178 9322]]\n",
      "\n",
      "[[ 252  248]\n",
      " [ 462 9038]]\n",
      "\n",
      "[[ 276  224]\n",
      " [ 226 9274]]\n",
      "\n",
      "[[ 352  148]\n",
      " [ 220 9280]]\n",
      "\n",
      "[[ 101  399]\n",
      " [  74 9426]]\n",
      "\n",
      "[[ 148  352]\n",
      " [ 132 9368]]\n",
      "\n",
      "[[ 259  241]\n",
      " [ 719 8781]]\n",
      "\n",
      "[[ 219  281]\n",
      " [  26 9474]]\n",
      "\n",
      "[[ 148  352]\n",
      " [ 332 9168]]\n",
      "\n",
      "[[ 202  298]\n",
      " [ 394 9106]]\n",
      "\n",
      "[[ 430   70]\n",
      " [ 243 9257]]\n",
      "\n",
      "[[ 192  308]\n",
      " [ 103 9397]]\n",
      "\n",
      "[[ 212  288]\n",
      " [ 177 9323]]\n",
      "\n",
      "[[ 243.5  256.5]\n",
      " [ 256.5 9243.5]]\n"
     ]
    }
   ],
   "source": [
    "proba_cnn_coarse = model_coarse.predict(tstData)\n",
    "predict_cnn_coarse = np.argmax(proba_cnn_coarse, axis=1)\n",
    "confusion_matrix_coarse = np.zeros(shape=(20,2,2), dtype=np.int16)\n",
    "for i in range(10000):\n",
    "    for j in range(20):\n",
    "        confusion_matrix_coarse[j,0 if tstLabelsCoarse[i] == j else 1, 0 if predict_cnn_coarse[i] == j else 1] += 1\n",
    "avg_matrix_coarse = np.zeros(shape=(2,2))\n",
    "for i in range(20):\n",
    "    print(confusion_matrix_coarse[i])\n",
    "    print()\n",
    "for i in range(20):\n",
    "    avg_matrix_coarse += confusion_matrix_coarse[i]\n",
    "avg_matrix_coarse /= 20\n",
    "print(avg_matrix_coarse)"
   ]
  },
  {
   "cell_type": "code",
   "execution_count": 8,
   "id": "bb5e1ffa-5ddd-40ae-b79e-f73647216b2b",
   "metadata": {},
   "outputs": [
    {
     "data": {
      "text/html": [
       "<style>div.output_area pre {white-space: pre;}</style>"
      ],
      "text/plain": [
       "<IPython.core.display.HTML object>"
      ]
     },
     "metadata": {},
     "output_type": "display_data"
    },
    {
     "name": "stdout",
     "output_type": "stream",
     "text": [
      "| 275| 42 | 0  | 1  | 0  | 9  | 0  | 4  | 29 | 6  | 14 | 5  | 11 | 29 | 2  | 22 | 38 | 7  | 0  | 6  \n",
      "+----+----+----+----+----+----+----+----+----+----+----+----+----+----+----+----+----+----+----+----\n",
      "| 74 | 224| 13 | 4  | 10 | 9  | 6  | 4  | 3  | 12 | 20 | 8  | 4  | 33 | 2  | 32 | 25 | 9  | 4  | 4  \n",
      "+----+----+----+----+----+----+----+----+----+----+----+----+----+----+----+----+----+----+----+----\n",
      "| 1  | 13 | 362| 11 | 33 | 2  | 3  | 14 | 6  | 0  | 5  | 2  | 2  | 21 | 0  | 9  | 6  | 7  | 1  | 2  \n",
      "+----+----+----+----+----+----+----+----+----+----+----+----+----+----+----+----+----+----+----+----\n",
      "| 10 | 16 | 8  | 234| 12 | 57 | 30 | 11 | 10 | 15 | 7  | 0  | 3  | 45 | 3  | 10 | 14 | 6  | 0  | 9  \n",
      "+----+----+----+----+----+----+----+----+----+----+----+----+----+----+----+----+----+----+----+----\n",
      "| 8  | 12 | 46 | 17 | 282| 7  | 3  | 13 | 21 | 3  | 5  | 5  | 2  | 35 | 4  | 12 | 12 | 11 | 2  | 0  \n",
      "+----+----+----+----+----+----+----+----+----+----+----+----+----+----+----+----+----+----+----+----\n",
      "| 23 | 13 | 3  | 41 | 11 | 196| 56 | 8  | 13 | 20 | 14 | 1  | 4  | 39 | 6  | 14 | 11 | 8  | 4  | 15 \n",
      "+----+----+----+----+----+----+----+----+----+----+----+----+----+----+----+----+----+----+----+----\n",
      "| 8  | 10 | 3  | 21 | 3  | 36 | 288| 7  | 6  | 10 | 18 | 1  | 0  | 25 | 0  | 14 | 16 | 10 | 13 | 11 \n",
      "+----+----+----+----+----+----+----+----+----+----+----+----+----+----+----+----+----+----+----+----\n",
      "| 25 | 10 | 27 | 9  | 9  | 6  | 4  | 218| 29 | 4  | 3  | 2  | 4  | 82 | 0  | 32 | 17 | 14 | 0  | 5  \n",
      "+----+----+----+----+----+----+----+----+----+----+----+----+----+----+----+----+----+----+----+----\n",
      "| 58 | 5  | 3  | 4  | 5  | 3  | 5  | 12 | 252| 2  | 4  | 9  | 20 | 40 | 0  | 23 | 44 | 8  | 3  | 0  \n",
      "+----+----+----+----+----+----+----+----+----+----+----+----+----+----+----+----+----+----+----+----\n",
      "| 23 | 6  | 0  | 4  | 0  | 15 | 23 | 2  | 10 | 276| 57 | 4  | 4  | 16 | 0  | 4  | 4  | 15 | 14 | 23 \n",
      "+----+----+----+----+----+----+----+----+----+----+----+----+----+----+----+----+----+----+----+----\n",
      "| 20 | 10 | 0  | 0  | 2  | 11 | 3  | 1  | 8  | 29 | 352| 1  | 1  | 5  | 0  | 4  | 4  | 47 | 1  | 1  \n",
      "+----+----+----+----+----+----+----+----+----+----+----+----+----+----+----+----+----+----+----+----\n",
      "| 111| 4  | 2  | 4  | 4  | 10 | 5  | 8  | 77 | 16 | 6  | 101| 20 | 42 | 1  | 28 | 40 | 11 | 3  | 7  \n",
      "+----+----+----+----+----+----+----+----+----+----+----+----+----+----+----+----+----+----+----+----\n",
      "| 54 | 18 | 1  | 2  | 2  | 11 | 4  | 12 | 79 | 2  | 3  | 14 | 148| 37 | 1  | 28 | 66 | 11 | 5  | 2  \n",
      "+----+----+----+----+----+----+----+----+----+----+----+----+----+----+----+----+----+----+----+----\n",
      "| 31 | 27 | 8  | 21 | 8  | 6  | 6  | 21 | 28 | 1  | 5  | 2  | 10 | 259| 1  | 29 | 19 | 11 | 5  | 2  \n",
      "+----+----+----+----+----+----+----+----+----+----+----+----+----+----+----+----+----+----+----+----\n",
      "| 14 | 20 | 14 | 29 | 7  | 22 | 18 | 8  | 30 | 6  | 2  | 3  | 2  | 45 | 219| 8  | 41 | 3  | 6  | 3  \n",
      "+----+----+----+----+----+----+----+----+----+----+----+----+----+----+----+----+----+----+----+----\n",
      "| 67 | 29 | 0  | 6  | 3  | 13 | 5  | 17 | 34 | 7  | 12 | 6  | 9  | 85 | 0  | 148| 27 | 20 | 5  | 7  \n",
      "+----+----+----+----+----+----+----+----+----+----+----+----+----+----+----+----+----+----+----+----\n",
      "| 54 | 27 | 3  | 7  | 3  | 3  | 9  | 6  | 45 | 5  | 7  | 5  | 24 | 53 | 3  | 26 | 202| 15 | 3  | 0  \n",
      "+----+----+----+----+----+----+----+----+----+----+----+----+----+----+----+----+----+----+----+----\n",
      "| 12 | 5  | 1  | 0  | 1  | 2  | 2  | 0  | 3  | 11 | 15 | 0  | 1  | 9  | 0  | 3  | 2  | 430| 2  | 1  \n",
      "+----+----+----+----+----+----+----+----+----+----+----+----+----+----+----+----+----+----+----+----\n",
      "| 18 | 7  | 13 | 9  | 3  | 11 | 20 | 15 | 15 | 28 | 8  | 5  | 4  | 45 | 2  | 13 | 2  | 11 | 192| 79 \n",
      "+----+----+----+----+----+----+----+----+----+----+----+----+----+----+----+----+----+----+----+----\n",
      "| 12 | 11 | 3  | 13 | 7  | 8  | 19 | 15 | 16 | 49 | 15 | 1  | 7  | 33 | 1  | 21 | 6  | 19 | 32 | 212\n",
      "+----+----+----+----+----+----+----+----+----+----+----+----+----+----+----+----+----+----+----+----\n"
     ]
    }
   ],
   "source": [
    "confusion_matrix_coarse = np.zeros(shape=(20,20), dtype=np.int16)\n",
    "for i in range(10000):\n",
    "    confusion_matrix_coarse[tstLabelsCoarse[i], predict_cnn_coarse[i]] += 1\n",
    "# This is some html trickery to prevent prints from wrapping, so that we can display more of the confusion matrix\n",
    "display(HTML(\"<style>div.output_area pre {white-space: pre;}</style>\"))\n",
    "\n",
    "for i in range(20):\n",
    "    for j in range(20):\n",
    "        print(\"|\", confusion_matrix_coarse[i, j], end = \"\")\n",
    "        if (confusion_matrix_coarse[i,j] < 10):\n",
    "            print(\" \", end=\"\")\n",
    "        if (confusion_matrix_coarse[i, j] < 100):\n",
    "            print(\" \", end=\"\")\n",
    "    print()\n",
    "    print(\"+----+----+----+----+----+----+----+----+----+----+----+----+----+----+----+----+----+----+----+----\")\n"
   ]
  },
  {
   "cell_type": "markdown",
   "id": "aa3178ed-d2f5-46d3-b79c-c4049527f95e",
   "metadata": {},
   "source": [
    "Trained on the coarse superclasses, the CNN has a sensitivity of 0.474 and specificity of 0.972. An interesting thing on the 14th collumn of the confusion matrix, it looks like the CNN is identifying a lot of things as belonging to that category, that's a lot of false positives. Why could that be?"
   ]
  },
  {
   "cell_type": "markdown",
   "id": "6040cf66-ae3f-40c3-a806-cc6cf45eb189",
   "metadata": {},
   "source": [
    "### Fine classes"
   ]
  },
  {
   "cell_type": "code",
   "execution_count": 11,
   "id": "5dd0391d-e070-4196-803b-477823f9331d",
   "metadata": {},
   "outputs": [
    {
     "name": "stdout",
     "output_type": "stream",
     "text": [
      "Test set loss: 2.59, test set accuracy: 35.56%\n"
     ]
    },
    {
     "data": {
      "image/png": "[encoded data removed]",
      "text/plain": [
       "<Figure size 1000x500 with 2 Axes>"
      ]
     },
     "metadata": {},
     "output_type": "display_data"
    }
   ],
   "source": [
    "displayHistory(results_fine, history_fine)"
   ]
  },
  {
   "cell_type": "markdown",
   "id": "7d257ec4-f72b-43d4-964e-4ad516495eca",
   "metadata": {},
   "source": [
    "As above, the data is overfit slightly. It also looks like the validation accuracy was on an upwards trend when it was terminated - this could be made more accurate by running it for longer."
   ]
  },
  {
   "cell_type": "code",
   "execution_count": 19,
   "id": "510c7469-8189-4e9f-9e37-3ac13ea3fc6d",
   "metadata": {},
   "outputs": [
    {
     "name": "stdout",
     "output_type": "stream",
     "text": [
      " 81/313 [======>.......................] - ETA: 0s"
     ]
    },
    {
     "name": "stderr",
     "output_type": "stream",
     "text": [
      "2022-12-19 08:07:44.333285: I tensorflow/core/common_runtime/gpu_fusion_pass.cc:507] ROCm Fusion is enabled.\n",
      "2022-12-19 08:07:44.340085: I tensorflow/core/common_runtime/gpu_fusion_pass.cc:507] ROCm Fusion is enabled.\n",
      "2022-12-19 08:07:44.372760: I tensorflow/core/common_runtime/gpu_fusion_pass.cc:507] ROCm Fusion is enabled.\n",
      "2022-12-19 08:07:44.378467: I tensorflow/core/common_runtime/gpu_fusion_pass.cc:507] ROCm Fusion is enabled.\n",
      "2022-12-19 08:07:44.383444: I tensorflow/core/common_runtime/gpu_fusion_pass.cc:507] ROCm Fusion is enabled.\n",
      "2022-12-19 08:07:44.386440: I tensorflow/core/common_runtime/gpu_fusion_pass.cc:507] ROCm Fusion is enabled.\n"
     ]
    },
    {
     "name": "stdout",
     "output_type": "stream",
     "text": [
      "313/313 [==============================] - 0s 1ms/step\n",
      "[[  72   28]\n",
      " [  24 9876]]\n",
      "\n",
      "[[  47   53]\n",
      " [  65 9835]]\n",
      "\n",
      "[[  26   74]\n",
      " [  55 9845]]\n",
      "\n",
      "[[  14   86]\n",
      " [  79 9821]]\n",
      "\n",
      "[[  17   83]\n",
      " [  80 9820]]\n",
      "\n",
      "[[  14   86]\n",
      " [  42 9858]]\n",
      "\n",
      "[[  40   60]\n",
      " [  45 9855]]\n",
      "\n",
      "[[  33   67]\n",
      " [  33 9867]]\n",
      "\n",
      "[[  54   46]\n",
      " [  93 9807]]\n",
      "\n",
      "[[  56   44]\n",
      " [ 121 9779]]\n",
      "\n",
      "[[  21   79]\n",
      " [ 104 9796]]\n",
      "\n",
      "[[  13   87]\n",
      " [  20 9880]]\n",
      "\n",
      "[[  39   61]\n",
      " [  51 9849]]\n",
      "\n",
      "[[  14   86]\n",
      " [  14 9886]]\n",
      "\n",
      "[[  18   82]\n",
      " [  27 9873]]\n",
      "\n",
      "[[  25   75]\n",
      " [  26 9874]]\n",
      "\n",
      "[[  28   72]\n",
      " [  40 9860]]\n",
      "\n",
      "[[  55   45]\n",
      " [  31 9869]]\n",
      "\n",
      "[[  27   73]\n",
      " [  79 9821]]\n",
      "\n",
      "[[  20   80]\n",
      " [  34 9866]]\n",
      "\n",
      "[[  35.56   64.44]\n",
      " [  64.44 9835.56]]\n"
     ]
    }
   ],
   "source": [
    "proba_cnn_fine = model_fine.predict(tstData)\n",
    "predict_cnn_fine = np.argmax(proba_cnn_fine, axis=1)\n",
    "confusion_matrix_fine = np.zeros(shape=(100,2,2), dtype=np.int16)\n",
    "for i in range(10000):\n",
    "    for j in range(100):\n",
    "        confusion_matrix_fine[j,0 if tstLabelsFine[i] == j else 1, 0 if predict_cnn_fine[i] == j else 1] += 1\n",
    "avg_matrix_fine = np.zeros(shape=(2,2), dtype=float)\n",
    "for i in range(20):\n",
    "    print(confusion_matrix_fine[i])\n",
    "    print()\n",
    "for i in range(100):\n",
    "    avg_matrix_fine += confusion_matrix_fine[i]\n",
    "avg_matrix_fine /= 100\n",
    "print(avg_matrix_fine)"
   ]
  },
  {
   "cell_type": "code",
   "execution_count": 16,
   "id": "8840fbf3-aedf-43f2-9d5c-1cc019ebaa16",
   "metadata": {},
   "outputs": [
    {
     "data": {
      "text/html": [
       "<style>div.output_area pre {white-space: pre;}</style>"
      ],
      "text/plain": [
       "<IPython.core.display.HTML object>"
      ]
     },
     "metadata": {},
     "output_type": "display_data"
    },
    {
     "name": "stdout",
     "output_type": "stream",
     "text": [
      "| 72 | 2  | 0  | 0  | 0  | 0  | 0  | 1  | 0  | 0  | 3  | 0  | 0  | 0  | 0  | 0  | 0  | 0  | 0  | 0  | 0  | 0  | 0  | 1  | 0  | 1  | 0  | 0  | 0  | 0  \n",
      "+----+----+----+----+----+----+----+----+----+----+----+----+----+----+----+----+----+----+----+----+----+----+----+----+----+----+----+----+----+----\n",
      "| 1  | 47 | 0  | 0  | 0  | 0  | 0  | 0  | 0  | 0  | 1  | 0  | 0  | 0  | 0  | 0  | 0  | 0  | 0  | 1  | 0  | 0  | 0  | 0  | 0  | 1  | 1  | 0  | 0  | 0  \n",
      "+----+----+----+----+----+----+----+----+----+----+----+----+----+----+----+----+----+----+----+----+----+----+----+----+----+----+----+----+----+----\n",
      "| 0  | 2  | 26 | 0  | 1  | 3  | 0  | 0  | 0  | 1  | 3  | 1  | 0  | 0  | 0  | 1  | 0  | 0  | 0  | 0  | 0  | 0  | 0  | 1  | 0  | 2  | 1  | 1  | 1  | 0  \n",
      "+----+----+----+----+----+----+----+----+----+----+----+----+----+----+----+----+----+----+----+----+----+----+----+----+----+----+----+----+----+----\n",
      "| 0  | 0  | 0  | 14 | 3  | 0  | 0  | 1  | 0  | 2  | 0  | 0  | 0  | 0  | 0  | 1  | 0  | 0  | 0  | 3  | 0  | 9  | 0  | 1  | 0  | 1  | 0  | 1  | 0  | 0  \n",
      "+----+----+----+----+----+----+----+----+----+----+----+----+----+----+----+----+----+----+----+----+----+----+----+----+----+----+----+----+----+----\n",
      "| 0  | 0  | 0  | 6  | 17 | 0  | 0  | 0  | 0  | 0  | 0  | 0  | 0  | 0  | 0  | 0  | 0  | 0  | 0  | 0  | 0  | 0  | 0  | 1  | 0  | 1  | 0  | 7  | 0  | 0  \n",
      "+----+----+----+----+----+----+----+----+----+----+----+----+----+----+----+----+----+----+----+----+----+----+----+----+----+----+----+----+----+----\n",
      "| 0  | 0  | 1  | 0  | 0  | 14 | 0  | 0  | 0  | 2  | 1  | 0  | 2  | 1  | 1  | 0  | 1  | 0  | 1  | 1  | 2  | 0  | 0  | 5  | 1  | 34 | 0  | 0  | 0  | 0  \n",
      "+----+----+----+----+----+----+----+----+----+----+----+----+----+----+----+----+----+----+----+----+----+----+----+----+----+----+----+----+----+----\n",
      "| 0  | 0  | 0  | 1  | 1  | 0  | 40 | 1  | 0  | 0  | 0  | 0  | 0  | 0  | 0  | 0  | 0  | 0  | 4  | 0  | 0  | 1  | 0  | 0  | 1  | 0  | 1  | 2  | 0  | 0  \n",
      "+----+----+----+----+----+----+----+----+----+----+----+----+----+----+----+----+----+----+----+----+----+----+----+----+----+----+----+----+----+----\n",
      "| 0  | 0  | 0  | 1  | 0  | 0  | 3  | 33 | 3  | 2  | 1  | 0  | 0  | 0  | 6  | 0  | 1  | 0  | 5  | 0  | 0  | 1  | 1  | 1  | 2  | 1  | 1  | 2  | 0  | 0  \n",
      "+----+----+----+----+----+----+----+----+----+----+----+----+----+----+----+----+----+----+----+----+----+----+----+----+----+----+----+----+----+----\n",
      "| 0  | 0  | 0  | 1  | 0  | 1  | 0  | 0  | 54 | 0  | 0  | 0  | 0  | 0  | 0  | 0  | 0  | 0  | 1  | 1  | 0  | 0  | 0  | 0  | 0  | 1  | 0  | 1  | 0  | 1  \n",
      "+----+----+----+----+----+----+----+----+----+----+----+----+----+----+----+----+----+----+----+----+----+----+----+----+----+----+----+----+----+----\n",
      "| 0  | 0  | 0  | 0  | 0  | 3  | 0  | 1  | 0  | 56 | 0  | 1  | 1  | 0  | 0  | 0  | 0  | 1  | 2  | 0  | 0  | 1  | 0  | 0  | 0  | 1  | 0  | 0  | 3  | 0  \n",
      "+----+----+----+----+----+----+----+----+----+----+----+----+----+----+----+----+----+----+----+----+----+----+----+----+----+----+----+----+----+----\n",
      "| 0  | 1  | 1  | 0  | 2  | 2  | 0  | 0  | 0  | 3  | 21 | 0  | 0  | 0  | 0  | 0  | 1  | 0  | 2  | 0  | 0  | 1  | 1  | 4  | 1  | 9  | 0  | 1  | 6  | 0  \n",
      "+----+----+----+----+----+----+----+----+----+----+----+----+----+----+----+----+----+----+----+----+----+----+----+----+----+----+----+----+----+----\n",
      "| 0  | 0  | 10 | 0  | 2  | 0  | 0  | 0  | 1  | 1  | 1  | 13 | 0  | 0  | 0  | 0  | 0  | 0  | 1  | 0  | 0  | 1  | 0  | 0  | 0  | 3  | 0  | 0  | 1  | 0  \n",
      "+----+----+----+----+----+----+----+----+----+----+----+----+----+----+----+----+----+----+----+----+----+----+----+----+----+----+----+----+----+----\n",
      "| 0  | 0  | 0  | 0  | 0  | 0  | 0  | 0  | 0  | 1  | 0  | 0  | 39 | 0  | 0  | 0  | 1  | 1  | 0  | 0  | 0  | 0  | 0  | 0  | 0  | 9  | 0  | 1  | 0  | 0  \n",
      "+----+----+----+----+----+----+----+----+----+----+----+----+----+----+----+----+----+----+----+----+----+----+----+----+----+----+----+----+----+----\n",
      "| 0  | 1  | 0  | 0  | 0  | 2  | 0  | 0  | 4  | 0  | 0  | 1  | 5  | 14 | 0  | 0  | 1  | 0  | 0  | 0  | 0  | 2  | 0  | 0  | 0  | 6  | 0  | 0  | 0  | 0  \n",
      "+----+----+----+----+----+----+----+----+----+----+----+----+----+----+----+----+----+----+----+----+----+----+----+----+----+----+----+----+----+----\n",
      "| 1  | 3  | 1  | 0  | 1  | 0  | 3  | 0  | 2  | 1  | 0  | 0  | 0  | 0  | 18 | 0  | 0  | 1  | 5  | 1  | 0  | 1  | 0  | 0  | 1  | 0  | 0  | 0  | 0  | 2  \n",
      "+----+----+----+----+----+----+----+----+----+----+----+----+----+----+----+----+----+----+----+----+----+----+----+----+----+----+----+----+----+----\n",
      "| 0  | 0  | 0  | 1  | 1  | 0  | 0  | 0  | 1  | 2  | 0  | 0  | 1  | 0  | 1  | 25 | 0  | 3  | 0  | 3  | 0  | 2  | 0  | 0  | 0  | 2  | 0  | 2  | 1  | 1  \n",
      "+----+----+----+----+----+----+----+----+----+----+----+----+----+----+----+----+----+----+----+----+----+----+----+----+----+----+----+----+----+----\n",
      "| 0  | 1  | 3  | 0  | 0  | 4  | 0  | 0  | 1  | 12 | 6  | 1  | 0  | 0  | 0  | 1  | 28 | 0  | 0  | 0  | 0  | 1  | 0  | 0  | 0  | 2  | 0  | 0  | 7  | 0  \n",
      "+----+----+----+----+----+----+----+----+----+----+----+----+----+----+----+----+----+----+----+----+----+----+----+----+----+----+----+----+----+----\n",
      "| 0  | 0  | 0  | 1  | 0  | 0  | 0  | 0  | 0  | 1  | 0  | 0  | 3  | 0  | 0  | 0  | 0  | 55 | 0  | 0  | 0  | 0  | 0  | 0  | 0  | 3  | 0  | 0  | 0  | 0  \n",
      "+----+----+----+----+----+----+----+----+----+----+----+----+----+----+----+----+----+----+----+----+----+----+----+----+----+----+----+----+----+----\n",
      "| 0  | 0  | 0  | 0  | 1  | 0  | 1  | 0  | 1  | 4  | 0  | 0  | 0  | 0  | 1  | 0  | 0  | 0  | 27 | 0  | 0  | 0  | 0  | 0  | 0  | 0  | 0  | 4  | 0  | 1  \n",
      "+----+----+----+----+----+----+----+----+----+----+----+----+----+----+----+----+----+----+----+----+----+----+----+----+----+----+----+----+----+----\n",
      "| 0  | 0  | 0  | 2  | 4  | 0  | 0  | 0  | 1  | 1  | 0  | 0  | 0  | 0  | 1  | 3  | 1  | 1  | 1  | 20 | 0  | 3  | 0  | 1  | 0  | 2  | 0  | 2  | 0  | 1  \n",
      "+----+----+----+----+----+----+----+----+----+----+----+----+----+----+----+----+----+----+----+----+----+----+----+----+----+----+----+----+----+----\n",
      "| 2  | 0  | 0  | 0  | 0  | 4  | 0  | 0  | 1  | 2  | 0  | 1  | 0  | 0  | 1  | 0  | 0  | 0  | 0  | 0  | 59 | 0  | 0  | 0  | 1  | 6  | 1  | 0  | 2  | 0  \n",
      "+----+----+----+----+----+----+----+----+----+----+----+----+----+----+----+----+----+----+----+----+----+----+----+----+----+----+----+----+----+----\n",
      "| 0  | 0  | 0  | 9  | 1  | 0  | 0  | 1  | 0  | 1  | 0  | 0  | 0  | 0  | 0  | 0  | 0  | 0  | 0  | 0  | 0  | 50 | 0  | 0  | 0  | 0  | 0  | 1  | 2  | 0  \n",
      "+----+----+----+----+----+----+----+----+----+----+----+----+----+----+----+----+----+----+----+----+----+----+----+----+----+----+----+----+----+----\n",
      "| 1  | 1  | 0  | 0  | 1  | 0  | 0  | 0  | 3  | 1  | 11 | 0  | 0  | 0  | 0  | 0  | 2  | 0  | 0  | 0  | 0  | 0  | 28 | 0  | 0  | 3  | 1  | 1  | 2  | 0  \n",
      "+----+----+----+----+----+----+----+----+----+----+----+----+----+----+----+----+----+----+----+----+----+----+----+----+----+----+----+----+----+----\n",
      "| 0  | 0  | 0  | 1  | 0  | 0  | 0  | 0  | 0  | 0  | 0  | 0  | 0  | 0  | 0  | 0  | 0  | 0  | 0  | 0  | 0  | 0  | 0  | 85 | 0  | 0  | 0  | 1  | 0  | 0  \n",
      "+----+----+----+----+----+----+----+----+----+----+----+----+----+----+----+----+----+----+----+----+----+----+----+----+----+----+----+----+----+----\n",
      "| 0  | 0  | 0  | 0  | 1  | 0  | 0  | 9  | 0  | 2  | 3  | 0  | 0  | 0  | 0  | 0  | 0  | 0  | 1  | 0  | 0  | 1  | 0  | 0  | 48 | 1  | 2  | 0  | 0  | 0  \n",
      "+----+----+----+----+----+----+----+----+----+----+----+----+----+----+----+----+----+----+----+----+----+----+----+----+----+----+----+----+----+----\n",
      "| 0  | 0  | 1  | 0  | 1  | 3  | 0  | 0  | 0  | 2  | 3  | 0  | 0  | 1  | 0  | 0  | 2  | 0  | 1  | 0  | 2  | 0  | 0  | 5  | 0  | 41 | 0  | 0  | 0  | 0  \n",
      "+----+----+----+----+----+----+----+----+----+----+----+----+----+----+----+----+----+----+----+----+----+----+----+----+----+----+----+----+----+----\n",
      "| 0  | 1  | 0  | 0  | 2  | 0  | 1  | 1  | 1  | 0  | 6  | 0  | 1  | 1  | 0  | 0  | 0  | 0  | 0  | 0  | 0  | 0  | 0  | 0  | 1  | 4  | 13 | 4  | 0  | 2  \n",
      "+----+----+----+----+----+----+----+----+----+----+----+----+----+----+----+----+----+----+----+----+----+----+----+----+----+----+----+----+----+----\n",
      "| 1  | 0  | 0  | 2  | 2  | 0  | 0  | 0  | 0  | 0  | 0  | 0  | 0  | 0  | 0  | 0  | 0  | 0  | 1  | 0  | 0  | 0  | 0  | 2  | 0  | 0  | 0  | 44 | 1  | 0  \n",
      "+----+----+----+----+----+----+----+----+----+----+----+----+----+----+----+----+----+----+----+----+----+----+----+----+----+----+----+----+----+----\n",
      "| 0  | 0  | 0  | 1  | 1  | 0  | 0  | 0  | 1  | 3  | 2  | 1  | 0  | 0  | 0  | 0  | 2  | 0  | 1  | 0  | 0  | 0  | 0  | 5  | 0  | 1  | 0  | 0  | 56 | 0  \n",
      "+----+----+----+----+----+----+----+----+----+----+----+----+----+----+----+----+----+----+----+----+----+----+----+----+----+----+----+----+----+----\n",
      "| 0  | 2  | 0  | 0  | 4  | 1  | 0  | 0  | 4  | 0  | 0  | 0  | 0  | 0  | 0  | 1  | 0  | 0  | 2  | 0  | 0  | 0  | 0  | 1  | 3  | 2  | 1  | 2  | 0  | 17 \n",
      "+----+----+----+----+----+----+----+----+----+----+----+----+----+----+----+----+----+----+----+----+----+----+----+----+----+----+----+----+----+----\n",
      "| 0  | 0  | 0  | 1  | 0  | 0  | 0  | 0  | 0  | 0  | 1  | 0  | 1  | 0  | 0  | 0  | 0  | 0  | 0  | 0  | 0  | 0  | 0  | 9  | 0  | 0  | 0  | 4  | 1  | 0  \n",
      "+----+----+----+----+----+----+----+----+----+----+----+----+----+----+----+----+----+----+----+----+----+----+----+----+----+----+----+----+----+----\n",
      "| 0  | 1  | 0  | 5  | 0  | 0  | 0  | 0  | 0  | 1  | 0  | 0  | 2  | 0  | 0  | 3  | 0  | 0  | 0  | 1  | 0  | 1  | 0  | 1  | 0  | 1  | 0  | 1  | 0  | 0  \n",
      "+----+----+----+----+----+----+----+----+----+----+----+----+----+----+----+----+----+----+----+----+----+----+----+----+----+----+----+----+----+----\n",
      "| 0  | 1  | 0  | 2  | 3  | 0  | 0  | 1  | 0  | 0  | 0  | 1  | 2  | 0  | 0  | 0  | 1  | 0  | 0  | 1  | 1  | 1  | 0  | 1  | 0  | 3  | 0  | 2  | 0  | 1  \n",
      "+----+----+----+----+----+----+----+----+----+----+----+----+----+----+----+----+----+----+----+----+----+----+----+----+----+----+----+----+----+----\n",
      "| 0  | 2  | 0  | 1  | 0  | 0  | 0  | 0  | 0  | 2  | 0  | 0  | 1  | 0  | 0  | 0  | 0  | 0  | 0  | 0  | 0  | 0  | 0  | 0  | 0  | 2  | 0  | 3  | 0  | 0  \n",
      "+----+----+----+----+----+----+----+----+----+----+----+----+----+----+----+----+----+----+----+----+----+----+----+----+----+----+----+----+----+----\n",
      "| 0  | 1  | 0  | 0  | 1  | 0  | 1  | 0  | 0  | 0  | 0  | 1  | 0  | 0  | 0  | 1  | 0  | 1  | 0  | 2  | 0  | 0  | 0  | 2  | 0  | 0  | 0  | 0  | 1  | 1  \n",
      "+----+----+----+----+----+----+----+----+----+----+----+----+----+----+----+----+----+----+----+----+----+----+----+----+----+----+----+----+----+----\n",
      "| 0  | 0  | 12 | 2  | 1  | 0  | 0  | 0  | 1  | 4  | 2  | 4  | 0  | 0  | 0  | 0  | 1  | 0  | 1  | 0  | 0  | 0  | 0  | 1  | 0  | 3  | 0  | 0  | 0  | 0  \n",
      "+----+----+----+----+----+----+----+----+----+----+----+----+----+----+----+----+----+----+----+----+----+----+----+----+----+----+----+----+----+----\n",
      "| 0  | 1  | 2  | 0  | 0  | 0  | 0  | 0  | 0  | 2  | 2  | 0  | 0  | 0  | 0  | 1  | 0  | 0  | 0  | 0  | 0  | 0  | 0  | 1  | 0  | 3  | 0  | 0  | 0  | 0  \n",
      "+----+----+----+----+----+----+----+----+----+----+----+----+----+----+----+----+----+----+----+----+----+----+----+----+----+----+----+----+----+----\n",
      "| 0  | 0  | 0  | 1  | 0  | 2  | 0  | 0  | 0  | 0  | 0  | 0  | 1  | 0  | 0  | 1  | 1  | 12 | 0  | 1  | 0  | 0  | 1  | 0  | 0  | 6  | 0  | 0  | 0  | 0  \n",
      "+----+----+----+----+----+----+----+----+----+----+----+----+----+----+----+----+----+----+----+----+----+----+----+----+----+----+----+----+----+----\n",
      "| 0  | 0  | 0  | 2  | 0  | 0  | 0  | 0  | 1  | 0  | 0  | 0  | 0  | 0  | 0  | 1  | 0  | 0  | 1  | 2  | 0  | 0  | 0  | 1  | 1  | 0  | 0  | 8  | 1  | 0  \n",
      "+----+----+----+----+----+----+----+----+----+----+----+----+----+----+----+----+----+----+----+----+----+----+----+----+----+----+----+----+----+----\n",
      "| 0  | 0  | 0  | 0  | 0  | 0  | 0  | 0  | 1  | 0  | 0  | 0  | 0  | 0  | 0  | 0  | 0  | 0  | 1  | 0  | 1  | 0  | 0  | 8  | 0  | 2  | 1  | 0  | 0  | 0  \n",
      "+----+----+----+----+----+----+----+----+----+----+----+----+----+----+----+----+----+----+----+----+----+----+----+----+----+----+----+----+----+----\n",
      "| 1  | 1  | 0  | 1  | 0  | 0  | 1  | 0  | 0  | 4  | 1  | 0  | 1  | 0  | 0  | 0  | 1  | 0  | 1  | 0  | 0  | 0  | 0  | 1  | 1  | 8  | 0  | 0  | 6  | 0  \n",
      "+----+----+----+----+----+----+----+----+----+----+----+----+----+----+----+----+----+----+----+----+----+----+----+----+----+----+----+----+----+----\n",
      "| 0  | 1  | 3  | 0  | 0  | 0  | 2  | 3  | 3  | 2  | 1  | 1  | 0  | 0  | 0  | 0  | 0  | 0  | 3  | 1  | 0  | 0  | 0  | 0  | 1  | 0  | 0  | 2  | 0  | 0  \n",
      "+----+----+----+----+----+----+----+----+----+----+----+----+----+----+----+----+----+----+----+----+----+----+----+----+----+----+----+----+----+----\n",
      "| 0  | 1  | 0  | 1  | 1  | 0  | 0  | 0  | 0  | 0  | 0  | 0  | 0  | 0  | 0  | 0  | 0  | 0  | 0  | 0  | 0  | 0  | 0  | 0  | 0  | 1  | 1  | 2  | 0  | 0  \n",
      "+----+----+----+----+----+----+----+----+----+----+----+----+----+----+----+----+----+----+----+----+----+----+----+----+----+----+----+----+----+----\n",
      "| 0  | 1  | 0  | 2  | 5  | 0  | 1  | 0  | 0  | 1  | 1  | 0  | 0  | 0  | 1  | 0  | 0  | 0  | 0  | 1  | 0  | 1  | 0  | 0  | 0  | 0  | 0  | 1  | 0  | 1  \n",
      "+----+----+----+----+----+----+----+----+----+----+----+----+----+----+----+----+----+----+----+----+----+----+----+----+----+----+----+----+----+----\n",
      "| 0  | 1  | 1  | 2  | 2  | 1  | 0  | 0  | 1  | 0  | 1  | 0  | 0  | 0  | 0  | 1  | 0  | 0  | 1  | 1  | 0  | 0  | 0  | 0  | 1  | 3  | 1  | 24 | 0  | 0  \n",
      "+----+----+----+----+----+----+----+----+----+----+----+----+----+----+----+----+----+----+----+----+----+----+----+----+----+----+----+----+----+----\n",
      "| 0  | 0  | 0  | 1  | 2  | 0  | 1  | 1  | 2  | 1  | 0  | 0  | 0  | 0  | 0  | 0  | 2  | 0  | 1  | 0  | 0  | 0  | 0  | 1  | 2  | 1  | 1  | 5  | 0  | 0  \n",
      "+----+----+----+----+----+----+----+----+----+----+----+----+----+----+----+----+----+----+----+----+----+----+----+----+----+----+----+----+----+----\n",
      "| 0  | 0  | 6  | 0  | 0  | 0  | 0  | 0  | 5  | 2  | 0  | 2  | 0  | 0  | 0  | 0  | 0  | 0  | 0  | 0  | 1  | 0  | 0  | 1  | 0  | 2  | 0  | 0  | 1  | 0  \n",
      "+----+----+----+----+----+----+----+----+----+----+----+----+----+----+----+----+----+----+----+----+----+----+----+----+----+----+----+----+----+----\n",
      "| 0  | 0  | 0  | 0  | 0  | 0  | 1  | 0  | 0  | 0  | 0  | 0  | 0  | 0  | 0  | 0  | 0  | 0  | 0  | 1  | 0  | 0  | 0  | 0  | 0  | 0  | 0  | 0  | 0  | 0  \n",
      "+----+----+----+----+----+----+----+----+----+----+----+----+----+----+----+----+----+----+----+----+----+----+----+----+----+----+----+----+----+----\n",
      "| 0  | 0  | 0  | 1  | 0  | 0  | 3  | 1  | 21 | 1  | 1  | 0  | 1  | 0  | 1  | 0  | 3  | 0  | 0  | 0  | 0  | 1  | 0  | 0  | 0  | 0  | 0  | 1  | 0  | 0  \n",
      "+----+----+----+----+----+----+----+----+----+----+----+----+----+----+----+----+----+----+----+----+----+----+----+----+----+----+----+----+----+----\n",
      "| 0  | 0  | 0  | 0  | 0  | 0  | 0  | 0  | 2  | 0  | 0  | 0  | 3  | 0  | 0  | 0  | 0  | 2  | 0  | 0  | 0  | 0  | 0  | 18 | 0  | 1  | 0  | 3  | 0  | 0  \n",
      "+----+----+----+----+----+----+----+----+----+----+----+----+----+----+----+----+----+----+----+----+----+----+----+----+----+----+----+----+----+----\n"
     ]
    }
   ],
   "source": [
    "confusion_matrix_fine = np.zeros(shape=(100,100), dtype=np.int16)\n",
    "for i in range(10000):\n",
    "    confusion_matrix_fine[tstLabelsFine[i], predict_cnn_fine[i]] += 1\n",
    "# This is some html trickery to prevent prints from wrapping, so that we can display more of the confusion matrix\n",
    "display(HTML(\"<style>div.output_area pre {white-space: pre;}</style>\"))\n",
    "\n",
    "for i in range(50):\n",
    "    for j in range(30):\n",
    "        print(\"|\", confusion_matrix_fine[i, j], end = \"\")\n",
    "        if (confusion_matrix_fine[i,j] < 10):\n",
    "            print(\" \", end=\"\")\n",
    "        if (confusion_matrix_fine[i, j] < 100):\n",
    "            print(\" \", end=\"\")\n",
    "    print()\n",
    "    print(\"+----+----+----+----+----+----+----+----+----+----+----+----+----+----+----+----+----+----+----+----+----+----+----+----+----+----+----+----+----+----\")\n"
   ]
  },
  {
   "cell_type": "markdown",
   "id": "cb303cf0-e6e9-41da-8af9-61f9f561cf23",
   "metadata": {},
   "source": [
    "On the fine labels, it doesn't have the same issue it did with the coarse labels where one category got a disproportionate amount of false positives. Other than the sparse hotspots where one specific category is frequently mistaken for another specific category, this is far more even than the coarse labels."
   ]
  },
  {
   "cell_type": "code",
   "execution_count": null,
   "id": "1b7a2db4-bc2f-4af6-a14a-340d75469c82",
   "metadata": {},
   "outputs": [],
   "source": []
  }
 ],
 "metadata": {
  "kernelspec": {
   "display_name": "Python 3 (ipykernel)",
   "language": "python",
   "name": "python3"
  },
  "language_info": {
   "codemirror_mode": {
    "name": "ipython",
    "version": 3
   },
   "file_extension": ".py",
   "mimetype": "text/x-python",
   "name": "python",
   "nbconvert_exporter": "python",
   "pygments_lexer": "ipython3",
   "version": "3.10.7"
  }
 },
 "nbformat": 4,
 "nbformat_minor": 5
}
